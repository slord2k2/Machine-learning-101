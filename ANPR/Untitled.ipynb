{
 "cells": [
  {
   "cell_type": "code",
   "execution_count": 9,
   "id": "60210a08",
   "metadata": {},
   "outputs": [],
   "source": [
    "import cv2\n",
    "import numpy as np\n",
    "\n",
    "# Load the image and convert to grayscale\n",
    "img = cv2.imread('Plate_examples\\india_car_plate.jpg')\n",
    "gray = cv2.cvtColor(img, cv2.COLOR_BGR2GRAY)\n",
    "\n",
    "# Apply Gaussian blur to the grayscale image\n",
    "blur = cv2.GaussianBlur(gray, (5,5), 0)\n",
    "\n",
    "# Apply Canny edge detection to the blurred image\n",
    "canny = cv2.Canny(blur, 100, 200)\n",
    "\n",
    "# Find contours in the Canny image\n",
    "contours, hierarchy = cv2.findContours(canny, cv2.RETR_EXTERNAL, cv2.CHAIN_APPROX_SIMPLE)\n",
    "\n",
    "# Sort the contours by area in descending order\n",
    "contours = sorted(contours, key=cv2.contourArea, reverse=True)[:10]\n",
    "\n",
    "# Initialize the number plate contour\n",
    "screenCnt = None\n",
    "\n",
    "# Loop over the contours\n",
    "for contour in contours:\n",
    "    # Approximate the contour to a polygon\n",
    "    peri = cv2.arcLength(contour, True)\n",
    "    approx = cv2.approxPolyDP(contour, 0.018 * peri, True)\n",
    "\n",
    "    # If the polygon has four vertices, it is likely the number plate\n",
    "    if len(approx) == 4:\n",
    "        screenCnt = approx\n",
    "        break\n",
    "\n",
    "# If we found the number plate contour, draw it and extract the plate region\n",
    "if screenCnt is not None:\n",
    "    cv2.drawContours(img, [screenCnt], -1, (0, 0, 255), 3)\n",
    "    mask = np.zeros(gray.shape, np.uint8)\n",
    "    new_image = cv2.drawContours(mask, [screenCnt], 0, 255, -1)\n",
    "    new_image = cv2.bitwise_and(img, img, mask=mask)\n",
    "\n",
    "    # Get the coordinates of the plate region\n",
    "    (x, y) = np.where(mask == 255)\n",
    "    (x1, y1) = (np.min(x), np.min(y))\n",
    "    (x2, y2) = (np.max(x), np.max(y))\n",
    "    # Extract the plate region from the original image\n",
    "    plate_img = gray[x1:x2+1, y1:y2+1]\n",
    "\n",
    "    # Display the number plate region\n",
    "    img=cv2.resize(img,(500,300))\n",
    "    cropped_image=cv2.resize(plate_img,(400,200))\n",
    "    cv2.imshow('car', img)\n",
    "    cv2.imshow('Cropped', cropped_image)\n",
    "    cv2.waitKey(0)\n",
    "    cv2.destroyAllWindows()\n",
    "else:\n",
    "    print('Number plate not found!')\n"
   ]
  },
  {
   "cell_type": "code",
   "execution_count": 10,
   "id": "b6dd1fd3",
   "metadata": {},
   "outputs": [],
   "source": [
    "# remove warning message\n",
    "import os\n",
    "os.environ['TF_CPP_MIN_LOG_LEVEL'] = '3'\n",
    "\n",
    "# required library\n",
    "import cv2\n",
    "import numpy as np\n",
    "import matplotlib.pyplot as plt\n",
    "import matplotlib.gridspec as gridspec\n",
    "# from local_utils import detect_lp\n",
    "from os.path import splitext,basename\n",
    "from keras.models import model_from_json\n",
    "import glob"
   ]
  },
  {
   "cell_type": "code",
   "execution_count": 11,
   "id": "8ed89ed7",
   "metadata": {},
   "outputs": [
    {
     "ename": "error",
     "evalue": "OpenCV(4.7.0) d:\\a\\opencv-python\\opencv-python\\opencv\\modules\\imgproc\\src\\color.simd_helpers.hpp:92: error: (-2:Unspecified error) in function '__cdecl cv::impl::`anonymous-namespace'::CvtHelper<struct cv::impl::`anonymous namespace'::Set<3,4,-1>,struct cv::impl::A0x981fb336::Set<1,-1,-1>,struct cv::impl::A0x981fb336::Set<0,2,5>,2>::CvtHelper(const class cv::_InputArray &,const class cv::_OutputArray &,int)'\n> Invalid number of channels in input image:\n>     'VScn::contains(scn)'\n> where\n>     'scn' is 1\n",
     "output_type": "error",
     "traceback": [
      "\u001b[1;31m---------------------------------------------------------------------------\u001b[0m",
      "\u001b[1;31merror\u001b[0m                                     Traceback (most recent call last)",
      "Cell \u001b[1;32mIn[11], line 4\u001b[0m\n\u001b[0;32m      1\u001b[0m plate_image \u001b[38;5;241m=\u001b[39m cv2\u001b[38;5;241m.\u001b[39mconvertScaleAbs(cropped_image)\n\u001b[0;32m      2\u001b[0m \u001b[38;5;66;03m# plt.imshow(plate_image)\u001b[39;00m\n\u001b[0;32m      3\u001b[0m \u001b[38;5;66;03m#     # convert to grayscale and blur the image\u001b[39;00m\n\u001b[1;32m----> 4\u001b[0m gray \u001b[38;5;241m=\u001b[39m \u001b[43mcv2\u001b[49m\u001b[38;5;241;43m.\u001b[39;49m\u001b[43mcvtColor\u001b[49m\u001b[43m(\u001b[49m\u001b[43mplate_image\u001b[49m\u001b[43m,\u001b[49m\u001b[43m \u001b[49m\u001b[43mcv2\u001b[49m\u001b[38;5;241;43m.\u001b[39;49m\u001b[43mCOLOR_BGR2GRAY\u001b[49m\u001b[43m)\u001b[49m\n\u001b[0;32m      5\u001b[0m blur \u001b[38;5;241m=\u001b[39m cv2\u001b[38;5;241m.\u001b[39mGaussianBlur(gray,(\u001b[38;5;241m7\u001b[39m,\u001b[38;5;241m7\u001b[39m),\u001b[38;5;241m0\u001b[39m)\n\u001b[0;32m      7\u001b[0m \u001b[38;5;66;03m#     # Applied inversed thresh_binary \u001b[39;00m\n",
      "\u001b[1;31merror\u001b[0m: OpenCV(4.7.0) d:\\a\\opencv-python\\opencv-python\\opencv\\modules\\imgproc\\src\\color.simd_helpers.hpp:92: error: (-2:Unspecified error) in function '__cdecl cv::impl::`anonymous-namespace'::CvtHelper<struct cv::impl::`anonymous namespace'::Set<3,4,-1>,struct cv::impl::A0x981fb336::Set<1,-1,-1>,struct cv::impl::A0x981fb336::Set<0,2,5>,2>::CvtHelper(const class cv::_InputArray &,const class cv::_OutputArray &,int)'\n> Invalid number of channels in input image:\n>     'VScn::contains(scn)'\n> where\n>     'scn' is 1\n"
     ]
    }
   ],
   "source": [
    "plate_image = cv2.convertScaleAbs(cropped_image)\n",
    "# plt.imshow(plate_image)\n",
    "#     # convert to grayscale and blur the image\n",
    "gray = cv2.cvtColor(plate_image, cv2.COLOR_BGR2GRAY)\n",
    "blur = cv2.GaussianBlur(gray,(7,7),0)\n",
    "    \n",
    "#     # Applied inversed thresh_binary \n",
    "binary = cv2.threshold(blur, 180, 255,cv2.THRESH_BINARY_INV + cv2.THRESH_OTSU)[1]\n",
    "    \n",
    "kernel3 = cv2.getStructuringElement(cv2.MORPH_RECT, (3, 3))\n",
    "thre_mor = cv2.morphologyEx(binary, cv2.MORPH_DILATE, kernel3)\n",
    "\n",
    "    \n",
    "# # # visualize results    \n",
    "fig = plt.figure(figsize=(12,7))\n",
    "plt.rcParams.update({\"font.size\":18})\n",
    "grid = gridspec.GridSpec(ncols=2,nrows=3,figure = fig)\n",
    "plot_image = [plate_image, gray, blur, binary,thre_mor]\n",
    "plot_name = [\"plate_image\",\"gray\",\"blur\",\"binary\",\"dilation\"]\n",
    "\n",
    "for i in range(len(plot_image)):\n",
    "    fig.add_subplot(grid[i])\n",
    "    plt.axis(False)\n",
    "    plt.title(plot_name[i])\n",
    "    if i ==0:\n",
    "        plt.imshow(plot_image[i])\n",
    "    else:\n",
    "        plt.imshow(plot_image[i],cmap=\"gray\")"
   ]
  },
  {
   "cell_type": "code",
   "execution_count": null,
   "id": "9a4ecc5c",
   "metadata": {},
   "outputs": [],
   "source": []
  }
 ],
 "metadata": {
  "kernelspec": {
   "display_name": "Python 3 (ipykernel)",
   "language": "python",
   "name": "python3"
  },
  "language_info": {
   "codemirror_mode": {
    "name": "ipython",
    "version": 3
   },
   "file_extension": ".py",
   "mimetype": "text/x-python",
   "name": "python",
   "nbconvert_exporter": "python",
   "pygments_lexer": "ipython3",
   "version": "3.11.1"
  }
 },
 "nbformat": 4,
 "nbformat_minor": 5
}
