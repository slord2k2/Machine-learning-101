{
 "cells": [
  {
   "cell_type": "code",
   "execution_count": null,
   "id": "cd0a94f7",
   "metadata": {},
   "outputs": [],
   "source": [
    "import cv2\n",
    "import numpy as np\n",
    "from keras.models import model_from_json\n",
    "from keras.preprocessing.image import ImageDataGenerator\n",
    "from skimage import transform\n",
    "import matplotlib.pyplot as plt\n",
    "\n",
    "# Load the trained model\n",
    "json_file = open('wpod-net.json', 'r')\n",
    "loaded_model_json = json_file.read()\n",
    "json_file.close()\n",
    "model = model_from_json(loaded_model_json)\n",
    "model.load_weights('wpod-net.h5')\n",
    "\n",
    "# Define the plate detection function\n",
    "def detect_plate(image_path):\n",
    "    # Load the image\n",
    "    img = cv2.imread(image_path)\n",
    "    # Convert the image to grayscale\n",
    "    gray = cv2.cvtColor(img, cv2.COLOR_BGR2GRAY)\n",
    "    # Apply Gaussian blur to the image\n",
    "    gray = cv2.GaussianBlur(gray, (7,7), 0)\n",
    "    # Threshold the image\n",
    "    ret, thresh = cv2.threshold(gray, 127, 255, cv2.THRESH_BINARY)\n",
    "    # Find contours in the image\n",
    "    contours, hierarchy = cv2.findContours(thresh, cv2.RETR_TREE, cv2.CHAIN_APPROX_SIMPLE)\n",
    "    # Sort the contours by area\n",
    "    contours = sorted(contours, key=lambda x: cv2.contourArea(x), reverse=True)\n",
    "    # Keep the top 5 contours\n",
    "    contours = contours[:5]\n",
    "    # Iterate over the contours and detect the plate\n",
    "    for contour in contours:\n",
    "        # Get the bounding box of the contour\n",
    "        x,y,w,h = cv2.boundingRect(contour)\n",
    "        # Extract the plate region from the image\n",
    "        plate_img = img[y:y+h, x:x+w]\n",
    "        # Resize the plate region to 128x128\n",
    "        plate_img = transform.resize(plate_img, (128, 128))\n",
    "        # Normalize the plate region\n",
    "        plate_img = plate_img / 255.\n",
    "        # Reshape the plate region to (1, 128, 128, 3)\n",
    "        plate_img = plate_img.reshape((1, 128, 128, 3))\n",
    "        # Display the cropped plate image using Matplotlib\n",
    "        resized_plate_img = cv2.resize(plate_img, (256, 256))\n",
    "        plt.imshow(resized_plate_img)\n",
    "        plt.axis('off')\n",
    "        plt.show()\n",
    "\n",
    "# Call the plate detection function\n",
    "detect_plate('germany_car_plate.jpg')"
   ]
  },
  {
   "cell_type": "code",
   "execution_count": null,
   "id": "dac70f96",
   "metadata": {},
   "outputs": [],
   "source": []
  }
 ],
 "metadata": {
  "kernelspec": {
   "display_name": "Python 3 (ipykernel)",
   "language": "python",
   "name": "python3"
  },
  "language_info": {
   "codemirror_mode": {
    "name": "ipython",
    "version": 3
   },
   "file_extension": ".py",
   "mimetype": "text/x-python",
   "name": "python",
   "nbconvert_exporter": "python",
   "pygments_lexer": "ipython3",
   "version": "3.11.1"
  }
 },
 "nbformat": 4,
 "nbformat_minor": 5
}
