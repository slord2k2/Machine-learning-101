{
 "cells": [
  {
   "cell_type": "code",
   "execution_count": 2,
   "metadata": {},
   "outputs": [],
   "source": [
    "import numpy as np\n",
    "import pandas as pd\n",
    "import matplotlib.pyplot as plt\n",
    "%matplotlib inline\n",
    "import seaborn as sns\n",
    "from sklearn.model_selection import train_test_split"
   ]
  },
  {
   "cell_type": "code",
   "execution_count": 3,
   "metadata": {},
   "outputs": [],
   "source": [
    "X_train = pd.read_csv('train.csv')\n",
    "# test_df = pd.read_csv('test.csv')\n",
    "# X_train.head()\n",
    "X_train,X_test,y_train,y_test = train_test_split(X_train.drop('ACTION',axis=1),X_train['ACTION'],test_size=0.3,random_state=101)"
   ]
  },
  {
   "cell_type": "code",
   "execution_count": 9,
   "metadata": {},
   "outputs": [
    {
     "data": {
      "text/plain": [
       "((22938, 9), (9831, 9))"
      ]
     },
     "execution_count": 9,
     "metadata": {},
     "output_type": "execute_result"
    }
   ],
   "source": [
    "X_train.shape,X_test.shape"
   ]
  },
  {
   "cell_type": "code",
   "execution_count": 11,
   "metadata": {},
   "outputs": [],
   "source": [
    "from sklearn.preprocessing import OneHotEncoder"
   ]
  },
  {
   "cell_type": "code",
   "execution_count": 12,
   "metadata": {},
   "outputs": [
    {
     "data": {
      "text/plain": [
       "4675     587\n",
       "79092    333\n",
       "75078    293\n",
       "3853     293\n",
       "25993    289\n",
       "        ... \n",
       "31640      1\n",
       "45796      1\n",
       "44292      1\n",
       "41580      1\n",
       "34848      1\n",
       "Name: RESOURCE, Length: 6229, dtype: int64"
      ]
     },
     "execution_count": 12,
     "metadata": {},
     "output_type": "execute_result"
    }
   ],
   "source": [
    "X_train['RESOURCE'].value_counts()"
   ]
  },
  {
   "cell_type": "code",
   "execution_count": 14,
   "metadata": {},
   "outputs": [
    {
     "name": "stderr",
     "output_type": "stream",
     "text": [
      "c:\\Users\\harsh\\AppData\\Local\\Programs\\Python\\Python311\\Lib\\site-packages\\sklearn\\preprocessing\\_encoders.py:182: UserWarning: Found unknown categories in columns [0] during transform. These unknown categories will be encoded as all zeros\n",
      "  warnings.warn(\n"
     ]
    },
    {
     "data": {
      "text/plain": [
       "((22938, 6228), (9831, 6228))"
      ]
     },
     "execution_count": 14,
     "metadata": {},
     "output_type": "execute_result"
    }
   ],
   "source": [
    "ohe=OneHotEncoder(handle_unknown='ignore',drop='first',dtype=np.int8)\n",
    "ohe.fit(X_train[\"RESOURCE\"].values.reshape(-1,1))\n",
    "train_resource_ohe = ohe.transform(X_train[\"RESOURCE\"].values.reshape(-1,1))\n",
    "test_resource_ohe = ohe.transform(X_test[\"RESOURCE\"].values.reshape(-1,1))\n",
    "train_resource_ohe.shape,test_resource_ohe.shape"
   ]
  },
  {
   "cell_type": "code",
   "execution_count": 15,
   "metadata": {},
   "outputs": [
    {
     "name": "stderr",
     "output_type": "stream",
     "text": [
      "c:\\Users\\harsh\\AppData\\Local\\Programs\\Python\\Python311\\Lib\\site-packages\\sklearn\\preprocessing\\_encoders.py:182: UserWarning: Found unknown categories in columns [0] during transform. These unknown categories will be encoded as all zeros\n",
      "  warnings.warn(\n"
     ]
    },
    {
     "data": {
      "text/plain": [
       "((22938, 3936), (9831, 3936))"
      ]
     },
     "execution_count": 15,
     "metadata": {},
     "output_type": "execute_result"
    }
   ],
   "source": [
    "ohe=OneHotEncoder(handle_unknown='ignore',drop='first',dtype=np.int8)\n",
    "ohe.fit(X_train[\"MGR_ID\"].values.reshape(-1,1))\n",
    "train_mgr_ohe=ohe.transform(X_train[\"MGR_ID\"].values.reshape(-1,1))\n",
    "test_mgr_ohe=ohe.transform(X_test[\"MGR_ID\"].values.reshape(-1,1))\n",
    "train_mgr_ohe.shape,test_mgr_ohe.shape"
   ]
  },
  {
   "cell_type": "code",
   "execution_count": 16,
   "metadata": {},
   "outputs": [
    {
     "name": "stderr",
     "output_type": "stream",
     "text": [
      "c:\\Users\\harsh\\AppData\\Local\\Programs\\Python\\Python311\\Lib\\site-packages\\sklearn\\preprocessing\\_encoders.py:182: UserWarning: Found unknown categories in columns [0] during transform. These unknown categories will be encoded as all zeros\n",
      "  warnings.warn(\n"
     ]
    },
    {
     "data": {
      "text/plain": [
       "((22938, 123), (9831, 123))"
      ]
     },
     "execution_count": 16,
     "metadata": {},
     "output_type": "execute_result"
    }
   ],
   "source": [
    "ohe=OneHotEncoder(handle_unknown='ignore',drop='first',dtype=np.int8)\n",
    "ohe.fit(X_train[\"ROLE_ROLLUP_1\"].values.reshape(-1,1))\n",
    "train_roleup1_ohe=ohe.transform(X_train[\"ROLE_ROLLUP_1\"].values.reshape(-1,1))\n",
    "test_roleup1_ohe=ohe.transform(X_test[\"ROLE_ROLLUP_1\"].values.reshape(-1,1))\n",
    "train_roleup1_ohe.shape,test_roleup1_ohe.shape"
   ]
  },
  {
   "cell_type": "code",
   "execution_count": 17,
   "metadata": {},
   "outputs": [
    {
     "name": "stderr",
     "output_type": "stream",
     "text": [
      "c:\\Users\\harsh\\AppData\\Local\\Programs\\Python\\Python311\\Lib\\site-packages\\sklearn\\preprocessing\\_encoders.py:182: UserWarning: Found unknown categories in columns [0] during transform. These unknown categories will be encoded as all zeros\n",
      "  warnings.warn(\n",
      "c:\\Users\\harsh\\AppData\\Local\\Programs\\Python\\Python311\\Lib\\site-packages\\sklearn\\preprocessing\\_encoders.py:182: UserWarning: Found unknown categories in columns [0] during transform. These unknown categories will be encoded as all zeros\n",
      "  warnings.warn(\n"
     ]
    },
    {
     "data": {
      "text/plain": [
       "((22938, 123), (9831, 123))"
      ]
     },
     "execution_count": 17,
     "metadata": {},
     "output_type": "execute_result"
    }
   ],
   "source": [
    "ohe=OneHotEncoder(handle_unknown='ignore',drop='first',dtype=np.int8)\n",
    "ohe.fit(X_train[\"ROLE_ROLLUP_1\"].values.reshape(-1,1))\n",
    "train_roleup2_ohe=ohe.transform(X_train[\"ROLE_ROLLUP_2\"].values.reshape(-1,1))\n",
    "test_roleup2_ohe=ohe.transform(X_test[\"ROLE_ROLLUP_2\"].values.reshape(-1,1))\n",
    "train_roleup2_ohe.shape,test_roleup2_ohe.shape"
   ]
  },
  {
   "cell_type": "code",
   "execution_count": 18,
   "metadata": {},
   "outputs": [
    {
     "name": "stderr",
     "output_type": "stream",
     "text": [
      "c:\\Users\\harsh\\AppData\\Local\\Programs\\Python\\Python311\\Lib\\site-packages\\sklearn\\preprocessing\\_encoders.py:182: UserWarning: Found unknown categories in columns [0] during transform. These unknown categories will be encoded as all zeros\n",
      "  warnings.warn(\n"
     ]
    },
    {
     "data": {
      "text/plain": [
       "((22938, 441), (9831, 441))"
      ]
     },
     "execution_count": 18,
     "metadata": {},
     "output_type": "execute_result"
    }
   ],
   "source": [
    "ohe=OneHotEncoder(handle_unknown='ignore',drop='first',dtype=np.int8)\n",
    "ohe.fit(X_train[\"ROLE_DEPTNAME\"].values.reshape(-1,1))\n",
    "train_deptname_ohe=ohe.transform(X_train[\"ROLE_DEPTNAME\"].values.reshape(-1,1))\n",
    "test_deptname_ohe=ohe.transform(X_test[\"ROLE_DEPTNAME\"].values.reshape(-1,1))\n",
    "train_deptname_ohe.shape,test_deptname_ohe.shape"
   ]
  },
  {
   "cell_type": "code",
   "execution_count": 19,
   "metadata": {},
   "outputs": [
    {
     "name": "stderr",
     "output_type": "stream",
     "text": [
      "c:\\Users\\harsh\\AppData\\Local\\Programs\\Python\\Python311\\Lib\\site-packages\\sklearn\\preprocessing\\_encoders.py:182: UserWarning: Found unknown categories in columns [0] during transform. These unknown categories will be encoded as all zeros\n",
      "  warnings.warn(\n"
     ]
    },
    {
     "data": {
      "text/plain": [
       "((22938, 336), (9831, 336))"
      ]
     },
     "execution_count": 19,
     "metadata": {},
     "output_type": "execute_result"
    }
   ],
   "source": [
    "ohe=OneHotEncoder(handle_unknown='ignore',drop='first',dtype=np.int8)\n",
    "ohe.fit(X_train[\"ROLE_TITLE\"].values.reshape(-1,1))\n",
    "train_roletitle_ohe=ohe.transform(X_train[\"ROLE_TITLE\"].values.reshape(-1,1))\n",
    "test_roletitle_ohe=ohe.transform(X_test[\"ROLE_TITLE\"].values.reshape(-1,1))\n",
    "train_roletitle_ohe.shape,test_roletitle_ohe.shape"
   ]
  },
  {
   "cell_type": "code",
   "execution_count": 20,
   "metadata": {},
   "outputs": [
    {
     "name": "stderr",
     "output_type": "stream",
     "text": [
      "c:\\Users\\harsh\\AppData\\Local\\Programs\\Python\\Python311\\Lib\\site-packages\\sklearn\\preprocessing\\_encoders.py:182: UserWarning: Found unknown categories in columns [0] during transform. These unknown categories will be encoded as all zeros\n",
      "  warnings.warn(\n"
     ]
    },
    {
     "data": {
      "text/plain": [
       "((22938, 2138), (9831, 2138))"
      ]
     },
     "execution_count": 20,
     "metadata": {},
     "output_type": "execute_result"
    }
   ],
   "source": [
    "ohe=OneHotEncoder(handle_unknown='ignore',drop='first',dtype=np.int8)\n",
    "ohe.fit(X_train[\"ROLE_FAMILY_DESC\"].values.reshape(-1,1))\n",
    "train_rolefamilydesc_ohe=ohe.transform(X_train[\"ROLE_FAMILY_DESC\"].values.reshape(-1,1))\n",
    "test_rolefamilydesc_ohe=ohe.transform(X_test[\"ROLE_FAMILY_DESC\"].values.reshape(-1,1))\n",
    "train_rolefamilydesc_ohe.shape,test_rolefamilydesc_ohe.shape"
   ]
  },
  {
   "cell_type": "code",
   "execution_count": 21,
   "metadata": {},
   "outputs": [
    {
     "data": {
      "text/plain": [
       "((22938, 66), (9831, 66))"
      ]
     },
     "execution_count": 21,
     "metadata": {},
     "output_type": "execute_result"
    }
   ],
   "source": [
    "ohe=OneHotEncoder(handle_unknown='ignore',drop='first',dtype=np.int8)\n",
    "ohe.fit(X_train[\"ROLE_FAMILY\"].values.reshape(-1,1))\n",
    "train_rolefamily_ohe=ohe.transform(X_train[\"ROLE_FAMILY\"].values.reshape(-1,1))\n",
    "test_rolefamily_ohe=ohe.transform(X_test[\"ROLE_FAMILY\"].values.reshape(-1,1))\n",
    "train_rolefamily_ohe.shape,test_rolefamily_ohe.shape"
   ]
  },
  {
   "cell_type": "code",
   "execution_count": 22,
   "metadata": {},
   "outputs": [
    {
     "name": "stderr",
     "output_type": "stream",
     "text": [
      "c:\\Users\\harsh\\AppData\\Local\\Programs\\Python\\Python311\\Lib\\site-packages\\sklearn\\preprocessing\\_encoders.py:182: UserWarning: Found unknown categories in columns [0] during transform. These unknown categories will be encoded as all zeros\n",
      "  warnings.warn(\n"
     ]
    },
    {
     "data": {
      "text/plain": [
       "((22938, 336), (9831, 336))"
      ]
     },
     "execution_count": 22,
     "metadata": {},
     "output_type": "execute_result"
    }
   ],
   "source": [
    "ohe=OneHotEncoder(handle_unknown='ignore',drop='first',dtype=np.int8)\n",
    "ohe.fit(X_train[\"ROLE_CODE\"].values.reshape(-1,1))\n",
    "train_rolecode_ohe=ohe.transform(X_train[\"ROLE_CODE\"].values.reshape(-1,1))\n",
    "test_rolecode_ohe=ohe.transform(X_test[\"ROLE_CODE\"].values.reshape(-1,1))\n",
    "train_rolecode_ohe.shape,test_rolecode_ohe.shape"
   ]
  },
  {
   "cell_type": "code",
   "execution_count": 23,
   "metadata": {},
   "outputs": [
    {
     "data": {
      "text/plain": [
       "(22938, 13391)"
      ]
     },
     "execution_count": 23,
     "metadata": {},
     "output_type": "execute_result"
    }
   ],
   "source": [
    "train_ohe= np.hstack((train_resource_ohe.toarray(),train_mgr_ohe.toarray(),train_roleup1_ohe.toarray(),train_roleup2_ohe.toarray(),train_deptname_ohe.toarray(),train_roletitle_ohe.toarray(),train_rolefamilydesc_ohe.toarray(),train_rolefamily_ohe.toarray()))\n",
    "train_ohe.shape"
   ]
  },
  {
   "cell_type": "code",
   "execution_count": 24,
   "metadata": {},
   "outputs": [],
   "source": [
    "test_ohe= np.hstack((test_resource_ohe.toarray(),test_mgr_ohe.toarray(),test_roleup1_ohe.toarray(),test_roleup2_ohe.toarray(),test_deptname_ohe.toarray(),test_roletitle_ohe.toarray(),test_rolefamilydesc_ohe.toarray(),test_rolefamily_ohe.toarray()))"
   ]
  },
  {
   "cell_type": "code",
   "execution_count": 35,
   "metadata": {},
   "outputs": [
    {
     "data": {
      "text/plain": [
       "((22938, 13391), (9831, 13391), (22938,))"
      ]
     },
     "execution_count": 35,
     "metadata": {},
     "output_type": "execute_result"
    }
   ],
   "source": [
    "train_ohe.shape,test_ohe.shape,y_train.shape"
   ]
  },
  {
   "cell_type": "code",
   "execution_count": null,
   "metadata": {},
   "outputs": [],
   "source": []
  }
 ],
 "metadata": {
  "kernelspec": {
   "display_name": "Python 3 (ipykernel)",
   "language": "python",
   "name": "python3"
  },
  "language_info": {
   "codemirror_mode": {
    "name": "ipython",
    "version": 3
   },
   "file_extension": ".py",
   "mimetype": "text/x-python",
   "name": "python",
   "nbconvert_exporter": "python",
   "pygments_lexer": "ipython3",
   "version": "3.11.1"
  },
  "vscode": {
   "interpreter": {
    "hash": "b5366fdf1b75ea46866cbb0dbf20c9c00a492271cd056179d726b8c91a378c13"
   }
  }
 },
 "nbformat": 4,
 "nbformat_minor": 2
}
