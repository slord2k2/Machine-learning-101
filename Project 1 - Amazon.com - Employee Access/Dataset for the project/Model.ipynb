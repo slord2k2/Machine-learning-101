{
 "cells": [
  {
   "cell_type": "code",
   "execution_count": 1,
   "metadata": {},
   "outputs": [],
   "source": [
    "import numpy as np\n",
    "import pandas as pd\n",
    "import matplotlib.pyplot as plt\n",
    "%matplotlib inline\n",
    "import seaborn as sns\n",
    "import math\n",
    "from scipy import sparse"
   ]
  },
  {
   "cell_type": "code",
   "execution_count": 2,
   "metadata": {},
   "outputs": [],
   "source": [
    "# Common Varibles\n",
    "random_state=42\n",
    "cv=5\n",
    "scoring='roc_auc'\n",
    "verbose=2"
   ]
  },
  {
   "cell_type": "markdown",
   "metadata": {},
   "source": [
    "I'll be performing classification models on raw data and on OHE."
   ]
  },
  {
   "cell_type": "code",
   "execution_count": 3,
   "metadata": {},
   "outputs": [],
   "source": [
    "train_data=pd.read_csv('train.csv')\n",
    "test=pd.read_csv('test.csv')\n",
    "test_data=test.drop(columns=['id'],axis=1)"
   ]
  },
  {
   "cell_type": "code",
   "execution_count": 4,
   "metadata": {},
   "outputs": [
    {
     "data": {
      "text/plain": [
       "((32769, 9), (32769,))"
      ]
     },
     "execution_count": 4,
     "metadata": {},
     "output_type": "execute_result"
    }
   ],
   "source": [
    "y_true=train_data['ACTION']\n",
    "train_data=train_data.drop(['ACTION'],axis=1)\n",
    "train_data.shape,y_true.shape"
   ]
  },
  {
   "cell_type": "code",
   "execution_count": 5,
   "metadata": {},
   "outputs": [
    {
     "data": {
      "text/plain": [
       "((26215, 9), (6554, 9))"
      ]
     },
     "execution_count": 5,
     "metadata": {},
     "output_type": "execute_result"
    }
   ],
   "source": [
    "#splitting the dataset\n",
    "from sklearn.model_selection import train_test_split\n",
    "# Split dataset into training set and test set\n",
    "x_train, x_test, y_train, y_test = train_test_split(train_data,y_true, test_size=0.2,random_state=100)\n",
    "x_train.shape,x_test.shape"
   ]
  },
  {
   "cell_type": "markdown",
   "metadata": {},
   "source": [
    "KNN classifier"
   ]
  },
  {
   "cell_type": "code",
   "execution_count": 6,
   "metadata": {},
   "outputs": [],
   "source": [
    "from sklearn.neighbors import KNeighborsClassifier\n",
    "from sklearn.metrics import accuracy_score,ConfusionMatrixDisplay"
   ]
  },
  {
   "cell_type": "code",
   "execution_count": 7,
   "metadata": {},
   "outputs": [
    {
     "name": "stdout",
     "output_type": "stream",
     "text": [
      "Fitting 5 folds for each of 10 candidates, totalling 50 fits\n",
      "[CV] END ......................................n_neighbors=1; total time=   3.2s\n",
      "[CV] END ......................................n_neighbors=1; total time=   0.1s\n",
      "[CV] END ......................................n_neighbors=1; total time=   0.1s\n",
      "[CV] END ......................................n_neighbors=1; total time=   0.1s\n",
      "[CV] END ......................................n_neighbors=1; total time=   0.1s\n",
      "[CV] END .....................................n_neighbors=86; total time=   0.2s\n",
      "[CV] END .....................................n_neighbors=86; total time=   0.2s\n",
      "[CV] END .....................................n_neighbors=86; total time=   0.1s\n",
      "[CV] END .....................................n_neighbors=86; total time=   0.1s\n",
      "[CV] END .....................................n_neighbors=86; total time=   0.1s\n",
      "[CV] END .....................................n_neighbors=76; total time=   0.1s\n",
      "[CV] END .....................................n_neighbors=76; total time=   0.1s\n",
      "[CV] END .....................................n_neighbors=76; total time=   0.1s\n",
      "[CV] END .....................................n_neighbors=76; total time=   0.1s\n",
      "[CV] END .....................................n_neighbors=76; total time=   0.1s\n",
      "[CV] END ......................................n_neighbors=6; total time=   0.1s\n",
      "[CV] END ......................................n_neighbors=6; total time=   0.1s\n",
      "[CV] END ......................................n_neighbors=6; total time=   0.1s\n",
      "[CV] END ......................................n_neighbors=6; total time=   0.1s\n",
      "[CV] END ......................................n_neighbors=6; total time=   0.1s\n",
      "[CV] END .....................................n_neighbors=41; total time=   0.1s\n",
      "[CV] END .....................................n_neighbors=41; total time=   0.1s\n",
      "[CV] END .....................................n_neighbors=41; total time=   0.1s\n",
      "[CV] END .....................................n_neighbors=41; total time=   0.1s\n",
      "[CV] END .....................................n_neighbors=41; total time=   0.1s\n",
      "[CV] END .....................................n_neighbors=26; total time=   0.1s\n",
      "[CV] END .....................................n_neighbors=26; total time=   0.1s\n",
      "[CV] END .....................................n_neighbors=26; total time=   0.1s\n",
      "[CV] END .....................................n_neighbors=26; total time=   0.1s\n",
      "[CV] END .....................................n_neighbors=26; total time=   0.1s\n",
      "[CV] END .....................................n_neighbors=56; total time=   0.1s\n",
      "[CV] END .....................................n_neighbors=56; total time=   0.1s\n",
      "[CV] END .....................................n_neighbors=56; total time=   0.1s\n",
      "[CV] END .....................................n_neighbors=56; total time=   0.1s\n",
      "[CV] END .....................................n_neighbors=56; total time=   0.1s\n",
      "[CV] END .....................................n_neighbors=16; total time=   0.1s\n",
      "[CV] END .....................................n_neighbors=16; total time=   0.1s\n",
      "[CV] END .....................................n_neighbors=16; total time=   0.1s\n",
      "[CV] END .....................................n_neighbors=16; total time=   0.1s\n",
      "[CV] END .....................................n_neighbors=16; total time=   0.1s\n",
      "[CV] END .....................................n_neighbors=91; total time=   0.1s\n",
      "[CV] END .....................................n_neighbors=91; total time=   0.1s\n",
      "[CV] END .....................................n_neighbors=91; total time=   0.1s\n",
      "[CV] END .....................................n_neighbors=91; total time=   0.1s\n",
      "[CV] END .....................................n_neighbors=91; total time=   0.1s\n",
      "[CV] END .....................................n_neighbors=81; total time=   0.1s\n",
      "[CV] END .....................................n_neighbors=81; total time=   0.1s\n",
      "[CV] END .....................................n_neighbors=81; total time=   0.1s\n",
      "[CV] END .....................................n_neighbors=81; total time=   0.1s\n",
      "[CV] END .....................................n_neighbors=81; total time=   0.1s\n"
     ]
    }
   ],
   "source": [
    "knn = KNeighborsClassifier(n_jobs=-1)\n",
    "from sklearn.model_selection import RandomizedSearchCV\n",
    "k_range=np.arange(1,100,5)\n",
    "param_grid=dict(n_neighbors=k_range)\n",
    "grid=RandomizedSearchCV(knn,param_grid,cv=cv,random_state=random_state,scoring=scoring,verbose=verbose)\n",
    "grid_serch=grid.fit(x_train,y_train)"
   ]
  },
  {
   "cell_type": "code",
   "execution_count": 8,
   "metadata": {},
   "outputs": [
    {
     "data": {
      "text/plain": [
       "{'n_neighbors': 26}"
      ]
     },
     "execution_count": 8,
     "metadata": {},
     "output_type": "execute_result"
    }
   ],
   "source": [
    "grid_serch.best_params_"
   ]
  },
  {
   "cell_type": "code",
   "execution_count": 9,
   "metadata": {},
   "outputs": [
    {
     "data": {
      "text/plain": [
       "94.3240768996033"
      ]
     },
     "execution_count": 9,
     "metadata": {},
     "output_type": "execute_result"
    }
   ],
   "source": [
    "y_pred=grid.predict(x_test)\n",
    "test_acc_knn=accuracy_score(y_test,y_pred)*100\n",
    "test_acc_knn\n",
    "# knn=KNeighborsClassifier(n_neighbors=8)\n",
    "# knn.fit(x_train, y_train)\n",
    "# y_pred=knn.predict(x_test)\n",
    "# test_acc=accuracy_score(y_test,y_pred)*100\n",
    "# test_acc"
   ]
  },
  {
   "cell_type": "code",
   "execution_count": 10,
   "metadata": {},
   "outputs": [
    {
     "data": {
      "text/plain": [
       "0.5013404825737265"
      ]
     },
     "execution_count": 10,
     "metadata": {},
     "output_type": "execute_result"
    }
   ],
   "source": [
    "from sklearn.metrics import roc_auc_score\n",
    "auc_knn = roc_auc_score(y_test,y_pred)\n",
    "auc_knn"
   ]
  },
  {
   "cell_type": "code",
   "execution_count": 11,
   "metadata": {
    "scrolled": true
   },
   "outputs": [
    {
     "data": {
      "image/png": "[encoded data removed]",
      "text/plain": [
       "<Figure size 1000x300 with 1 Axes>"
      ]
     },
     "metadata": {},
     "output_type": "display_data"
    }
   ],
   "source": [
    "results=pd.DataFrame.from_dict(grid_serch.cv_results_)\n",
    "results=results.sort_values('param_n_neighbors')\n",
    "plt.figure(figsize=(10,3))\n",
    "plt.plot(results['param_n_neighbors'],results['mean_test_score']);\n",
    "plt.grid();\n",
    "plt.xlabel('Hyperparameter - No. of neighbors');\n",
    "plt.ylabel('Mean ROC_AUC');\n",
    "plt.title('Test score'); \n",
    "plt.grid();"
   ]
  },
  {
   "cell_type": "code",
   "execution_count": 12,
   "metadata": {},
   "outputs": [
    {
     "data": {
      "text/plain": [
       "26"
      ]
     },
     "execution_count": 12,
     "metadata": {},
     "output_type": "execute_result"
    }
   ],
   "source": [
    "best_c=grid_serch.best_params_['n_neighbors']\n",
    "best_c"
   ]
  },
  {
   "cell_type": "code",
   "execution_count": 13,
   "metadata": {},
   "outputs": [
    {
     "data": {
      "text/html": [
       "<style>#sk-container-id-1 {color: black;background-color: white;}#sk-container-id-1 pre{padding: 0;}#sk-container-id-1 div.sk-toggleable {background-color: white;}#sk-container-id-1 label.sk-toggleable__label {cursor: pointer;display: block;width: 100%;margin-bottom: 0;padding: 0.3em;box-sizing: border-box;text-align: center;}#sk-container-id-1 label.sk-toggleable__label-arrow:before {content: \"▸\";float: left;margin-right: 0.25em;color: #696969;}#sk-container-id-1 label.sk-toggleable__label-arrow:hover:before {color: black;}#sk-container-id-1 div.sk-estimator:hover label.sk-toggleable__label-arrow:before {color: black;}#sk-container-id-1 div.sk-toggleable__content {max-height: 0;max-width: 0;overflow: hidden;text-align: left;background-color: #f0f8ff;}#sk-container-id-1 div.sk-toggleable__content pre {margin: 0.2em;color: black;border-radius: 0.25em;background-color: #f0f8ff;}#sk-container-id-1 input.sk-toggleable__control:checked~div.sk-toggleable__content {max-height: 200px;max-width: 100%;overflow: auto;}#sk-container-id-1 input.sk-toggleable__control:checked~label.sk-toggleable__label-arrow:before {content: \"▾\";}#sk-container-id-1 div.sk-estimator input.sk-toggleable__control:checked~label.sk-toggleable__label {background-color: #d4ebff;}#sk-container-id-1 div.sk-label input.sk-toggleable__control:checked~label.sk-toggleable__label {background-color: #d4ebff;}#sk-container-id-1 input.sk-hidden--visually {border: 0;clip: rect(1px 1px 1px 1px);clip: rect(1px, 1px, 1px, 1px);height: 1px;margin: -1px;overflow: hidden;padding: 0;position: absolute;width: 1px;}#sk-container-id-1 div.sk-estimator {font-family: monospace;background-color: #f0f8ff;border: 1px dotted black;border-radius: 0.25em;box-sizing: border-box;margin-bottom: 0.5em;}#sk-container-id-1 div.sk-estimator:hover {background-color: #d4ebff;}#sk-container-id-1 div.sk-parallel-item::after {content: \"\";width: 100%;border-bottom: 1px solid gray;flex-grow: 1;}#sk-container-id-1 div.sk-label:hover label.sk-toggleable__label {background-color: #d4ebff;}#sk-container-id-1 div.sk-serial::before {content: \"\";position: absolute;border-left: 1px solid gray;box-sizing: border-box;top: 0;bottom: 0;left: 50%;z-index: 0;}#sk-container-id-1 div.sk-serial {display: flex;flex-direction: column;align-items: center;background-color: white;padding-right: 0.2em;padding-left: 0.2em;position: relative;}#sk-container-id-1 div.sk-item {position: relative;z-index: 1;}#sk-container-id-1 div.sk-parallel {display: flex;align-items: stretch;justify-content: center;background-color: white;position: relative;}#sk-container-id-1 div.sk-item::before, #sk-container-id-1 div.sk-parallel-item::before {content: \"\";position: absolute;border-left: 1px solid gray;box-sizing: border-box;top: 0;bottom: 0;left: 50%;z-index: -1;}#sk-container-id-1 div.sk-parallel-item {display: flex;flex-direction: column;z-index: 1;position: relative;background-color: white;}#sk-container-id-1 div.sk-parallel-item:first-child::after {align-self: flex-end;width: 50%;}#sk-container-id-1 div.sk-parallel-item:last-child::after {align-self: flex-start;width: 50%;}#sk-container-id-1 div.sk-parallel-item:only-child::after {width: 0;}#sk-container-id-1 div.sk-dashed-wrapped {border: 1px dashed gray;margin: 0 0.4em 0.5em 0.4em;box-sizing: border-box;padding-bottom: 0.4em;background-color: white;}#sk-container-id-1 div.sk-label label {font-family: monospace;font-weight: bold;display: inline-block;line-height: 1.2em;}#sk-container-id-1 div.sk-label-container {text-align: center;}#sk-container-id-1 div.sk-container {/* jupyter's `normalize.less` sets `[hidden] { display: none; }` but bootstrap.min.css set `[hidden] { display: none !important; }` so we also need the `!important` here to be able to override the default hidden behavior on the sphinx rendered scikit-learn.org. See: https://github.com/scikit-learn/scikit-learn/issues/21755 */display: inline-block !important;position: relative;}#sk-container-id-1 div.sk-text-repr-fallback {display: none;}</style><div id=\"sk-container-id-1\" class=\"sk-top-container\"><div class=\"sk-text-repr-fallback\"><pre>KNeighborsClassifier(n_jobs=-1, n_neighbors=26)</pre><b>In a Jupyter environment, please rerun this cell to show the HTML representation or trust the notebook. <br />On GitHub, the HTML representation is unable to render, please try loading this page with nbviewer.org.</b></div><div class=\"sk-container\" hidden><div class=\"sk-item\"><div class=\"sk-estimator sk-toggleable\"><input class=\"sk-toggleable__control sk-hidden--visually\" id=\"sk-estimator-id-1\" type=\"checkbox\" checked><label for=\"sk-estimator-id-1\" class=\"sk-toggleable__label sk-toggleable__label-arrow\">KNeighborsClassifier</label><div class=\"sk-toggleable__content\"><pre>KNeighborsClassifier(n_jobs=-1, n_neighbors=26)</pre></div></div></div></div></div>"
      ],
      "text/plain": [
       "KNeighborsClassifier(n_jobs=-1, n_neighbors=26)"
      ]
     },
     "execution_count": 13,
     "metadata": {},
     "output_type": "execute_result"
    }
   ],
   "source": [
    "model=KNeighborsClassifier(n_neighbors=best_c,n_jobs=-1)\n",
    "model.fit(train_data,y_true)"
   ]
  },
  {
   "cell_type": "code",
   "execution_count": 14,
   "metadata": {},
   "outputs": [],
   "source": [
    "prediction=model.predict_proba(test_data)[:,1]"
   ]
  },
  {
   "cell_type": "code",
   "execution_count": 15,
   "metadata": {},
   "outputs": [],
   "source": [
    "submit = pd.DataFrame()\n",
    "submit[\"Id\"] = test[\"id\"]\n",
    "submit[\"ACTION\"] = prediction\n",
    "submit.to_csv(\"knn.csv\", index = False)"
   ]
  },
  {
   "cell_type": "code",
   "execution_count": 16,
   "metadata": {},
   "outputs": [],
   "source": [
    "from sklearn.metrics import confusion_matrix\n",
    "cm=confusion_matrix(y_test,y_pred)\n",
    "disp = ConfusionMatrixDisplay(confusion_matrix=cm,display_labels=grid.classes_)\n",
    "# y_test.shape,y_pred.shape"
   ]
  },
  {
   "cell_type": "code",
   "execution_count": 17,
   "metadata": {},
   "outputs": [
    {
     "data": {
      "image/png": "[encoded data removed]",
      "text/plain": [
       "<Figure size 640x480 with 2 Axes>"
      ]
     },
     "metadata": {},
     "output_type": "display_data"
    }
   ],
   "source": [
    "disp.plot()\n",
    "plt.show()"
   ]
  },
  {
   "cell_type": "markdown",
   "metadata": {},
   "source": [
    "KNN OHE"
   ]
  },
  {
   "cell_type": "code",
   "execution_count": 18,
   "metadata": {},
   "outputs": [
    {
     "data": {
      "text/plain": [
       "((32769, 4500), (912363, 4500))"
      ]
     },
     "execution_count": 18,
     "metadata": {},
     "output_type": "execute_result"
    }
   ],
   "source": [
    "from scipy import sparse\n",
    "train_ohe=sparse.load_npz('train_ohe.npz')\n",
    "test_ohe=sparse.load_npz('test_ohe.npz')\n",
    "train_ohe.shape,test_ohe.shape"
   ]
  },
  {
   "cell_type": "code",
   "execution_count": 19,
   "metadata": {},
   "outputs": [
    {
     "name": "stdout",
     "output_type": "stream",
     "text": [
      "Fitting 5 folds for each of 10 candidates, totalling 50 fits\n"
     ]
    }
   ],
   "source": [
    "from sklearn.model_selection import GridSearchCV\n",
    "parameters={'n_neighbors':np.arange(1,100,5)}\n",
    "clf=RandomizedSearchCV(KNeighborsClassifier(),parameters,cv=cv,verbose=verbose,scoring=scoring,n_jobs=4)\n",
    "# grid=RandomizedSearchCV(knn,param_grid,cv=cv,random_state=random_state,scoring=scoring,verbose=verbose)\n",
    "best_model=clf.fit(train_ohe,y_true)"
   ]
  },
  {
   "cell_type": "code",
   "execution_count": 20,
   "metadata": {},
   "outputs": [
    {
     "data": {
      "text/html": [
       "<div>\n",
       "<style scoped>\n",
       "    .dataframe tbody tr th:only-of-type {\n",
       "        vertical-align: middle;\n",
       "    }\n",
       "\n",
       "    .dataframe tbody tr th {\n",
       "        vertical-align: top;\n",
       "    }\n",
       "\n",
       "    .dataframe thead th {\n",
       "        text-align: right;\n",
       "    }\n",
       "</style>\n",
       "<table border=\"1\" class=\"dataframe\">\n",
       "  <thead>\n",
       "    <tr style=\"text-align: right;\">\n",
       "      <th></th>\n",
       "      <th>mean_fit_time</th>\n",
       "      <th>std_fit_time</th>\n",
       "      <th>mean_score_time</th>\n",
       "      <th>std_score_time</th>\n",
       "      <th>param_n_neighbors</th>\n",
       "      <th>params</th>\n",
       "      <th>split0_test_score</th>\n",
       "      <th>split1_test_score</th>\n",
       "      <th>split2_test_score</th>\n",
       "      <th>split3_test_score</th>\n",
       "      <th>split4_test_score</th>\n",
       "      <th>mean_test_score</th>\n",
       "      <th>std_test_score</th>\n",
       "      <th>rank_test_score</th>\n",
       "    </tr>\n",
       "  </thead>\n",
       "  <tbody>\n",
       "    <tr>\n",
       "      <th>9</th>\n",
       "      <td>0.009776</td>\n",
       "      <td>0.004781</td>\n",
       "      <td>7.896812</td>\n",
       "      <td>1.231998</td>\n",
       "      <td>6</td>\n",
       "      <td>{'n_neighbors': 6}</td>\n",
       "      <td>0.760056</td>\n",
       "      <td>0.794993</td>\n",
       "      <td>0.767923</td>\n",
       "      <td>0.750457</td>\n",
       "      <td>0.784015</td>\n",
       "      <td>0.771489</td>\n",
       "      <td>0.016094</td>\n",
       "      <td>10</td>\n",
       "    </tr>\n",
       "    <tr>\n",
       "      <th>5</th>\n",
       "      <td>0.013964</td>\n",
       "      <td>0.005917</td>\n",
       "      <td>19.249006</td>\n",
       "      <td>1.772457</td>\n",
       "      <td>11</td>\n",
       "      <td>{'n_neighbors': 11}</td>\n",
       "      <td>0.790634</td>\n",
       "      <td>0.816172</td>\n",
       "      <td>0.795604</td>\n",
       "      <td>0.779872</td>\n",
       "      <td>0.808527</td>\n",
       "      <td>0.798162</td>\n",
       "      <td>0.012880</td>\n",
       "      <td>5</td>\n",
       "    </tr>\n",
       "    <tr>\n",
       "      <th>0</th>\n",
       "      <td>0.005784</td>\n",
       "      <td>0.002631</td>\n",
       "      <td>60.297005</td>\n",
       "      <td>21.991515</td>\n",
       "      <td>26</td>\n",
       "      <td>{'n_neighbors': 26}</td>\n",
       "      <td>0.808716</td>\n",
       "      <td>0.822521</td>\n",
       "      <td>0.805768</td>\n",
       "      <td>0.774925</td>\n",
       "      <td>0.821470</td>\n",
       "      <td>0.806680</td>\n",
       "      <td>0.017222</td>\n",
       "      <td>1</td>\n",
       "    </tr>\n",
       "    <tr>\n",
       "      <th>7</th>\n",
       "      <td>0.015359</td>\n",
       "      <td>0.004746</td>\n",
       "      <td>9.534685</td>\n",
       "      <td>0.544141</td>\n",
       "      <td>31</td>\n",
       "      <td>{'n_neighbors': 31}</td>\n",
       "      <td>0.807146</td>\n",
       "      <td>0.822594</td>\n",
       "      <td>0.804889</td>\n",
       "      <td>0.772999</td>\n",
       "      <td>0.816963</td>\n",
       "      <td>0.804918</td>\n",
       "      <td>0.017212</td>\n",
       "      <td>2</td>\n",
       "    </tr>\n",
       "    <tr>\n",
       "      <th>1</th>\n",
       "      <td>0.011574</td>\n",
       "      <td>0.008297</td>\n",
       "      <td>27.714738</td>\n",
       "      <td>6.617854</td>\n",
       "      <td>36</td>\n",
       "      <td>{'n_neighbors': 36}</td>\n",
       "      <td>0.808658</td>\n",
       "      <td>0.823441</td>\n",
       "      <td>0.802334</td>\n",
       "      <td>0.771946</td>\n",
       "      <td>0.811319</td>\n",
       "      <td>0.803540</td>\n",
       "      <td>0.017218</td>\n",
       "      <td>3</td>\n",
       "    </tr>\n",
       "    <tr>\n",
       "      <th>3</th>\n",
       "      <td>0.016661</td>\n",
       "      <td>0.007547</td>\n",
       "      <td>26.657898</td>\n",
       "      <td>10.401250</td>\n",
       "      <td>46</td>\n",
       "      <td>{'n_neighbors': 46}</td>\n",
       "      <td>0.804339</td>\n",
       "      <td>0.818778</td>\n",
       "      <td>0.797889</td>\n",
       "      <td>0.765292</td>\n",
       "      <td>0.807178</td>\n",
       "      <td>0.798695</td>\n",
       "      <td>0.018020</td>\n",
       "      <td>4</td>\n",
       "    </tr>\n",
       "    <tr>\n",
       "      <th>2</th>\n",
       "      <td>0.014560</td>\n",
       "      <td>0.004534</td>\n",
       "      <td>25.550642</td>\n",
       "      <td>7.389855</td>\n",
       "      <td>51</td>\n",
       "      <td>{'n_neighbors': 51}</td>\n",
       "      <td>0.800601</td>\n",
       "      <td>0.818396</td>\n",
       "      <td>0.794158</td>\n",
       "      <td>0.766640</td>\n",
       "      <td>0.801855</td>\n",
       "      <td>0.796330</td>\n",
       "      <td>0.016863</td>\n",
       "      <td>7</td>\n",
       "    </tr>\n",
       "    <tr>\n",
       "      <th>6</th>\n",
       "      <td>0.016554</td>\n",
       "      <td>0.006636</td>\n",
       "      <td>15.437945</td>\n",
       "      <td>1.887382</td>\n",
       "      <td>61</td>\n",
       "      <td>{'n_neighbors': 61}</td>\n",
       "      <td>0.799612</td>\n",
       "      <td>0.817452</td>\n",
       "      <td>0.791250</td>\n",
       "      <td>0.769539</td>\n",
       "      <td>0.804519</td>\n",
       "      <td>0.796474</td>\n",
       "      <td>0.015921</td>\n",
       "      <td>6</td>\n",
       "    </tr>\n",
       "    <tr>\n",
       "      <th>4</th>\n",
       "      <td>0.012766</td>\n",
       "      <td>0.003241</td>\n",
       "      <td>21.321880</td>\n",
       "      <td>2.807017</td>\n",
       "      <td>76</td>\n",
       "      <td>{'n_neighbors': 76}</td>\n",
       "      <td>0.796652</td>\n",
       "      <td>0.814884</td>\n",
       "      <td>0.785648</td>\n",
       "      <td>0.765380</td>\n",
       "      <td>0.799800</td>\n",
       "      <td>0.792473</td>\n",
       "      <td>0.016456</td>\n",
       "      <td>8</td>\n",
       "    </tr>\n",
       "    <tr>\n",
       "      <th>8</th>\n",
       "      <td>0.013763</td>\n",
       "      <td>0.005406</td>\n",
       "      <td>8.769189</td>\n",
       "      <td>0.191306</td>\n",
       "      <td>81</td>\n",
       "      <td>{'n_neighbors': 81}</td>\n",
       "      <td>0.793444</td>\n",
       "      <td>0.812184</td>\n",
       "      <td>0.784589</td>\n",
       "      <td>0.760021</td>\n",
       "      <td>0.800600</td>\n",
       "      <td>0.790167</td>\n",
       "      <td>0.017574</td>\n",
       "      <td>9</td>\n",
       "    </tr>\n",
       "  </tbody>\n",
       "</table>\n",
       "</div>"
      ],
      "text/plain": [
       "   mean_fit_time  std_fit_time  mean_score_time  std_score_time  \\\n",
       "9       0.009776      0.004781         7.896812        1.231998   \n",
       "5       0.013964      0.005917        19.249006        1.772457   \n",
       "0       0.005784      0.002631        60.297005       21.991515   \n",
       "7       0.015359      0.004746         9.534685        0.544141   \n",
       "1       0.011574      0.008297        27.714738        6.617854   \n",
       "3       0.016661      0.007547        26.657898       10.401250   \n",
       "2       0.014560      0.004534        25.550642        7.389855   \n",
       "6       0.016554      0.006636        15.437945        1.887382   \n",
       "4       0.012766      0.003241        21.321880        2.807017   \n",
       "8       0.013763      0.005406         8.769189        0.191306   \n",
       "\n",
       "  param_n_neighbors               params  split0_test_score  \\\n",
       "9                 6   {'n_neighbors': 6}           0.760056   \n",
       "5                11  {'n_neighbors': 11}           0.790634   \n",
       "0                26  {'n_neighbors': 26}           0.808716   \n",
       "7                31  {'n_neighbors': 31}           0.807146   \n",
       "1                36  {'n_neighbors': 36}           0.808658   \n",
       "3                46  {'n_neighbors': 46}           0.804339   \n",
       "2                51  {'n_neighbors': 51}           0.800601   \n",
       "6                61  {'n_neighbors': 61}           0.799612   \n",
       "4                76  {'n_neighbors': 76}           0.796652   \n",
       "8                81  {'n_neighbors': 81}           0.793444   \n",
       "\n",
       "   split1_test_score  split2_test_score  split3_test_score  split4_test_score  \\\n",
       "9           0.794993           0.767923           0.750457           0.784015   \n",
       "5           0.816172           0.795604           0.779872           0.808527   \n",
       "0           0.822521           0.805768           0.774925           0.821470   \n",
       "7           0.822594           0.804889           0.772999           0.816963   \n",
       "1           0.823441           0.802334           0.771946           0.811319   \n",
       "3           0.818778           0.797889           0.765292           0.807178   \n",
       "2           0.818396           0.794158           0.766640           0.801855   \n",
       "6           0.817452           0.791250           0.769539           0.804519   \n",
       "4           0.814884           0.785648           0.765380           0.799800   \n",
       "8           0.812184           0.784589           0.760021           0.800600   \n",
       "\n",
       "   mean_test_score  std_test_score  rank_test_score  \n",
       "9         0.771489        0.016094               10  \n",
       "5         0.798162        0.012880                5  \n",
       "0         0.806680        0.017222                1  \n",
       "7         0.804918        0.017212                2  \n",
       "1         0.803540        0.017218                3  \n",
       "3         0.798695        0.018020                4  \n",
       "2         0.796330        0.016863                7  \n",
       "6         0.796474        0.015921                6  \n",
       "4         0.792473        0.016456                8  \n",
       "8         0.790167        0.017574                9  "
      ]
     },
     "execution_count": 20,
     "metadata": {},
     "output_type": "execute_result"
    }
   ],
   "source": [
    "result=pd.DataFrame.from_dict(best_model.cv_results_)\n",
    "result=result.sort_values('param_n_neighbors')\n",
    "result"
   ]
  },
  {
   "cell_type": "code",
   "execution_count": 21,
   "metadata": {},
   "outputs": [
    {
     "data": {
      "image/png": "[encoded data removed]",
      "text/plain": [
       "<Figure size 1000x300 with 1 Axes>"
      ]
     },
     "metadata": {},
     "output_type": "display_data"
    }
   ],
   "source": [
    "plt.figure(figsize=(10,3))\n",
    "plt.plot(result['param_n_neighbors'],result['mean_test_score']);\n",
    "plt.grid();\n",
    "plt.xlabel('Hyperparameter - No. of neighbors');\n",
    "plt.ylabel('Mean ROC_AUC');\n",
    "plt.title('Test score'); \n",
    "plt.grid();"
   ]
  },
  {
   "cell_type": "code",
   "execution_count": 22,
   "metadata": {},
   "outputs": [
    {
     "data": {
      "text/plain": [
       "26"
      ]
     },
     "execution_count": 22,
     "metadata": {},
     "output_type": "execute_result"
    }
   ],
   "source": [
    "best_c=best_model.best_params_['n_neighbors']\n",
    "best_c"
   ]
  },
  {
   "cell_type": "code",
   "execution_count": 23,
   "metadata": {},
   "outputs": [
    {
     "data": {
      "text/html": [
       "<style>#sk-container-id-2 {color: black;background-color: white;}#sk-container-id-2 pre{padding: 0;}#sk-container-id-2 div.sk-toggleable {background-color: white;}#sk-container-id-2 label.sk-toggleable__label {cursor: pointer;display: block;width: 100%;margin-bottom: 0;padding: 0.3em;box-sizing: border-box;text-align: center;}#sk-container-id-2 label.sk-toggleable__label-arrow:before {content: \"▸\";float: left;margin-right: 0.25em;color: #696969;}#sk-container-id-2 label.sk-toggleable__label-arrow:hover:before {color: black;}#sk-container-id-2 div.sk-estimator:hover label.sk-toggleable__label-arrow:before {color: black;}#sk-container-id-2 div.sk-toggleable__content {max-height: 0;max-width: 0;overflow: hidden;text-align: left;background-color: #f0f8ff;}#sk-container-id-2 div.sk-toggleable__content pre {margin: 0.2em;color: black;border-radius: 0.25em;background-color: #f0f8ff;}#sk-container-id-2 input.sk-toggleable__control:checked~div.sk-toggleable__content {max-height: 200px;max-width: 100%;overflow: auto;}#sk-container-id-2 input.sk-toggleable__control:checked~label.sk-toggleable__label-arrow:before {content: \"▾\";}#sk-container-id-2 div.sk-estimator input.sk-toggleable__control:checked~label.sk-toggleable__label {background-color: #d4ebff;}#sk-container-id-2 div.sk-label input.sk-toggleable__control:checked~label.sk-toggleable__label {background-color: #d4ebff;}#sk-container-id-2 input.sk-hidden--visually {border: 0;clip: rect(1px 1px 1px 1px);clip: rect(1px, 1px, 1px, 1px);height: 1px;margin: -1px;overflow: hidden;padding: 0;position: absolute;width: 1px;}#sk-container-id-2 div.sk-estimator {font-family: monospace;background-color: #f0f8ff;border: 1px dotted black;border-radius: 0.25em;box-sizing: border-box;margin-bottom: 0.5em;}#sk-container-id-2 div.sk-estimator:hover {background-color: #d4ebff;}#sk-container-id-2 div.sk-parallel-item::after {content: \"\";width: 100%;border-bottom: 1px solid gray;flex-grow: 1;}#sk-container-id-2 div.sk-label:hover label.sk-toggleable__label {background-color: #d4ebff;}#sk-container-id-2 div.sk-serial::before {content: \"\";position: absolute;border-left: 1px solid gray;box-sizing: border-box;top: 0;bottom: 0;left: 50%;z-index: 0;}#sk-container-id-2 div.sk-serial {display: flex;flex-direction: column;align-items: center;background-color: white;padding-right: 0.2em;padding-left: 0.2em;position: relative;}#sk-container-id-2 div.sk-item {position: relative;z-index: 1;}#sk-container-id-2 div.sk-parallel {display: flex;align-items: stretch;justify-content: center;background-color: white;position: relative;}#sk-container-id-2 div.sk-item::before, #sk-container-id-2 div.sk-parallel-item::before {content: \"\";position: absolute;border-left: 1px solid gray;box-sizing: border-box;top: 0;bottom: 0;left: 50%;z-index: -1;}#sk-container-id-2 div.sk-parallel-item {display: flex;flex-direction: column;z-index: 1;position: relative;background-color: white;}#sk-container-id-2 div.sk-parallel-item:first-child::after {align-self: flex-end;width: 50%;}#sk-container-id-2 div.sk-parallel-item:last-child::after {align-self: flex-start;width: 50%;}#sk-container-id-2 div.sk-parallel-item:only-child::after {width: 0;}#sk-container-id-2 div.sk-dashed-wrapped {border: 1px dashed gray;margin: 0 0.4em 0.5em 0.4em;box-sizing: border-box;padding-bottom: 0.4em;background-color: white;}#sk-container-id-2 div.sk-label label {font-family: monospace;font-weight: bold;display: inline-block;line-height: 1.2em;}#sk-container-id-2 div.sk-label-container {text-align: center;}#sk-container-id-2 div.sk-container {/* jupyter's `normalize.less` sets `[hidden] { display: none; }` but bootstrap.min.css set `[hidden] { display: none !important; }` so we also need the `!important` here to be able to override the default hidden behavior on the sphinx rendered scikit-learn.org. See: https://github.com/scikit-learn/scikit-learn/issues/21755 */display: inline-block !important;position: relative;}#sk-container-id-2 div.sk-text-repr-fallback {display: none;}</style><div id=\"sk-container-id-2\" class=\"sk-top-container\"><div class=\"sk-text-repr-fallback\"><pre>KNeighborsClassifier(n_jobs=-1, n_neighbors=26)</pre><b>In a Jupyter environment, please rerun this cell to show the HTML representation or trust the notebook. <br />On GitHub, the HTML representation is unable to render, please try loading this page with nbviewer.org.</b></div><div class=\"sk-container\" hidden><div class=\"sk-item\"><div class=\"sk-estimator sk-toggleable\"><input class=\"sk-toggleable__control sk-hidden--visually\" id=\"sk-estimator-id-2\" type=\"checkbox\" checked><label for=\"sk-estimator-id-2\" class=\"sk-toggleable__label sk-toggleable__label-arrow\">KNeighborsClassifier</label><div class=\"sk-toggleable__content\"><pre>KNeighborsClassifier(n_jobs=-1, n_neighbors=26)</pre></div></div></div></div></div>"
      ],
      "text/plain": [
       "KNeighborsClassifier(n_jobs=-1, n_neighbors=26)"
      ]
     },
     "execution_count": 23,
     "metadata": {},
     "output_type": "execute_result"
    }
   ],
   "source": [
    "model=KNeighborsClassifier(n_neighbors=best_c,n_jobs=-1)\n",
    "model.fit(train_ohe,y_true)"
   ]
  },
  {
   "cell_type": "code",
   "execution_count": 24,
   "metadata": {},
   "outputs": [],
   "source": [
    "# prediction=model.predict_proba(test_ohe)[:,1]"
   ]
  },
  {
   "cell_type": "code",
   "execution_count": 25,
   "metadata": {},
   "outputs": [
    {
     "data": {
      "text/plain": [
       "94.46122860020141"
      ]
     },
     "execution_count": 25,
     "metadata": {},
     "output_type": "execute_result"
    }
   ],
   "source": [
    "y_pred=model.predict(train_ohe)\n",
    "test_acc_knn_ohe=accuracy_score(y_true,y_pred)*100\n",
    "test_acc_knn_ohe"
   ]
  },
  {
   "cell_type": "code",
   "execution_count": 26,
   "metadata": {},
   "outputs": [],
   "source": [
    "# submit = pd.read_csv('knn.csv')\n",
    "# # submit[\"Id\"] = test[\"id\"]\n",
    "# submit[\"ACTION_KNN_OHE\"] = prediction\n",
    "# submit.to_csv(\"knn.csv\", index = False)"
   ]
  },
  {
   "cell_type": "code",
   "execution_count": 27,
   "metadata": {},
   "outputs": [
    {
     "data": {
      "text/plain": [
       "0.5320029559363451"
      ]
     },
     "execution_count": 27,
     "metadata": {},
     "output_type": "execute_result"
    }
   ],
   "source": [
    "from sklearn.metrics import roc_auc_score\n",
    "auc_knn_ohe = roc_auc_score(y_true, y_pred)\n",
    "auc_knn_ohe"
   ]
  },
  {
   "cell_type": "code",
   "execution_count": 75,
   "metadata": {},
   "outputs": [
    {
     "name": "stdout",
     "output_type": "stream",
     "text": [
      "+----------------------+---------+----------+----------+\n",
      "|        Model         | Feature | Accuracy | ROC_AUC  |\n",
      "+----------------------+---------+----------+----------+\n",
      "| KNeighborsClassifier |    -    | 94.32408 | 0.50134  |\n",
      "| KNeighborsClassifier |   ohe   | 94.46123 | 0.532003 |\n",
      "+----------------------+---------+----------+----------+\n"
     ]
    }
   ],
   "source": [
    "from prettytable import PrettyTable\n",
    "x = PrettyTable(['Model', 'Feature', 'Accuracy', 'ROC_AUC'])\n",
    "x.add_row(['KNeighborsClassifier', '-', round(test_acc_knn,5), round(auc_knn,5)])\n",
    "x.add_row(['KNeighborsClassifier','ohe', round(test_acc_knn_ohe,5), round(auc_knn_ohe,6)])\n",
    "print(x)"
   ]
  },
  {
   "cell_type": "markdown",
   "metadata": {},
   "source": [
    "Logistic Regression"
   ]
  },
  {
   "cell_type": "code",
   "execution_count": 29,
   "metadata": {},
   "outputs": [],
   "source": [
    "from sklearn.linear_model import LogisticRegression\n",
    "from scipy.stats import uniform"
   ]
  },
  {
   "cell_type": "code",
   "execution_count": 30,
   "metadata": {},
   "outputs": [
    {
     "name": "stdout",
     "output_type": "stream",
     "text": [
      "Fitting 5 folds for each of 100 candidates, totalling 500 fits\n"
     ]
    },
    {
     "name": "stderr",
     "output_type": "stream",
     "text": [
      "[Parallel(n_jobs=-1)]: Using backend LokyBackend with 12 concurrent workers.\n",
      "[Parallel(n_jobs=-1)]: Done   1 out of   1 | elapsed:    0.0s finished\n"
     ]
    }
   ],
   "source": [
    "C_val = uniform(loc=0, scale=4)\n",
    "lr=LogisticRegression(verbose=verbose,random_state=random_state,class_weight='balanced',max_iter=500,n_jobs=-1)\n",
    "parameters={'C':C_val}\n",
    "clf=RandomizedSearchCV(lr,parameters,verbose=verbose,cv=cv,random_state=random_state,scoring=scoring,n_iter=100,n_jobs=-1)\n",
    "best_model=clf.fit(x_train,y_train)"
   ]
  },
  {
   "cell_type": "code",
   "execution_count": 31,
   "metadata": {},
   "outputs": [
    {
     "data": {
      "text/plain": [
       "0.08233797718320979"
      ]
     },
     "execution_count": 31,
     "metadata": {},
     "output_type": "execute_result"
    }
   ],
   "source": [
    "best_c=best_model.best_params_['C']\n",
    "best_c"
   ]
  },
  {
   "cell_type": "code",
   "execution_count": 32,
   "metadata": {},
   "outputs": [
    {
     "data": {
      "text/html": [
       "<div>\n",
       "<style scoped>\n",
       "    .dataframe tbody tr th:only-of-type {\n",
       "        vertical-align: middle;\n",
       "    }\n",
       "\n",
       "    .dataframe tbody tr th {\n",
       "        vertical-align: top;\n",
       "    }\n",
       "\n",
       "    .dataframe thead th {\n",
       "        text-align: right;\n",
       "    }\n",
       "</style>\n",
       "<table border=\"1\" class=\"dataframe\">\n",
       "  <thead>\n",
       "    <tr style=\"text-align: right;\">\n",
       "      <th></th>\n",
       "      <th>mean_fit_time</th>\n",
       "      <th>std_fit_time</th>\n",
       "      <th>mean_score_time</th>\n",
       "      <th>std_score_time</th>\n",
       "      <th>param_C</th>\n",
       "      <th>params</th>\n",
       "      <th>split0_test_score</th>\n",
       "      <th>split1_test_score</th>\n",
       "      <th>split2_test_score</th>\n",
       "      <th>split3_test_score</th>\n",
       "      <th>split4_test_score</th>\n",
       "      <th>mean_test_score</th>\n",
       "      <th>std_test_score</th>\n",
       "      <th>rank_test_score</th>\n",
       "    </tr>\n",
       "  </thead>\n",
       "  <tbody>\n",
       "    <tr>\n",
       "      <th>0</th>\n",
       "      <td>0.378630</td>\n",
       "      <td>0.055390</td>\n",
       "      <td>0.009378</td>\n",
       "      <td>0.001349</td>\n",
       "      <td>1.49816</td>\n",
       "      <td>{'C': 1.49816047538945}</td>\n",
       "      <td>0.529549</td>\n",
       "      <td>0.542286</td>\n",
       "      <td>0.500633</td>\n",
       "      <td>0.511880</td>\n",
       "      <td>0.550482</td>\n",
       "      <td>0.526966</td>\n",
       "      <td>0.018522</td>\n",
       "      <td>57</td>\n",
       "    </tr>\n",
       "    <tr>\n",
       "      <th>1</th>\n",
       "      <td>0.372543</td>\n",
       "      <td>0.057820</td>\n",
       "      <td>0.008976</td>\n",
       "      <td>0.000630</td>\n",
       "      <td>3.802857</td>\n",
       "      <td>{'C': 3.8028572256396647}</td>\n",
       "      <td>0.529549</td>\n",
       "      <td>0.542296</td>\n",
       "      <td>0.500632</td>\n",
       "      <td>0.511880</td>\n",
       "      <td>0.550482</td>\n",
       "      <td>0.526968</td>\n",
       "      <td>0.018524</td>\n",
       "      <td>11</td>\n",
       "    </tr>\n",
       "    <tr>\n",
       "      <th>2</th>\n",
       "      <td>0.358905</td>\n",
       "      <td>0.054822</td>\n",
       "      <td>0.009177</td>\n",
       "      <td>0.000744</td>\n",
       "      <td>2.927976</td>\n",
       "      <td>{'C': 2.9279757672456204}</td>\n",
       "      <td>0.529549</td>\n",
       "      <td>0.542296</td>\n",
       "      <td>0.500631</td>\n",
       "      <td>0.511880</td>\n",
       "      <td>0.550482</td>\n",
       "      <td>0.526968</td>\n",
       "      <td>0.018525</td>\n",
       "      <td>30</td>\n",
       "    </tr>\n",
       "    <tr>\n",
       "      <th>3</th>\n",
       "      <td>0.387286</td>\n",
       "      <td>0.064384</td>\n",
       "      <td>0.010282</td>\n",
       "      <td>0.001081</td>\n",
       "      <td>2.394634</td>\n",
       "      <td>{'C': 2.3946339367881464}</td>\n",
       "      <td>0.529549</td>\n",
       "      <td>0.542284</td>\n",
       "      <td>0.500631</td>\n",
       "      <td>0.511880</td>\n",
       "      <td>0.550482</td>\n",
       "      <td>0.526965</td>\n",
       "      <td>0.018523</td>\n",
       "      <td>87</td>\n",
       "    </tr>\n",
       "    <tr>\n",
       "      <th>4</th>\n",
       "      <td>0.405055</td>\n",
       "      <td>0.053701</td>\n",
       "      <td>0.009084</td>\n",
       "      <td>0.000663</td>\n",
       "      <td>0.624075</td>\n",
       "      <td>{'C': 0.6240745617697461}</td>\n",
       "      <td>0.529549</td>\n",
       "      <td>0.542293</td>\n",
       "      <td>0.500631</td>\n",
       "      <td>0.511880</td>\n",
       "      <td>0.550482</td>\n",
       "      <td>0.526967</td>\n",
       "      <td>0.018524</td>\n",
       "      <td>37</td>\n",
       "    </tr>\n",
       "    <tr>\n",
       "      <th>...</th>\n",
       "      <td>...</td>\n",
       "      <td>...</td>\n",
       "      <td>...</td>\n",
       "      <td>...</td>\n",
       "      <td>...</td>\n",
       "      <td>...</td>\n",
       "      <td>...</td>\n",
       "      <td>...</td>\n",
       "      <td>...</td>\n",
       "      <td>...</td>\n",
       "      <td>...</td>\n",
       "      <td>...</td>\n",
       "      <td>...</td>\n",
       "      <td>...</td>\n",
       "    </tr>\n",
       "    <tr>\n",
       "      <th>95</th>\n",
       "      <td>0.390478</td>\n",
       "      <td>0.046929</td>\n",
       "      <td>0.009175</td>\n",
       "      <td>0.000745</td>\n",
       "      <td>1.975182</td>\n",
       "      <td>{'C': 1.975182385457563}</td>\n",
       "      <td>0.529549</td>\n",
       "      <td>0.542284</td>\n",
       "      <td>0.500632</td>\n",
       "      <td>0.511880</td>\n",
       "      <td>0.550482</td>\n",
       "      <td>0.526966</td>\n",
       "      <td>0.018522</td>\n",
       "      <td>77</td>\n",
       "    </tr>\n",
       "    <tr>\n",
       "      <th>96</th>\n",
       "      <td>0.415201</td>\n",
       "      <td>0.071202</td>\n",
       "      <td>0.008978</td>\n",
       "      <td>0.000632</td>\n",
       "      <td>2.090931</td>\n",
       "      <td>{'C': 2.0909313175279762}</td>\n",
       "      <td>0.529549</td>\n",
       "      <td>0.542285</td>\n",
       "      <td>0.500632</td>\n",
       "      <td>0.511880</td>\n",
       "      <td>0.550482</td>\n",
       "      <td>0.526966</td>\n",
       "      <td>0.018522</td>\n",
       "      <td>70</td>\n",
       "    </tr>\n",
       "    <tr>\n",
       "      <th>97</th>\n",
       "      <td>0.414111</td>\n",
       "      <td>0.062199</td>\n",
       "      <td>0.008880</td>\n",
       "      <td>0.000493</td>\n",
       "      <td>1.710164</td>\n",
       "      <td>{'C': 1.7101640734341985}</td>\n",
       "      <td>0.529549</td>\n",
       "      <td>0.542286</td>\n",
       "      <td>0.500632</td>\n",
       "      <td>0.511880</td>\n",
       "      <td>0.550482</td>\n",
       "      <td>0.526966</td>\n",
       "      <td>0.018523</td>\n",
       "      <td>57</td>\n",
       "    </tr>\n",
       "    <tr>\n",
       "      <th>98</th>\n",
       "      <td>0.396962</td>\n",
       "      <td>0.064978</td>\n",
       "      <td>0.007182</td>\n",
       "      <td>0.001164</td>\n",
       "      <td>0.101677</td>\n",
       "      <td>{'C': 0.10167650697638075}</td>\n",
       "      <td>0.529549</td>\n",
       "      <td>0.542257</td>\n",
       "      <td>0.500660</td>\n",
       "      <td>0.511879</td>\n",
       "      <td>0.550482</td>\n",
       "      <td>0.526965</td>\n",
       "      <td>0.018510</td>\n",
       "      <td>87</td>\n",
       "    </tr>\n",
       "    <tr>\n",
       "      <th>99</th>\n",
       "      <td>0.294400</td>\n",
       "      <td>0.044593</td>\n",
       "      <td>0.004491</td>\n",
       "      <td>0.001843</td>\n",
       "      <td>0.431566</td>\n",
       "      <td>{'C': 0.4315657079732178}</td>\n",
       "      <td>0.529549</td>\n",
       "      <td>0.542295</td>\n",
       "      <td>0.500631</td>\n",
       "      <td>0.511880</td>\n",
       "      <td>0.550482</td>\n",
       "      <td>0.526967</td>\n",
       "      <td>0.018524</td>\n",
       "      <td>33</td>\n",
       "    </tr>\n",
       "  </tbody>\n",
       "</table>\n",
       "<p>100 rows × 14 columns</p>\n",
       "</div>"
      ],
      "text/plain": [
       "    mean_fit_time  std_fit_time  mean_score_time  std_score_time   param_C  \\\n",
       "0        0.378630      0.055390         0.009378        0.001349   1.49816   \n",
       "1        0.372543      0.057820         0.008976        0.000630  3.802857   \n",
       "2        0.358905      0.054822         0.009177        0.000744  2.927976   \n",
       "3        0.387286      0.064384         0.010282        0.001081  2.394634   \n",
       "4        0.405055      0.053701         0.009084        0.000663  0.624075   \n",
       "..            ...           ...              ...             ...       ...   \n",
       "95       0.390478      0.046929         0.009175        0.000745  1.975182   \n",
       "96       0.415201      0.071202         0.008978        0.000632  2.090931   \n",
       "97       0.414111      0.062199         0.008880        0.000493  1.710164   \n",
       "98       0.396962      0.064978         0.007182        0.001164  0.101677   \n",
       "99       0.294400      0.044593         0.004491        0.001843  0.431566   \n",
       "\n",
       "                        params  split0_test_score  split1_test_score  \\\n",
       "0      {'C': 1.49816047538945}           0.529549           0.542286   \n",
       "1    {'C': 3.8028572256396647}           0.529549           0.542296   \n",
       "2    {'C': 2.9279757672456204}           0.529549           0.542296   \n",
       "3    {'C': 2.3946339367881464}           0.529549           0.542284   \n",
       "4    {'C': 0.6240745617697461}           0.529549           0.542293   \n",
       "..                         ...                ...                ...   \n",
       "95    {'C': 1.975182385457563}           0.529549           0.542284   \n",
       "96   {'C': 2.0909313175279762}           0.529549           0.542285   \n",
       "97   {'C': 1.7101640734341985}           0.529549           0.542286   \n",
       "98  {'C': 0.10167650697638075}           0.529549           0.542257   \n",
       "99   {'C': 0.4315657079732178}           0.529549           0.542295   \n",
       "\n",
       "    split2_test_score  split3_test_score  split4_test_score  mean_test_score  \\\n",
       "0            0.500633           0.511880           0.550482         0.526966   \n",
       "1            0.500632           0.511880           0.550482         0.526968   \n",
       "2            0.500631           0.511880           0.550482         0.526968   \n",
       "3            0.500631           0.511880           0.550482         0.526965   \n",
       "4            0.500631           0.511880           0.550482         0.526967   \n",
       "..                ...                ...                ...              ...   \n",
       "95           0.500632           0.511880           0.550482         0.526966   \n",
       "96           0.500632           0.511880           0.550482         0.526966   \n",
       "97           0.500632           0.511880           0.550482         0.526966   \n",
       "98           0.500660           0.511879           0.550482         0.526965   \n",
       "99           0.500631           0.511880           0.550482         0.526967   \n",
       "\n",
       "    std_test_score  rank_test_score  \n",
       "0         0.018522               57  \n",
       "1         0.018524               11  \n",
       "2         0.018525               30  \n",
       "3         0.018523               87  \n",
       "4         0.018524               37  \n",
       "..             ...              ...  \n",
       "95        0.018522               77  \n",
       "96        0.018522               70  \n",
       "97        0.018523               57  \n",
       "98        0.018510               87  \n",
       "99        0.018524               33  \n",
       "\n",
       "[100 rows x 14 columns]"
      ]
     },
     "execution_count": 32,
     "metadata": {},
     "output_type": "execute_result"
    }
   ],
   "source": [
    "result=pd.DataFrame.from_dict(best_model.cv_results_)\n",
    "result.sort_values('param_C')\n",
    "result"
   ]
  },
  {
   "cell_type": "code",
   "execution_count": 33,
   "metadata": {},
   "outputs": [
    {
     "name": "stderr",
     "output_type": "stream",
     "text": [
      "[Parallel(n_jobs=-1)]: Using backend LokyBackend with 12 concurrent workers.\n",
      "[Parallel(n_jobs=-1)]: Done   1 out of   1 | elapsed:    0.0s finished\n"
     ]
    },
    {
     "data": {
      "text/html": [
       "<style>#sk-container-id-3 {color: black;background-color: white;}#sk-container-id-3 pre{padding: 0;}#sk-container-id-3 div.sk-toggleable {background-color: white;}#sk-container-id-3 label.sk-toggleable__label {cursor: pointer;display: block;width: 100%;margin-bottom: 0;padding: 0.3em;box-sizing: border-box;text-align: center;}#sk-container-id-3 label.sk-toggleable__label-arrow:before {content: \"▸\";float: left;margin-right: 0.25em;color: #696969;}#sk-container-id-3 label.sk-toggleable__label-arrow:hover:before {color: black;}#sk-container-id-3 div.sk-estimator:hover label.sk-toggleable__label-arrow:before {color: black;}#sk-container-id-3 div.sk-toggleable__content {max-height: 0;max-width: 0;overflow: hidden;text-align: left;background-color: #f0f8ff;}#sk-container-id-3 div.sk-toggleable__content pre {margin: 0.2em;color: black;border-radius: 0.25em;background-color: #f0f8ff;}#sk-container-id-3 input.sk-toggleable__control:checked~div.sk-toggleable__content {max-height: 200px;max-width: 100%;overflow: auto;}#sk-container-id-3 input.sk-toggleable__control:checked~label.sk-toggleable__label-arrow:before {content: \"▾\";}#sk-container-id-3 div.sk-estimator input.sk-toggleable__control:checked~label.sk-toggleable__label {background-color: #d4ebff;}#sk-container-id-3 div.sk-label input.sk-toggleable__control:checked~label.sk-toggleable__label {background-color: #d4ebff;}#sk-container-id-3 input.sk-hidden--visually {border: 0;clip: rect(1px 1px 1px 1px);clip: rect(1px, 1px, 1px, 1px);height: 1px;margin: -1px;overflow: hidden;padding: 0;position: absolute;width: 1px;}#sk-container-id-3 div.sk-estimator {font-family: monospace;background-color: #f0f8ff;border: 1px dotted black;border-radius: 0.25em;box-sizing: border-box;margin-bottom: 0.5em;}#sk-container-id-3 div.sk-estimator:hover {background-color: #d4ebff;}#sk-container-id-3 div.sk-parallel-item::after {content: \"\";width: 100%;border-bottom: 1px solid gray;flex-grow: 1;}#sk-container-id-3 div.sk-label:hover label.sk-toggleable__label {background-color: #d4ebff;}#sk-container-id-3 div.sk-serial::before {content: \"\";position: absolute;border-left: 1px solid gray;box-sizing: border-box;top: 0;bottom: 0;left: 50%;z-index: 0;}#sk-container-id-3 div.sk-serial {display: flex;flex-direction: column;align-items: center;background-color: white;padding-right: 0.2em;padding-left: 0.2em;position: relative;}#sk-container-id-3 div.sk-item {position: relative;z-index: 1;}#sk-container-id-3 div.sk-parallel {display: flex;align-items: stretch;justify-content: center;background-color: white;position: relative;}#sk-container-id-3 div.sk-item::before, #sk-container-id-3 div.sk-parallel-item::before {content: \"\";position: absolute;border-left: 1px solid gray;box-sizing: border-box;top: 0;bottom: 0;left: 50%;z-index: -1;}#sk-container-id-3 div.sk-parallel-item {display: flex;flex-direction: column;z-index: 1;position: relative;background-color: white;}#sk-container-id-3 div.sk-parallel-item:first-child::after {align-self: flex-end;width: 50%;}#sk-container-id-3 div.sk-parallel-item:last-child::after {align-self: flex-start;width: 50%;}#sk-container-id-3 div.sk-parallel-item:only-child::after {width: 0;}#sk-container-id-3 div.sk-dashed-wrapped {border: 1px dashed gray;margin: 0 0.4em 0.5em 0.4em;box-sizing: border-box;padding-bottom: 0.4em;background-color: white;}#sk-container-id-3 div.sk-label label {font-family: monospace;font-weight: bold;display: inline-block;line-height: 1.2em;}#sk-container-id-3 div.sk-label-container {text-align: center;}#sk-container-id-3 div.sk-container {/* jupyter's `normalize.less` sets `[hidden] { display: none; }` but bootstrap.min.css set `[hidden] { display: none !important; }` so we also need the `!important` here to be able to override the default hidden behavior on the sphinx rendered scikit-learn.org. See: https://github.com/scikit-learn/scikit-learn/issues/21755 */display: inline-block !important;position: relative;}#sk-container-id-3 div.sk-text-repr-fallback {display: none;}</style><div id=\"sk-container-id-3\" class=\"sk-top-container\"><div class=\"sk-text-repr-fallback\"><pre>LogisticRegression(C=0.08233797718320979, class_weight=&#x27;balanced&#x27;, n_jobs=-1,\n",
       "                   random_state=42, verbose=2)</pre><b>In a Jupyter environment, please rerun this cell to show the HTML representation or trust the notebook. <br />On GitHub, the HTML representation is unable to render, please try loading this page with nbviewer.org.</b></div><div class=\"sk-container\" hidden><div class=\"sk-item\"><div class=\"sk-estimator sk-toggleable\"><input class=\"sk-toggleable__control sk-hidden--visually\" id=\"sk-estimator-id-3\" type=\"checkbox\" checked><label for=\"sk-estimator-id-3\" class=\"sk-toggleable__label sk-toggleable__label-arrow\">LogisticRegression</label><div class=\"sk-toggleable__content\"><pre>LogisticRegression(C=0.08233797718320979, class_weight=&#x27;balanced&#x27;, n_jobs=-1,\n",
       "                   random_state=42, verbose=2)</pre></div></div></div></div></div>"
      ],
      "text/plain": [
       "LogisticRegression(C=0.08233797718320979, class_weight='balanced', n_jobs=-1,\n",
       "                   random_state=42, verbose=2)"
      ]
     },
     "execution_count": 33,
     "metadata": {},
     "output_type": "execute_result"
    }
   ],
   "source": [
    "model=LogisticRegression(C=best_c,verbose=verbose,random_state=random_state,class_weight='balanced',n_jobs=-1)\n",
    "model.fit(train_data,y_true)"
   ]
  },
  {
   "cell_type": "code",
   "execution_count": 34,
   "metadata": {},
   "outputs": [
    {
     "data": {
      "text/plain": [
       "(50.15257857796765, 0.5304092841810044)"
      ]
     },
     "execution_count": 34,
     "metadata": {},
     "output_type": "execute_result"
    }
   ],
   "source": [
    "y_pred=model.predict(x_test)\n",
    "test_acc_lr=accuracy_score(y_test,y_pred)*100\n",
    "auc_lr = roc_auc_score(y_test,y_pred)\n",
    "test_acc_lr,auc_lr"
   ]
  },
  {
   "cell_type": "code",
   "execution_count": 35,
   "metadata": {},
   "outputs": [
    {
     "data": {
      "image/png": "[encoded data removed]",
      "text/plain": [
       "<Figure size 1000x300 with 1 Axes>"
      ]
     },
     "metadata": {},
     "output_type": "display_data"
    }
   ],
   "source": [
    "results=pd.DataFrame.from_dict(best_model.cv_results_)\n",
    "results=results.sort_values('param_C')\n",
    "plt.figure(figsize=(10,3))\n",
    "plt.plot(results['param_C'],results['mean_test_score']);\n",
    "plt.grid();\n",
    "plt.xlabel('Hyperparameter - C');\n",
    "plt.ylabel('Mean ROC_AUC');\n",
    "plt.title('Test score'); \n",
    "plt.grid();"
   ]
  },
  {
   "cell_type": "code",
   "execution_count": 36,
   "metadata": {},
   "outputs": [
    {
     "data": {
      "image/png": "[encoded data removed]",
      "text/plain": [
       "<Figure size 640x480 with 2 Axes>"
      ]
     },
     "metadata": {},
     "output_type": "display_data"
    }
   ],
   "source": [
    "from sklearn.metrics import confusion_matrix\n",
    "cm=confusion_matrix(y_test,y_pred)\n",
    "disp = ConfusionMatrixDisplay(confusion_matrix=cm,display_labels=best_model.classes_)\n",
    "disp.plot()\n",
    "plt.show()"
   ]
  },
  {
   "cell_type": "markdown",
   "metadata": {},
   "source": [
    "Logistic Regression OHE"
   ]
  },
  {
   "cell_type": "code",
   "execution_count": 37,
   "metadata": {},
   "outputs": [
    {
     "data": {
      "text/plain": [
       "((32769, 4500), (912363, 4500), (32769,))"
      ]
     },
     "execution_count": 37,
     "metadata": {},
     "output_type": "execute_result"
    }
   ],
   "source": [
    "train_ohe.shape,test_ohe.shape,y_true.shape"
   ]
  },
  {
   "cell_type": "code",
   "execution_count": 38,
   "metadata": {
    "scrolled": true
   },
   "outputs": [
    {
     "name": "stdout",
     "output_type": "stream",
     "text": [
      "Fitting 5 folds for each of 100 candidates, totalling 500 fits\n"
     ]
    },
    {
     "name": "stderr",
     "output_type": "stream",
     "text": [
      "[Parallel(n_jobs=-1)]: Using backend LokyBackend with 12 concurrent workers.\n",
      "[Parallel(n_jobs=-1)]: Done   1 out of   1 | elapsed:    0.3s finished\n"
     ]
    }
   ],
   "source": [
    "C_val = uniform(loc=0, scale=4)\n",
    "lr=LogisticRegression(verbose=verbose,random_state=random_state,class_weight='balanced',max_iter=500,n_jobs=-1)\n",
    "parameters={'C':C_val}\n",
    "clf=RandomizedSearchCV(lr,parameters,verbose=verbose,cv=cv,random_state=random_state,scoring=scoring,n_iter=100,n_jobs=-1)\n",
    "best_model=clf.fit(train_ohe,y_true)"
   ]
  },
  {
   "cell_type": "code",
   "execution_count": 39,
   "metadata": {},
   "outputs": [
    {
     "data": {
      "text/plain": [
       "0.7948627261366896"
      ]
     },
     "execution_count": 39,
     "metadata": {},
     "output_type": "execute_result"
    }
   ],
   "source": [
    "best_c=best_model.best_params_['C']\n",
    "best_c"
   ]
  },
  {
   "cell_type": "code",
   "execution_count": 40,
   "metadata": {},
   "outputs": [
    {
     "data": {
      "text/html": [
       "<div>\n",
       "<style scoped>\n",
       "    .dataframe tbody tr th:only-of-type {\n",
       "        vertical-align: middle;\n",
       "    }\n",
       "\n",
       "    .dataframe tbody tr th {\n",
       "        vertical-align: top;\n",
       "    }\n",
       "\n",
       "    .dataframe thead th {\n",
       "        text-align: right;\n",
       "    }\n",
       "</style>\n",
       "<table border=\"1\" class=\"dataframe\">\n",
       "  <thead>\n",
       "    <tr style=\"text-align: right;\">\n",
       "      <th></th>\n",
       "      <th>mean_fit_time</th>\n",
       "      <th>std_fit_time</th>\n",
       "      <th>mean_score_time</th>\n",
       "      <th>std_score_time</th>\n",
       "      <th>param_C</th>\n",
       "      <th>params</th>\n",
       "      <th>split0_test_score</th>\n",
       "      <th>split1_test_score</th>\n",
       "      <th>split2_test_score</th>\n",
       "      <th>split3_test_score</th>\n",
       "      <th>split4_test_score</th>\n",
       "      <th>mean_test_score</th>\n",
       "      <th>std_test_score</th>\n",
       "      <th>rank_test_score</th>\n",
       "    </tr>\n",
       "  </thead>\n",
       "  <tbody>\n",
       "    <tr>\n",
       "      <th>72</th>\n",
       "      <td>0.359144</td>\n",
       "      <td>0.018063</td>\n",
       "      <td>0.006981</td>\n",
       "      <td>0.000631</td>\n",
       "      <td>0.022088</td>\n",
       "      <td>{'C': 0.022088468494409597}</td>\n",
       "      <td>0.827415</td>\n",
       "      <td>0.833777</td>\n",
       "      <td>0.808035</td>\n",
       "      <td>0.814502</td>\n",
       "      <td>0.841708</td>\n",
       "      <td>0.825087</td>\n",
       "      <td>0.012329</td>\n",
       "      <td>100</td>\n",
       "    </tr>\n",
       "    <tr>\n",
       "      <th>10</th>\n",
       "      <td>0.522660</td>\n",
       "      <td>0.044222</td>\n",
       "      <td>0.006184</td>\n",
       "      <td>0.000399</td>\n",
       "      <td>0.082338</td>\n",
       "      <td>{'C': 0.08233797718320979}</td>\n",
       "      <td>0.864374</td>\n",
       "      <td>0.867161</td>\n",
       "      <td>0.845380</td>\n",
       "      <td>0.846580</td>\n",
       "      <td>0.866256</td>\n",
       "      <td>0.857950</td>\n",
       "      <td>0.009822</td>\n",
       "      <td>99</td>\n",
       "    </tr>\n",
       "    <tr>\n",
       "      <th>98</th>\n",
       "      <td>0.687189</td>\n",
       "      <td>0.092516</td>\n",
       "      <td>0.006583</td>\n",
       "      <td>0.000489</td>\n",
       "      <td>0.101677</td>\n",
       "      <td>{'C': 0.10167650697638075}</td>\n",
       "      <td>0.868155</td>\n",
       "      <td>0.870643</td>\n",
       "      <td>0.849562</td>\n",
       "      <td>0.850073</td>\n",
       "      <td>0.868926</td>\n",
       "      <td>0.861472</td>\n",
       "      <td>0.009551</td>\n",
       "      <td>98</td>\n",
       "    </tr>\n",
       "    <tr>\n",
       "      <th>42</th>\n",
       "      <td>0.750133</td>\n",
       "      <td>0.119015</td>\n",
       "      <td>0.006782</td>\n",
       "      <td>0.000747</td>\n",
       "      <td>0.137554</td>\n",
       "      <td>{'C': 0.13755408446087358}</td>\n",
       "      <td>0.872632</td>\n",
       "      <td>0.874930</td>\n",
       "      <td>0.855066</td>\n",
       "      <td>0.854638</td>\n",
       "      <td>0.872126</td>\n",
       "      <td>0.865878</td>\n",
       "      <td>0.009053</td>\n",
       "      <td>97</td>\n",
       "    </tr>\n",
       "    <tr>\n",
       "      <th>58</th>\n",
       "      <td>0.806174</td>\n",
       "      <td>0.128414</td>\n",
       "      <td>0.006384</td>\n",
       "      <td>0.000489</td>\n",
       "      <td>0.180909</td>\n",
       "      <td>{'C': 0.18090915564215226}</td>\n",
       "      <td>0.875813</td>\n",
       "      <td>0.877965</td>\n",
       "      <td>0.859005</td>\n",
       "      <td>0.857691</td>\n",
       "      <td>0.874480</td>\n",
       "      <td>0.868991</td>\n",
       "      <td>0.008771</td>\n",
       "      <td>96</td>\n",
       "    </tr>\n",
       "    <tr>\n",
       "      <th>...</th>\n",
       "      <td>...</td>\n",
       "      <td>...</td>\n",
       "      <td>...</td>\n",
       "      <td>...</td>\n",
       "      <td>...</td>\n",
       "      <td>...</td>\n",
       "      <td>...</td>\n",
       "      <td>...</td>\n",
       "      <td>...</td>\n",
       "      <td>...</td>\n",
       "      <td>...</td>\n",
       "      <td>...</td>\n",
       "      <td>...</td>\n",
       "      <td>...</td>\n",
       "    </tr>\n",
       "    <tr>\n",
       "      <th>1</th>\n",
       "      <td>2.070548</td>\n",
       "      <td>0.126947</td>\n",
       "      <td>0.006583</td>\n",
       "      <td>0.000490</td>\n",
       "      <td>3.802857</td>\n",
       "      <td>{'C': 3.8028572256396647}</td>\n",
       "      <td>0.877215</td>\n",
       "      <td>0.881082</td>\n",
       "      <td>0.863760</td>\n",
       "      <td>0.853882</td>\n",
       "      <td>0.876353</td>\n",
       "      <td>0.870458</td>\n",
       "      <td>0.010128</td>\n",
       "      <td>90</td>\n",
       "    </tr>\n",
       "    <tr>\n",
       "      <th>34</th>\n",
       "      <td>2.029165</td>\n",
       "      <td>0.093574</td>\n",
       "      <td>0.006983</td>\n",
       "      <td>0.000893</td>\n",
       "      <td>3.862528</td>\n",
       "      <td>{'C': 3.8625281322982374}</td>\n",
       "      <td>0.877135</td>\n",
       "      <td>0.880991</td>\n",
       "      <td>0.863656</td>\n",
       "      <td>0.853775</td>\n",
       "      <td>0.876278</td>\n",
       "      <td>0.870367</td>\n",
       "      <td>0.010138</td>\n",
       "      <td>91</td>\n",
       "    </tr>\n",
       "    <tr>\n",
       "      <th>50</th>\n",
       "      <td>2.002646</td>\n",
       "      <td>0.147376</td>\n",
       "      <td>0.006781</td>\n",
       "      <td>0.000399</td>\n",
       "      <td>3.878339</td>\n",
       "      <td>{'C': 3.8783385110582342}</td>\n",
       "      <td>0.877105</td>\n",
       "      <td>0.880956</td>\n",
       "      <td>0.863630</td>\n",
       "      <td>0.853730</td>\n",
       "      <td>0.876245</td>\n",
       "      <td>0.870333</td>\n",
       "      <td>0.010142</td>\n",
       "      <td>92</td>\n",
       "    </tr>\n",
       "    <tr>\n",
       "      <th>11</th>\n",
       "      <td>1.910550</td>\n",
       "      <td>0.105065</td>\n",
       "      <td>0.006785</td>\n",
       "      <td>0.001164</td>\n",
       "      <td>3.879639</td>\n",
       "      <td>{'C': 3.8796394086479773}</td>\n",
       "      <td>0.877091</td>\n",
       "      <td>0.880962</td>\n",
       "      <td>0.863608</td>\n",
       "      <td>0.853724</td>\n",
       "      <td>0.876251</td>\n",
       "      <td>0.870327</td>\n",
       "      <td>0.010146</td>\n",
       "      <td>93</td>\n",
       "    </tr>\n",
       "    <tr>\n",
       "      <th>69</th>\n",
       "      <td>2.032485</td>\n",
       "      <td>0.103842</td>\n",
       "      <td>0.006383</td>\n",
       "      <td>0.000488</td>\n",
       "      <td>3.947548</td>\n",
       "      <td>{'C': 3.947547746402069}</td>\n",
       "      <td>0.877010</td>\n",
       "      <td>0.880829</td>\n",
       "      <td>0.863509</td>\n",
       "      <td>0.853591</td>\n",
       "      <td>0.876152</td>\n",
       "      <td>0.870218</td>\n",
       "      <td>0.010153</td>\n",
       "      <td>94</td>\n",
       "    </tr>\n",
       "  </tbody>\n",
       "</table>\n",
       "<p>100 rows × 14 columns</p>\n",
       "</div>"
      ],
      "text/plain": [
       "    mean_fit_time  std_fit_time  mean_score_time  std_score_time   param_C  \\\n",
       "72       0.359144      0.018063         0.006981        0.000631  0.022088   \n",
       "10       0.522660      0.044222         0.006184        0.000399  0.082338   \n",
       "98       0.687189      0.092516         0.006583        0.000489  0.101677   \n",
       "42       0.750133      0.119015         0.006782        0.000747  0.137554   \n",
       "58       0.806174      0.128414         0.006384        0.000489  0.180909   \n",
       "..            ...           ...              ...             ...       ...   \n",
       "1        2.070548      0.126947         0.006583        0.000490  3.802857   \n",
       "34       2.029165      0.093574         0.006983        0.000893  3.862528   \n",
       "50       2.002646      0.147376         0.006781        0.000399  3.878339   \n",
       "11       1.910550      0.105065         0.006785        0.001164  3.879639   \n",
       "69       2.032485      0.103842         0.006383        0.000488  3.947548   \n",
       "\n",
       "                         params  split0_test_score  split1_test_score  \\\n",
       "72  {'C': 0.022088468494409597}           0.827415           0.833777   \n",
       "10   {'C': 0.08233797718320979}           0.864374           0.867161   \n",
       "98   {'C': 0.10167650697638075}           0.868155           0.870643   \n",
       "42   {'C': 0.13755408446087358}           0.872632           0.874930   \n",
       "58   {'C': 0.18090915564215226}           0.875813           0.877965   \n",
       "..                          ...                ...                ...   \n",
       "1     {'C': 3.8028572256396647}           0.877215           0.881082   \n",
       "34    {'C': 3.8625281322982374}           0.877135           0.880991   \n",
       "50    {'C': 3.8783385110582342}           0.877105           0.880956   \n",
       "11    {'C': 3.8796394086479773}           0.877091           0.880962   \n",
       "69     {'C': 3.947547746402069}           0.877010           0.880829   \n",
       "\n",
       "    split2_test_score  split3_test_score  split4_test_score  mean_test_score  \\\n",
       "72           0.808035           0.814502           0.841708         0.825087   \n",
       "10           0.845380           0.846580           0.866256         0.857950   \n",
       "98           0.849562           0.850073           0.868926         0.861472   \n",
       "42           0.855066           0.854638           0.872126         0.865878   \n",
       "58           0.859005           0.857691           0.874480         0.868991   \n",
       "..                ...                ...                ...              ...   \n",
       "1            0.863760           0.853882           0.876353         0.870458   \n",
       "34           0.863656           0.853775           0.876278         0.870367   \n",
       "50           0.863630           0.853730           0.876245         0.870333   \n",
       "11           0.863608           0.853724           0.876251         0.870327   \n",
       "69           0.863509           0.853591           0.876152         0.870218   \n",
       "\n",
       "    std_test_score  rank_test_score  \n",
       "72        0.012329              100  \n",
       "10        0.009822               99  \n",
       "98        0.009551               98  \n",
       "42        0.009053               97  \n",
       "58        0.008771               96  \n",
       "..             ...              ...  \n",
       "1         0.010128               90  \n",
       "34        0.010138               91  \n",
       "50        0.010142               92  \n",
       "11        0.010146               93  \n",
       "69        0.010153               94  \n",
       "\n",
       "[100 rows x 14 columns]"
      ]
     },
     "execution_count": 40,
     "metadata": {},
     "output_type": "execute_result"
    }
   ],
   "source": [
    "result=pd.DataFrame.from_dict(best_model.cv_results_)\n",
    "result=result.sort_values('param_C')\n",
    "result"
   ]
  },
  {
   "cell_type": "code",
   "execution_count": 41,
   "metadata": {},
   "outputs": [
    {
     "data": {
      "image/png": "[encoded data removed]",
      "text/plain": [
       "<Figure size 1000x300 with 1 Axes>"
      ]
     },
     "metadata": {},
     "output_type": "display_data"
    }
   ],
   "source": [
    "plt.figure(figsize=(10,3))\n",
    "plt.plot(result['param_C'],result['mean_test_score']);\n",
    "plt.grid();\n",
    "plt.xlabel('Hyperparameter - C');\n",
    "plt.ylabel('Mean ROC_AUC');\n",
    "plt.title('Test score'); \n",
    "plt.grid();"
   ]
  },
  {
   "cell_type": "code",
   "execution_count": 42,
   "metadata": {},
   "outputs": [
    {
     "name": "stderr",
     "output_type": "stream",
     "text": [
      "[Parallel(n_jobs=-1)]: Using backend LokyBackend with 12 concurrent workers.\n",
      "[Parallel(n_jobs=-1)]: Done   1 out of   1 | elapsed:    0.2s finished\n"
     ]
    },
    {
     "data": {
      "text/html": [
       "<style>#sk-container-id-4 {color: black;background-color: white;}#sk-container-id-4 pre{padding: 0;}#sk-container-id-4 div.sk-toggleable {background-color: white;}#sk-container-id-4 label.sk-toggleable__label {cursor: pointer;display: block;width: 100%;margin-bottom: 0;padding: 0.3em;box-sizing: border-box;text-align: center;}#sk-container-id-4 label.sk-toggleable__label-arrow:before {content: \"▸\";float: left;margin-right: 0.25em;color: #696969;}#sk-container-id-4 label.sk-toggleable__label-arrow:hover:before {color: black;}#sk-container-id-4 div.sk-estimator:hover label.sk-toggleable__label-arrow:before {color: black;}#sk-container-id-4 div.sk-toggleable__content {max-height: 0;max-width: 0;overflow: hidden;text-align: left;background-color: #f0f8ff;}#sk-container-id-4 div.sk-toggleable__content pre {margin: 0.2em;color: black;border-radius: 0.25em;background-color: #f0f8ff;}#sk-container-id-4 input.sk-toggleable__control:checked~div.sk-toggleable__content {max-height: 200px;max-width: 100%;overflow: auto;}#sk-container-id-4 input.sk-toggleable__control:checked~label.sk-toggleable__label-arrow:before {content: \"▾\";}#sk-container-id-4 div.sk-estimator input.sk-toggleable__control:checked~label.sk-toggleable__label {background-color: #d4ebff;}#sk-container-id-4 div.sk-label input.sk-toggleable__control:checked~label.sk-toggleable__label {background-color: #d4ebff;}#sk-container-id-4 input.sk-hidden--visually {border: 0;clip: rect(1px 1px 1px 1px);clip: rect(1px, 1px, 1px, 1px);height: 1px;margin: -1px;overflow: hidden;padding: 0;position: absolute;width: 1px;}#sk-container-id-4 div.sk-estimator {font-family: monospace;background-color: #f0f8ff;border: 1px dotted black;border-radius: 0.25em;box-sizing: border-box;margin-bottom: 0.5em;}#sk-container-id-4 div.sk-estimator:hover {background-color: #d4ebff;}#sk-container-id-4 div.sk-parallel-item::after {content: \"\";width: 100%;border-bottom: 1px solid gray;flex-grow: 1;}#sk-container-id-4 div.sk-label:hover label.sk-toggleable__label {background-color: #d4ebff;}#sk-container-id-4 div.sk-serial::before {content: \"\";position: absolute;border-left: 1px solid gray;box-sizing: border-box;top: 0;bottom: 0;left: 50%;z-index: 0;}#sk-container-id-4 div.sk-serial {display: flex;flex-direction: column;align-items: center;background-color: white;padding-right: 0.2em;padding-left: 0.2em;position: relative;}#sk-container-id-4 div.sk-item {position: relative;z-index: 1;}#sk-container-id-4 div.sk-parallel {display: flex;align-items: stretch;justify-content: center;background-color: white;position: relative;}#sk-container-id-4 div.sk-item::before, #sk-container-id-4 div.sk-parallel-item::before {content: \"\";position: absolute;border-left: 1px solid gray;box-sizing: border-box;top: 0;bottom: 0;left: 50%;z-index: -1;}#sk-container-id-4 div.sk-parallel-item {display: flex;flex-direction: column;z-index: 1;position: relative;background-color: white;}#sk-container-id-4 div.sk-parallel-item:first-child::after {align-self: flex-end;width: 50%;}#sk-container-id-4 div.sk-parallel-item:last-child::after {align-self: flex-start;width: 50%;}#sk-container-id-4 div.sk-parallel-item:only-child::after {width: 0;}#sk-container-id-4 div.sk-dashed-wrapped {border: 1px dashed gray;margin: 0 0.4em 0.5em 0.4em;box-sizing: border-box;padding-bottom: 0.4em;background-color: white;}#sk-container-id-4 div.sk-label label {font-family: monospace;font-weight: bold;display: inline-block;line-height: 1.2em;}#sk-container-id-4 div.sk-label-container {text-align: center;}#sk-container-id-4 div.sk-container {/* jupyter's `normalize.less` sets `[hidden] { display: none; }` but bootstrap.min.css set `[hidden] { display: none !important; }` so we also need the `!important` here to be able to override the default hidden behavior on the sphinx rendered scikit-learn.org. See: https://github.com/scikit-learn/scikit-learn/issues/21755 */display: inline-block !important;position: relative;}#sk-container-id-4 div.sk-text-repr-fallback {display: none;}</style><div id=\"sk-container-id-4\" class=\"sk-top-container\"><div class=\"sk-text-repr-fallback\"><pre>LogisticRegression(C=0.7948627261366896, class_weight=&#x27;balanced&#x27;, n_jobs=-1,\n",
       "                   random_state=42, verbose=2)</pre><b>In a Jupyter environment, please rerun this cell to show the HTML representation or trust the notebook. <br />On GitHub, the HTML representation is unable to render, please try loading this page with nbviewer.org.</b></div><div class=\"sk-container\" hidden><div class=\"sk-item\"><div class=\"sk-estimator sk-toggleable\"><input class=\"sk-toggleable__control sk-hidden--visually\" id=\"sk-estimator-id-4\" type=\"checkbox\" checked><label for=\"sk-estimator-id-4\" class=\"sk-toggleable__label sk-toggleable__label-arrow\">LogisticRegression</label><div class=\"sk-toggleable__content\"><pre>LogisticRegression(C=0.7948627261366896, class_weight=&#x27;balanced&#x27;, n_jobs=-1,\n",
       "                   random_state=42, verbose=2)</pre></div></div></div></div></div>"
      ],
      "text/plain": [
       "LogisticRegression(C=0.7948627261366896, class_weight='balanced', n_jobs=-1,\n",
       "                   random_state=42, verbose=2)"
      ]
     },
     "execution_count": 42,
     "metadata": {},
     "output_type": "execute_result"
    }
   ],
   "source": [
    "model=LogisticRegression(C=best_c,verbose=verbose,random_state=random_state,class_weight='balanced',n_jobs=-1)\n",
    "model.fit(train_ohe,y_true)"
   ]
  },
  {
   "cell_type": "code",
   "execution_count": 43,
   "metadata": {},
   "outputs": [
    {
     "data": {
      "text/plain": [
       "(91.88562360767799, 0.9413502628159217)"
      ]
     },
     "execution_count": 43,
     "metadata": {},
     "output_type": "execute_result"
    }
   ],
   "source": [
    "y_pred=model.predict(train_ohe)\n",
    "test_acc_lr_ohe=accuracy_score(y_true,y_pred)*100\n",
    "auc_lr_ohe = roc_auc_score(y_true, y_pred)\n",
    "test_acc_lr_ohe,auc_lr_ohe"
   ]
  },
  {
   "cell_type": "code",
   "execution_count": 70,
   "metadata": {},
   "outputs": [
    {
     "name": "stdout",
     "output_type": "stream",
     "text": [
      "+---------------------+---------+----------+---------+\n",
      "|        Model        | Feature | Accuracy | ROC_AUC |\n",
      "+---------------------+---------+----------+---------+\n",
      "| Logistic Regression |    -    | 94.32408 | 0.53041 |\n",
      "| Logistic Regression |   ohe   | 91.88562 | 0.94135 |\n",
      "+---------------------+---------+----------+---------+\n"
     ]
    }
   ],
   "source": [
    "from prettytable import PrettyTable\n",
    "x = PrettyTable(['Model', 'Feature', 'Accuracy', 'ROC_AUC'])\n",
    "x.add_row(['Logistic Regression', '-', round(test_acc_knn,5), round(auc_lr,5)])\n",
    "x.add_row(['Logistic Regression','ohe', round(test_acc_lr_ohe,5), round(auc_lr_ohe,5)])\n",
    "print(x)"
   ]
  },
  {
   "cell_type": "markdown",
   "metadata": {},
   "source": [
    "Decision Tree"
   ]
  },
  {
   "cell_type": "code",
   "execution_count": 45,
   "metadata": {},
   "outputs": [],
   "source": [
    "from scipy.stats import randint\n",
    "from sklearn.tree import DecisionTreeClassifier\n",
    "from sklearn.model_selection import RandomizedSearchCV"
   ]
  },
  {
   "cell_type": "code",
   "execution_count": 46,
   "metadata": {},
   "outputs": [],
   "source": [
    "param_dist = {\"max_depth\": [3, None],\"max_features\": randint(1, 9),\"min_samples_leaf\": randint(1, 9),\"criterion\": [\"gini\", \"entropy\"]}"
   ]
  },
  {
   "cell_type": "code",
   "execution_count": 47,
   "metadata": {},
   "outputs": [
    {
     "name": "stdout",
     "output_type": "stream",
     "text": [
      "Fitting 5 folds for each of 100 candidates, totalling 500 fits\n"
     ]
    }
   ],
   "source": [
    "tree = DecisionTreeClassifier()\n",
    "clf=RandomizedSearchCV(tree, param_dist,verbose=verbose,cv=cv,random_state=random_state,scoring=scoring,n_iter=100,n_jobs=-1)\n",
    "best_model=clf.fit(x_train,y_train)"
   ]
  },
  {
   "cell_type": "code",
   "execution_count": 48,
   "metadata": {},
   "outputs": [],
   "source": [
    "from sklearn.metrics import roc_auc_score"
   ]
  },
  {
   "cell_type": "code",
   "execution_count": 49,
   "metadata": {},
   "outputs": [
    {
     "data": {
      "text/plain": [
       "(93.37808971620385, 0.6109477586983896)"
      ]
     },
     "execution_count": 49,
     "metadata": {},
     "output_type": "execute_result"
    }
   ],
   "source": [
    "y_pred=best_model.predict(x_test)\n",
    "test_acc_dt=accuracy_score(y_test,y_pred)*100\n",
    "auc_dt = roc_auc_score(y_test,y_pred)\n",
    "test_acc_dt,auc_dt"
   ]
  },
  {
   "cell_type": "code",
   "execution_count": 50,
   "metadata": {},
   "outputs": [
    {
     "data": {
      "text/plain": [
       "{'criterion': 'gini',\n",
       " 'max_depth': None,\n",
       " 'max_features': 4,\n",
       " 'min_samples_leaf': 8}"
      ]
     },
     "execution_count": 50,
     "metadata": {},
     "output_type": "execute_result"
    }
   ],
   "source": [
    "best_model.best_params_"
   ]
  },
  {
   "cell_type": "code",
   "execution_count": 51,
   "metadata": {},
   "outputs": [
    {
     "data": {
      "text/plain": [
       "4"
      ]
     },
     "execution_count": 51,
     "metadata": {},
     "output_type": "execute_result"
    }
   ],
   "source": [
    "param_max_features=best_model.best_params_['max_features']\n",
    "param_max_features"
   ]
  },
  {
   "cell_type": "code",
   "execution_count": 52,
   "metadata": {},
   "outputs": [
    {
     "data": {
      "text/html": [
       "<div>\n",
       "<style scoped>\n",
       "    .dataframe tbody tr th:only-of-type {\n",
       "        vertical-align: middle;\n",
       "    }\n",
       "\n",
       "    .dataframe tbody tr th {\n",
       "        vertical-align: top;\n",
       "    }\n",
       "\n",
       "    .dataframe thead th {\n",
       "        text-align: right;\n",
       "    }\n",
       "</style>\n",
       "<table border=\"1\" class=\"dataframe\">\n",
       "  <thead>\n",
       "    <tr style=\"text-align: right;\">\n",
       "      <th></th>\n",
       "      <th>mean_fit_time</th>\n",
       "      <th>std_fit_time</th>\n",
       "      <th>mean_score_time</th>\n",
       "      <th>std_score_time</th>\n",
       "      <th>param_criterion</th>\n",
       "      <th>param_max_depth</th>\n",
       "      <th>param_max_features</th>\n",
       "      <th>param_min_samples_leaf</th>\n",
       "      <th>params</th>\n",
       "      <th>split0_test_score</th>\n",
       "      <th>split1_test_score</th>\n",
       "      <th>split2_test_score</th>\n",
       "      <th>split3_test_score</th>\n",
       "      <th>split4_test_score</th>\n",
       "      <th>mean_test_score</th>\n",
       "      <th>std_test_score</th>\n",
       "      <th>rank_test_score</th>\n",
       "    </tr>\n",
       "  </thead>\n",
       "  <tbody>\n",
       "    <tr>\n",
       "      <th>0</th>\n",
       "      <td>0.115406</td>\n",
       "      <td>0.003053</td>\n",
       "      <td>0.006784</td>\n",
       "      <td>0.000745</td>\n",
       "      <td>gini</td>\n",
       "      <td>None</td>\n",
       "      <td>5</td>\n",
       "      <td>7</td>\n",
       "      <td>{'criterion': 'gini', 'max_depth': None, 'max_...</td>\n",
       "      <td>0.758214</td>\n",
       "      <td>0.763180</td>\n",
       "      <td>0.730374</td>\n",
       "      <td>0.743648</td>\n",
       "      <td>0.748325</td>\n",
       "      <td>0.748748</td>\n",
       "      <td>0.011504</td>\n",
       "      <td>14</td>\n",
       "    </tr>\n",
       "    <tr>\n",
       "      <th>1</th>\n",
       "      <td>0.121294</td>\n",
       "      <td>0.007299</td>\n",
       "      <td>0.006984</td>\n",
       "      <td>0.000630</td>\n",
       "      <td>gini</td>\n",
       "      <td>None</td>\n",
       "      <td>5</td>\n",
       "      <td>5</td>\n",
       "      <td>{'criterion': 'gini', 'max_depth': None, 'max_...</td>\n",
       "      <td>0.761435</td>\n",
       "      <td>0.771153</td>\n",
       "      <td>0.717616</td>\n",
       "      <td>0.754949</td>\n",
       "      <td>0.741252</td>\n",
       "      <td>0.749281</td>\n",
       "      <td>0.018576</td>\n",
       "      <td>12</td>\n",
       "    </tr>\n",
       "    <tr>\n",
       "      <th>2</th>\n",
       "      <td>0.073842</td>\n",
       "      <td>0.012222</td>\n",
       "      <td>0.007977</td>\n",
       "      <td>0.002524</td>\n",
       "      <td>gini</td>\n",
       "      <td>None</td>\n",
       "      <td>3</td>\n",
       "      <td>7</td>\n",
       "      <td>{'criterion': 'gini', 'max_depth': None, 'max_...</td>\n",
       "      <td>0.737528</td>\n",
       "      <td>0.755565</td>\n",
       "      <td>0.734969</td>\n",
       "      <td>0.748829</td>\n",
       "      <td>0.742213</td>\n",
       "      <td>0.743821</td>\n",
       "      <td>0.007531</td>\n",
       "      <td>20</td>\n",
       "    </tr>\n",
       "    <tr>\n",
       "      <th>3</th>\n",
       "      <td>0.044514</td>\n",
       "      <td>0.002329</td>\n",
       "      <td>0.006782</td>\n",
       "      <td>0.000747</td>\n",
       "      <td>gini</td>\n",
       "      <td>3</td>\n",
       "      <td>8</td>\n",
       "      <td>5</td>\n",
       "      <td>{'criterion': 'gini', 'max_depth': 3, 'max_fea...</td>\n",
       "      <td>0.616580</td>\n",
       "      <td>0.642652</td>\n",
       "      <td>0.587848</td>\n",
       "      <td>0.599319</td>\n",
       "      <td>0.603934</td>\n",
       "      <td>0.610067</td>\n",
       "      <td>0.018714</td>\n",
       "      <td>60</td>\n",
       "    </tr>\n",
       "    <tr>\n",
       "      <th>4</th>\n",
       "      <td>0.203802</td>\n",
       "      <td>0.015436</td>\n",
       "      <td>0.007380</td>\n",
       "      <td>0.001353</td>\n",
       "      <td>entropy</td>\n",
       "      <td>None</td>\n",
       "      <td>8</td>\n",
       "      <td>3</td>\n",
       "      <td>{'criterion': 'entropy', 'max_depth': None, 'm...</td>\n",
       "      <td>0.740595</td>\n",
       "      <td>0.762807</td>\n",
       "      <td>0.699834</td>\n",
       "      <td>0.730269</td>\n",
       "      <td>0.739489</td>\n",
       "      <td>0.734599</td>\n",
       "      <td>0.020411</td>\n",
       "      <td>36</td>\n",
       "    </tr>\n",
       "    <tr>\n",
       "      <th>...</th>\n",
       "      <td>...</td>\n",
       "      <td>...</td>\n",
       "      <td>...</td>\n",
       "      <td>...</td>\n",
       "      <td>...</td>\n",
       "      <td>...</td>\n",
       "      <td>...</td>\n",
       "      <td>...</td>\n",
       "      <td>...</td>\n",
       "      <td>...</td>\n",
       "      <td>...</td>\n",
       "      <td>...</td>\n",
       "      <td>...</td>\n",
       "      <td>...</td>\n",
       "      <td>...</td>\n",
       "      <td>...</td>\n",
       "      <td>...</td>\n",
       "    </tr>\n",
       "    <tr>\n",
       "      <th>95</th>\n",
       "      <td>0.116110</td>\n",
       "      <td>0.007142</td>\n",
       "      <td>0.008777</td>\n",
       "      <td>0.003591</td>\n",
       "      <td>entropy</td>\n",
       "      <td>None</td>\n",
       "      <td>4</td>\n",
       "      <td>5</td>\n",
       "      <td>{'criterion': 'entropy', 'max_depth': None, 'm...</td>\n",
       "      <td>0.738072</td>\n",
       "      <td>0.772939</td>\n",
       "      <td>0.735550</td>\n",
       "      <td>0.732243</td>\n",
       "      <td>0.747071</td>\n",
       "      <td>0.745175</td>\n",
       "      <td>0.014729</td>\n",
       "      <td>19</td>\n",
       "    </tr>\n",
       "    <tr>\n",
       "      <th>96</th>\n",
       "      <td>0.082501</td>\n",
       "      <td>0.012917</td>\n",
       "      <td>0.007183</td>\n",
       "      <td>0.000746</td>\n",
       "      <td>gini</td>\n",
       "      <td>None</td>\n",
       "      <td>3</td>\n",
       "      <td>7</td>\n",
       "      <td>{'criterion': 'gini', 'max_depth': None, 'max_...</td>\n",
       "      <td>0.736357</td>\n",
       "      <td>0.757211</td>\n",
       "      <td>0.746783</td>\n",
       "      <td>0.758999</td>\n",
       "      <td>0.757510</td>\n",
       "      <td>0.751372</td>\n",
       "      <td>0.008677</td>\n",
       "      <td>8</td>\n",
       "    </tr>\n",
       "    <tr>\n",
       "      <th>97</th>\n",
       "      <td>0.025339</td>\n",
       "      <td>0.002120</td>\n",
       "      <td>0.007579</td>\n",
       "      <td>0.002410</td>\n",
       "      <td>gini</td>\n",
       "      <td>3</td>\n",
       "      <td>3</td>\n",
       "      <td>3</td>\n",
       "      <td>{'criterion': 'gini', 'max_depth': 3, 'max_fea...</td>\n",
       "      <td>0.597587</td>\n",
       "      <td>0.654726</td>\n",
       "      <td>0.588161</td>\n",
       "      <td>0.551598</td>\n",
       "      <td>0.587261</td>\n",
       "      <td>0.595866</td>\n",
       "      <td>0.033348</td>\n",
       "      <td>84</td>\n",
       "    </tr>\n",
       "    <tr>\n",
       "      <th>98</th>\n",
       "      <td>0.090677</td>\n",
       "      <td>0.003919</td>\n",
       "      <td>0.006381</td>\n",
       "      <td>0.000489</td>\n",
       "      <td>entropy</td>\n",
       "      <td>None</td>\n",
       "      <td>3</td>\n",
       "      <td>4</td>\n",
       "      <td>{'criterion': 'entropy', 'max_depth': None, 'm...</td>\n",
       "      <td>0.729212</td>\n",
       "      <td>0.729529</td>\n",
       "      <td>0.718291</td>\n",
       "      <td>0.702740</td>\n",
       "      <td>0.723244</td>\n",
       "      <td>0.720603</td>\n",
       "      <td>0.009851</td>\n",
       "      <td>43</td>\n",
       "    </tr>\n",
       "    <tr>\n",
       "      <th>99</th>\n",
       "      <td>0.176876</td>\n",
       "      <td>0.015357</td>\n",
       "      <td>0.006580</td>\n",
       "      <td>0.002242</td>\n",
       "      <td>entropy</td>\n",
       "      <td>None</td>\n",
       "      <td>8</td>\n",
       "      <td>1</td>\n",
       "      <td>{'criterion': 'entropy', 'max_depth': None, 'm...</td>\n",
       "      <td>0.677926</td>\n",
       "      <td>0.686528</td>\n",
       "      <td>0.675337</td>\n",
       "      <td>0.653823</td>\n",
       "      <td>0.681954</td>\n",
       "      <td>0.675114</td>\n",
       "      <td>0.011299</td>\n",
       "      <td>52</td>\n",
       "    </tr>\n",
       "  </tbody>\n",
       "</table>\n",
       "<p>100 rows × 17 columns</p>\n",
       "</div>"
      ],
      "text/plain": [
       "    mean_fit_time  std_fit_time  mean_score_time  std_score_time  \\\n",
       "0        0.115406      0.003053         0.006784        0.000745   \n",
       "1        0.121294      0.007299         0.006984        0.000630   \n",
       "2        0.073842      0.012222         0.007977        0.002524   \n",
       "3        0.044514      0.002329         0.006782        0.000747   \n",
       "4        0.203802      0.015436         0.007380        0.001353   \n",
       "..            ...           ...              ...             ...   \n",
       "95       0.116110      0.007142         0.008777        0.003591   \n",
       "96       0.082501      0.012917         0.007183        0.000746   \n",
       "97       0.025339      0.002120         0.007579        0.002410   \n",
       "98       0.090677      0.003919         0.006381        0.000489   \n",
       "99       0.176876      0.015357         0.006580        0.002242   \n",
       "\n",
       "   param_criterion param_max_depth param_max_features param_min_samples_leaf  \\\n",
       "0             gini            None                  5                      7   \n",
       "1             gini            None                  5                      5   \n",
       "2             gini            None                  3                      7   \n",
       "3             gini               3                  8                      5   \n",
       "4          entropy            None                  8                      3   \n",
       "..             ...             ...                ...                    ...   \n",
       "95         entropy            None                  4                      5   \n",
       "96            gini            None                  3                      7   \n",
       "97            gini               3                  3                      3   \n",
       "98         entropy            None                  3                      4   \n",
       "99         entropy            None                  8                      1   \n",
       "\n",
       "                                               params  split0_test_score  \\\n",
       "0   {'criterion': 'gini', 'max_depth': None, 'max_...           0.758214   \n",
       "1   {'criterion': 'gini', 'max_depth': None, 'max_...           0.761435   \n",
       "2   {'criterion': 'gini', 'max_depth': None, 'max_...           0.737528   \n",
       "3   {'criterion': 'gini', 'max_depth': 3, 'max_fea...           0.616580   \n",
       "4   {'criterion': 'entropy', 'max_depth': None, 'm...           0.740595   \n",
       "..                                                ...                ...   \n",
       "95  {'criterion': 'entropy', 'max_depth': None, 'm...           0.738072   \n",
       "96  {'criterion': 'gini', 'max_depth': None, 'max_...           0.736357   \n",
       "97  {'criterion': 'gini', 'max_depth': 3, 'max_fea...           0.597587   \n",
       "98  {'criterion': 'entropy', 'max_depth': None, 'm...           0.729212   \n",
       "99  {'criterion': 'entropy', 'max_depth': None, 'm...           0.677926   \n",
       "\n",
       "    split1_test_score  split2_test_score  split3_test_score  \\\n",
       "0            0.763180           0.730374           0.743648   \n",
       "1            0.771153           0.717616           0.754949   \n",
       "2            0.755565           0.734969           0.748829   \n",
       "3            0.642652           0.587848           0.599319   \n",
       "4            0.762807           0.699834           0.730269   \n",
       "..                ...                ...                ...   \n",
       "95           0.772939           0.735550           0.732243   \n",
       "96           0.757211           0.746783           0.758999   \n",
       "97           0.654726           0.588161           0.551598   \n",
       "98           0.729529           0.718291           0.702740   \n",
       "99           0.686528           0.675337           0.653823   \n",
       "\n",
       "    split4_test_score  mean_test_score  std_test_score  rank_test_score  \n",
       "0            0.748325         0.748748        0.011504               14  \n",
       "1            0.741252         0.749281        0.018576               12  \n",
       "2            0.742213         0.743821        0.007531               20  \n",
       "3            0.603934         0.610067        0.018714               60  \n",
       "4            0.739489         0.734599        0.020411               36  \n",
       "..                ...              ...             ...              ...  \n",
       "95           0.747071         0.745175        0.014729               19  \n",
       "96           0.757510         0.751372        0.008677                8  \n",
       "97           0.587261         0.595866        0.033348               84  \n",
       "98           0.723244         0.720603        0.009851               43  \n",
       "99           0.681954         0.675114        0.011299               52  \n",
       "\n",
       "[100 rows x 17 columns]"
      ]
     },
     "execution_count": 52,
     "metadata": {},
     "output_type": "execute_result"
    }
   ],
   "source": [
    "results=pd.DataFrame.from_dict(best_model.cv_results_)\n",
    "# results=results.sort_values('param_n_neighbors')\n",
    "results"
   ]
  },
  {
   "cell_type": "code",
   "execution_count": 53,
   "metadata": {},
   "outputs": [
    {
     "data": {
      "text/plain": [
       "array([5, 3, 8, 2, 6, 1, 7, 4], dtype=object)"
      ]
     },
     "execution_count": 53,
     "metadata": {},
     "output_type": "execute_result"
    }
   ],
   "source": [
    "results['param_max_features'].unique()"
   ]
  },
  {
   "cell_type": "code",
   "execution_count": 54,
   "metadata": {},
   "outputs": [
    {
     "data": {
      "image/png": "[encoded data removed]",
      "text/plain": [
       "<Figure size 1000x300 with 1 Axes>"
      ]
     },
     "metadata": {},
     "output_type": "display_data"
    }
   ],
   "source": [
    "results=results.sort_values('param_max_features')\n",
    "plt.figure(figsize=(10,3))\n",
    "plt.plot(results['param_max_features'],results['mean_test_score']);\n",
    "plt.grid();\n",
    "plt.xlabel('Hyperparameter - param_max_features');\n",
    "plt.ylabel('Mean ROC_AUC');\n",
    "plt.title('Test score'); \n",
    "plt.grid();"
   ]
  },
  {
   "cell_type": "code",
   "execution_count": 55,
   "metadata": {},
   "outputs": [
    {
     "data": {
      "text/html": [
       "<style>#sk-container-id-5 {color: black;background-color: white;}#sk-container-id-5 pre{padding: 0;}#sk-container-id-5 div.sk-toggleable {background-color: white;}#sk-container-id-5 label.sk-toggleable__label {cursor: pointer;display: block;width: 100%;margin-bottom: 0;padding: 0.3em;box-sizing: border-box;text-align: center;}#sk-container-id-5 label.sk-toggleable__label-arrow:before {content: \"▸\";float: left;margin-right: 0.25em;color: #696969;}#sk-container-id-5 label.sk-toggleable__label-arrow:hover:before {color: black;}#sk-container-id-5 div.sk-estimator:hover label.sk-toggleable__label-arrow:before {color: black;}#sk-container-id-5 div.sk-toggleable__content {max-height: 0;max-width: 0;overflow: hidden;text-align: left;background-color: #f0f8ff;}#sk-container-id-5 div.sk-toggleable__content pre {margin: 0.2em;color: black;border-radius: 0.25em;background-color: #f0f8ff;}#sk-container-id-5 input.sk-toggleable__control:checked~div.sk-toggleable__content {max-height: 200px;max-width: 100%;overflow: auto;}#sk-container-id-5 input.sk-toggleable__control:checked~label.sk-toggleable__label-arrow:before {content: \"▾\";}#sk-container-id-5 div.sk-estimator input.sk-toggleable__control:checked~label.sk-toggleable__label {background-color: #d4ebff;}#sk-container-id-5 div.sk-label input.sk-toggleable__control:checked~label.sk-toggleable__label {background-color: #d4ebff;}#sk-container-id-5 input.sk-hidden--visually {border: 0;clip: rect(1px 1px 1px 1px);clip: rect(1px, 1px, 1px, 1px);height: 1px;margin: -1px;overflow: hidden;padding: 0;position: absolute;width: 1px;}#sk-container-id-5 div.sk-estimator {font-family: monospace;background-color: #f0f8ff;border: 1px dotted black;border-radius: 0.25em;box-sizing: border-box;margin-bottom: 0.5em;}#sk-container-id-5 div.sk-estimator:hover {background-color: #d4ebff;}#sk-container-id-5 div.sk-parallel-item::after {content: \"\";width: 100%;border-bottom: 1px solid gray;flex-grow: 1;}#sk-container-id-5 div.sk-label:hover label.sk-toggleable__label {background-color: #d4ebff;}#sk-container-id-5 div.sk-serial::before {content: \"\";position: absolute;border-left: 1px solid gray;box-sizing: border-box;top: 0;bottom: 0;left: 50%;z-index: 0;}#sk-container-id-5 div.sk-serial {display: flex;flex-direction: column;align-items: center;background-color: white;padding-right: 0.2em;padding-left: 0.2em;position: relative;}#sk-container-id-5 div.sk-item {position: relative;z-index: 1;}#sk-container-id-5 div.sk-parallel {display: flex;align-items: stretch;justify-content: center;background-color: white;position: relative;}#sk-container-id-5 div.sk-item::before, #sk-container-id-5 div.sk-parallel-item::before {content: \"\";position: absolute;border-left: 1px solid gray;box-sizing: border-box;top: 0;bottom: 0;left: 50%;z-index: -1;}#sk-container-id-5 div.sk-parallel-item {display: flex;flex-direction: column;z-index: 1;position: relative;background-color: white;}#sk-container-id-5 div.sk-parallel-item:first-child::after {align-self: flex-end;width: 50%;}#sk-container-id-5 div.sk-parallel-item:last-child::after {align-self: flex-start;width: 50%;}#sk-container-id-5 div.sk-parallel-item:only-child::after {width: 0;}#sk-container-id-5 div.sk-dashed-wrapped {border: 1px dashed gray;margin: 0 0.4em 0.5em 0.4em;box-sizing: border-box;padding-bottom: 0.4em;background-color: white;}#sk-container-id-5 div.sk-label label {font-family: monospace;font-weight: bold;display: inline-block;line-height: 1.2em;}#sk-container-id-5 div.sk-label-container {text-align: center;}#sk-container-id-5 div.sk-container {/* jupyter's `normalize.less` sets `[hidden] { display: none; }` but bootstrap.min.css set `[hidden] { display: none !important; }` so we also need the `!important` here to be able to override the default hidden behavior on the sphinx rendered scikit-learn.org. See: https://github.com/scikit-learn/scikit-learn/issues/21755 */display: inline-block !important;position: relative;}#sk-container-id-5 div.sk-text-repr-fallback {display: none;}</style><div id=\"sk-container-id-5\" class=\"sk-top-container\"><div class=\"sk-text-repr-fallback\"><pre>DecisionTreeClassifier(criterion=&#x27;entropy&#x27;, max_features=7, min_samples_leaf=6)</pre><b>In a Jupyter environment, please rerun this cell to show the HTML representation or trust the notebook. <br />On GitHub, the HTML representation is unable to render, please try loading this page with nbviewer.org.</b></div><div class=\"sk-container\" hidden><div class=\"sk-item\"><div class=\"sk-estimator sk-toggleable\"><input class=\"sk-toggleable__control sk-hidden--visually\" id=\"sk-estimator-id-5\" type=\"checkbox\" checked><label for=\"sk-estimator-id-5\" class=\"sk-toggleable__label sk-toggleable__label-arrow\">DecisionTreeClassifier</label><div class=\"sk-toggleable__content\"><pre>DecisionTreeClassifier(criterion=&#x27;entropy&#x27;, max_features=7, min_samples_leaf=6)</pre></div></div></div></div></div>"
      ],
      "text/plain": [
       "DecisionTreeClassifier(criterion='entropy', max_features=7, min_samples_leaf=6)"
      ]
     },
     "execution_count": 55,
     "metadata": {},
     "output_type": "execute_result"
    }
   ],
   "source": [
    "model = DecisionTreeClassifier(criterion='entropy', min_samples_leaf=6, max_features=7)\n",
    "model.fit(train_data,y_true)"
   ]
  },
  {
   "cell_type": "code",
   "execution_count": 56,
   "metadata": {},
   "outputs": [
    {
     "data": {
      "image/png": "[encoded data removed]",
      "text/plain": [
       "<Figure size 640x480 with 2 Axes>"
      ]
     },
     "metadata": {},
     "output_type": "display_data"
    }
   ],
   "source": [
    "from sklearn.metrics import confusion_matrix\n",
    "cm=confusion_matrix(y_test,y_pred)\n",
    "disp = ConfusionMatrixDisplay(confusion_matrix=cm,display_labels=model.classes_)\n",
    "disp.plot()\n",
    "plt.show()"
   ]
  },
  {
   "cell_type": "markdown",
   "metadata": {},
   "source": [
    "Decision tree OHE"
   ]
  },
  {
   "cell_type": "code",
   "execution_count": 57,
   "metadata": {},
   "outputs": [
    {
     "name": "stdout",
     "output_type": "stream",
     "text": [
      "Fitting 5 folds for each of 100 candidates, totalling 500 fits\n"
     ]
    }
   ],
   "source": [
    "param_dist = {\"max_depth\": [3, None],\"max_features\": randint(1, 9),\"min_samples_leaf\": randint(1, 9),\"criterion\": [\"gini\", \"entropy\"]}\n",
    "tree = DecisionTreeClassifier()\n",
    "clf=RandomizedSearchCV(tree, param_dist,verbose=verbose,cv=cv,random_state=random_state,scoring=scoring,n_iter=100,n_jobs=-1)\n",
    "best_model=clf.fit(train_ohe,y_true)"
   ]
  },
  {
   "cell_type": "code",
   "execution_count": 58,
   "metadata": {},
   "outputs": [
    {
     "data": {
      "text/html": [
       "<div>\n",
       "<style scoped>\n",
       "    .dataframe tbody tr th:only-of-type {\n",
       "        vertical-align: middle;\n",
       "    }\n",
       "\n",
       "    .dataframe tbody tr th {\n",
       "        vertical-align: top;\n",
       "    }\n",
       "\n",
       "    .dataframe thead th {\n",
       "        text-align: right;\n",
       "    }\n",
       "</style>\n",
       "<table border=\"1\" class=\"dataframe\">\n",
       "  <thead>\n",
       "    <tr style=\"text-align: right;\">\n",
       "      <th></th>\n",
       "      <th>mean_fit_time</th>\n",
       "      <th>std_fit_time</th>\n",
       "      <th>mean_score_time</th>\n",
       "      <th>std_score_time</th>\n",
       "      <th>param_criterion</th>\n",
       "      <th>param_max_depth</th>\n",
       "      <th>param_max_features</th>\n",
       "      <th>param_min_samples_leaf</th>\n",
       "      <th>params</th>\n",
       "      <th>split0_test_score</th>\n",
       "      <th>split1_test_score</th>\n",
       "      <th>split2_test_score</th>\n",
       "      <th>split3_test_score</th>\n",
       "      <th>split4_test_score</th>\n",
       "      <th>mean_test_score</th>\n",
       "      <th>std_test_score</th>\n",
       "      <th>rank_test_score</th>\n",
       "    </tr>\n",
       "  </thead>\n",
       "  <tbody>\n",
       "    <tr>\n",
       "      <th>89</th>\n",
       "      <td>0.010873</td>\n",
       "      <td>0.001678</td>\n",
       "      <td>0.004890</td>\n",
       "      <td>0.000193</td>\n",
       "      <td>entropy</td>\n",
       "      <td>None</td>\n",
       "      <td>1</td>\n",
       "      <td>3</td>\n",
       "      <td>{'criterion': 'entropy', 'max_depth': None, 'm...</td>\n",
       "      <td>0.500162</td>\n",
       "      <td>0.501053</td>\n",
       "      <td>0.501477</td>\n",
       "      <td>0.503574</td>\n",
       "      <td>0.500000</td>\n",
       "      <td>0.501253</td>\n",
       "      <td>0.001283</td>\n",
       "      <td>88</td>\n",
       "    </tr>\n",
       "    <tr>\n",
       "      <th>71</th>\n",
       "      <td>0.010372</td>\n",
       "      <td>0.001353</td>\n",
       "      <td>0.005290</td>\n",
       "      <td>0.001394</td>\n",
       "      <td>entropy</td>\n",
       "      <td>3</td>\n",
       "      <td>1</td>\n",
       "      <td>5</td>\n",
       "      <td>{'criterion': 'entropy', 'max_depth': 3, 'max_...</td>\n",
       "      <td>0.500000</td>\n",
       "      <td>0.500000</td>\n",
       "      <td>0.500386</td>\n",
       "      <td>0.511687</td>\n",
       "      <td>0.500000</td>\n",
       "      <td>0.502415</td>\n",
       "      <td>0.004639</td>\n",
       "      <td>69</td>\n",
       "    </tr>\n",
       "    <tr>\n",
       "      <th>44</th>\n",
       "      <td>0.011370</td>\n",
       "      <td>0.001494</td>\n",
       "      <td>0.004491</td>\n",
       "      <td>0.001003</td>\n",
       "      <td>gini</td>\n",
       "      <td>3</td>\n",
       "      <td>1</td>\n",
       "      <td>3</td>\n",
       "      <td>{'criterion': 'gini', 'max_depth': 3, 'max_fea...</td>\n",
       "      <td>0.501053</td>\n",
       "      <td>0.500000</td>\n",
       "      <td>0.500729</td>\n",
       "      <td>0.500000</td>\n",
       "      <td>0.500162</td>\n",
       "      <td>0.500389</td>\n",
       "      <td>0.000427</td>\n",
       "      <td>99</td>\n",
       "    </tr>\n",
       "    <tr>\n",
       "      <th>82</th>\n",
       "      <td>2.198303</td>\n",
       "      <td>0.132920</td>\n",
       "      <td>0.025145</td>\n",
       "      <td>0.004947</td>\n",
       "      <td>entropy</td>\n",
       "      <td>None</td>\n",
       "      <td>1</td>\n",
       "      <td>1</td>\n",
       "      <td>{'criterion': 'entropy', 'max_depth': None, 'm...</td>\n",
       "      <td>0.669750</td>\n",
       "      <td>0.664691</td>\n",
       "      <td>0.642896</td>\n",
       "      <td>0.639292</td>\n",
       "      <td>0.674682</td>\n",
       "      <td>0.658262</td>\n",
       "      <td>0.014415</td>\n",
       "      <td>20</td>\n",
       "    </tr>\n",
       "    <tr>\n",
       "      <th>69</th>\n",
       "      <td>0.015958</td>\n",
       "      <td>0.005240</td>\n",
       "      <td>0.004787</td>\n",
       "      <td>0.000746</td>\n",
       "      <td>gini</td>\n",
       "      <td>None</td>\n",
       "      <td>1</td>\n",
       "      <td>2</td>\n",
       "      <td>{'criterion': 'gini', 'max_depth': None, 'max_...</td>\n",
       "      <td>0.501579</td>\n",
       "      <td>0.514206</td>\n",
       "      <td>0.507646</td>\n",
       "      <td>0.515709</td>\n",
       "      <td>0.515220</td>\n",
       "      <td>0.510872</td>\n",
       "      <td>0.005480</td>\n",
       "      <td>42</td>\n",
       "    </tr>\n",
       "    <tr>\n",
       "      <th>...</th>\n",
       "      <td>...</td>\n",
       "      <td>...</td>\n",
       "      <td>...</td>\n",
       "      <td>...</td>\n",
       "      <td>...</td>\n",
       "      <td>...</td>\n",
       "      <td>...</td>\n",
       "      <td>...</td>\n",
       "      <td>...</td>\n",
       "      <td>...</td>\n",
       "      <td>...</td>\n",
       "      <td>...</td>\n",
       "      <td>...</td>\n",
       "      <td>...</td>\n",
       "      <td>...</td>\n",
       "      <td>...</td>\n",
       "      <td>...</td>\n",
       "    </tr>\n",
       "    <tr>\n",
       "      <th>42</th>\n",
       "      <td>0.230224</td>\n",
       "      <td>0.047134</td>\n",
       "      <td>0.014561</td>\n",
       "      <td>0.007817</td>\n",
       "      <td>gini</td>\n",
       "      <td>None</td>\n",
       "      <td>8</td>\n",
       "      <td>5</td>\n",
       "      <td>{'criterion': 'gini', 'max_depth': None, 'max_...</td>\n",
       "      <td>0.687258</td>\n",
       "      <td>0.721013</td>\n",
       "      <td>0.711413</td>\n",
       "      <td>0.758575</td>\n",
       "      <td>0.707511</td>\n",
       "      <td>0.717154</td>\n",
       "      <td>0.023453</td>\n",
       "      <td>3</td>\n",
       "    </tr>\n",
       "    <tr>\n",
       "      <th>43</th>\n",
       "      <td>0.111419</td>\n",
       "      <td>0.070534</td>\n",
       "      <td>0.008179</td>\n",
       "      <td>0.002476</td>\n",
       "      <td>gini</td>\n",
       "      <td>None</td>\n",
       "      <td>8</td>\n",
       "      <td>6</td>\n",
       "      <td>{'criterion': 'gini', 'max_depth': None, 'max_...</td>\n",
       "      <td>0.549007</td>\n",
       "      <td>0.598025</td>\n",
       "      <td>0.701608</td>\n",
       "      <td>0.610269</td>\n",
       "      <td>0.689274</td>\n",
       "      <td>0.629637</td>\n",
       "      <td>0.057640</td>\n",
       "      <td>23</td>\n",
       "    </tr>\n",
       "    <tr>\n",
       "      <th>54</th>\n",
       "      <td>0.010276</td>\n",
       "      <td>0.000400</td>\n",
       "      <td>0.004589</td>\n",
       "      <td>0.000798</td>\n",
       "      <td>entropy</td>\n",
       "      <td>3</td>\n",
       "      <td>8</td>\n",
       "      <td>7</td>\n",
       "      <td>{'criterion': 'entropy', 'max_depth': 3, 'max_...</td>\n",
       "      <td>0.506877</td>\n",
       "      <td>0.499919</td>\n",
       "      <td>0.504159</td>\n",
       "      <td>0.502187</td>\n",
       "      <td>0.502236</td>\n",
       "      <td>0.503076</td>\n",
       "      <td>0.002328</td>\n",
       "      <td>56</td>\n",
       "    </tr>\n",
       "    <tr>\n",
       "      <th>22</th>\n",
       "      <td>0.182840</td>\n",
       "      <td>0.042771</td>\n",
       "      <td>0.010475</td>\n",
       "      <td>0.002524</td>\n",
       "      <td>entropy</td>\n",
       "      <td>None</td>\n",
       "      <td>8</td>\n",
       "      <td>4</td>\n",
       "      <td>{'criterion': 'entropy', 'max_depth': None, 'm...</td>\n",
       "      <td>0.685909</td>\n",
       "      <td>0.731085</td>\n",
       "      <td>0.681283</td>\n",
       "      <td>0.642453</td>\n",
       "      <td>0.652268</td>\n",
       "      <td>0.678600</td>\n",
       "      <td>0.031033</td>\n",
       "      <td>12</td>\n",
       "    </tr>\n",
       "    <tr>\n",
       "      <th>99</th>\n",
       "      <td>1.430927</td>\n",
       "      <td>0.101998</td>\n",
       "      <td>0.011375</td>\n",
       "      <td>0.001016</td>\n",
       "      <td>entropy</td>\n",
       "      <td>None</td>\n",
       "      <td>8</td>\n",
       "      <td>1</td>\n",
       "      <td>{'criterion': 'entropy', 'max_depth': None, 'm...</td>\n",
       "      <td>0.695059</td>\n",
       "      <td>0.683623</td>\n",
       "      <td>0.656583</td>\n",
       "      <td>0.661548</td>\n",
       "      <td>0.699449</td>\n",
       "      <td>0.679252</td>\n",
       "      <td>0.017345</td>\n",
       "      <td>11</td>\n",
       "    </tr>\n",
       "  </tbody>\n",
       "</table>\n",
       "<p>100 rows × 17 columns</p>\n",
       "</div>"
      ],
      "text/plain": [
       "    mean_fit_time  std_fit_time  mean_score_time  std_score_time  \\\n",
       "89       0.010873      0.001678         0.004890        0.000193   \n",
       "71       0.010372      0.001353         0.005290        0.001394   \n",
       "44       0.011370      0.001494         0.004491        0.001003   \n",
       "82       2.198303      0.132920         0.025145        0.004947   \n",
       "69       0.015958      0.005240         0.004787        0.000746   \n",
       "..            ...           ...              ...             ...   \n",
       "42       0.230224      0.047134         0.014561        0.007817   \n",
       "43       0.111419      0.070534         0.008179        0.002476   \n",
       "54       0.010276      0.000400         0.004589        0.000798   \n",
       "22       0.182840      0.042771         0.010475        0.002524   \n",
       "99       1.430927      0.101998         0.011375        0.001016   \n",
       "\n",
       "   param_criterion param_max_depth param_max_features param_min_samples_leaf  \\\n",
       "89         entropy            None                  1                      3   \n",
       "71         entropy               3                  1                      5   \n",
       "44            gini               3                  1                      3   \n",
       "82         entropy            None                  1                      1   \n",
       "69            gini            None                  1                      2   \n",
       "..             ...             ...                ...                    ...   \n",
       "42            gini            None                  8                      5   \n",
       "43            gini            None                  8                      6   \n",
       "54         entropy               3                  8                      7   \n",
       "22         entropy            None                  8                      4   \n",
       "99         entropy            None                  8                      1   \n",
       "\n",
       "                                               params  split0_test_score  \\\n",
       "89  {'criterion': 'entropy', 'max_depth': None, 'm...           0.500162   \n",
       "71  {'criterion': 'entropy', 'max_depth': 3, 'max_...           0.500000   \n",
       "44  {'criterion': 'gini', 'max_depth': 3, 'max_fea...           0.501053   \n",
       "82  {'criterion': 'entropy', 'max_depth': None, 'm...           0.669750   \n",
       "69  {'criterion': 'gini', 'max_depth': None, 'max_...           0.501579   \n",
       "..                                                ...                ...   \n",
       "42  {'criterion': 'gini', 'max_depth': None, 'max_...           0.687258   \n",
       "43  {'criterion': 'gini', 'max_depth': None, 'max_...           0.549007   \n",
       "54  {'criterion': 'entropy', 'max_depth': 3, 'max_...           0.506877   \n",
       "22  {'criterion': 'entropy', 'max_depth': None, 'm...           0.685909   \n",
       "99  {'criterion': 'entropy', 'max_depth': None, 'm...           0.695059   \n",
       "\n",
       "    split1_test_score  split2_test_score  split3_test_score  \\\n",
       "89           0.501053           0.501477           0.503574   \n",
       "71           0.500000           0.500386           0.511687   \n",
       "44           0.500000           0.500729           0.500000   \n",
       "82           0.664691           0.642896           0.639292   \n",
       "69           0.514206           0.507646           0.515709   \n",
       "..                ...                ...                ...   \n",
       "42           0.721013           0.711413           0.758575   \n",
       "43           0.598025           0.701608           0.610269   \n",
       "54           0.499919           0.504159           0.502187   \n",
       "22           0.731085           0.681283           0.642453   \n",
       "99           0.683623           0.656583           0.661548   \n",
       "\n",
       "    split4_test_score  mean_test_score  std_test_score  rank_test_score  \n",
       "89           0.500000         0.501253        0.001283               88  \n",
       "71           0.500000         0.502415        0.004639               69  \n",
       "44           0.500162         0.500389        0.000427               99  \n",
       "82           0.674682         0.658262        0.014415               20  \n",
       "69           0.515220         0.510872        0.005480               42  \n",
       "..                ...              ...             ...              ...  \n",
       "42           0.707511         0.717154        0.023453                3  \n",
       "43           0.689274         0.629637        0.057640               23  \n",
       "54           0.502236         0.503076        0.002328               56  \n",
       "22           0.652268         0.678600        0.031033               12  \n",
       "99           0.699449         0.679252        0.017345               11  \n",
       "\n",
       "[100 rows x 17 columns]"
      ]
     },
     "execution_count": 58,
     "metadata": {},
     "output_type": "execute_result"
    }
   ],
   "source": [
    "results=pd.DataFrame.from_dict(best_model.cv_results_)\n",
    "results=results.sort_values('param_max_features')\n",
    "results"
   ]
  },
  {
   "cell_type": "code",
   "execution_count": 59,
   "metadata": {},
   "outputs": [
    {
     "data": {
      "image/png": "[encoded data removed]",
      "text/plain": [
       "<Figure size 1000x300 with 1 Axes>"
      ]
     },
     "metadata": {},
     "output_type": "display_data"
    }
   ],
   "source": [
    "plt.figure(figsize=(10,3))\n",
    "plt.plot(results['param_max_features'],results['mean_test_score']);\n",
    "plt.grid();\n",
    "plt.xlabel('Hyperparameter - param_max_features');\n",
    "plt.ylabel('Mean ROC_AUC');\n",
    "plt.title('Test score'); \n",
    "plt.grid();"
   ]
  },
  {
   "cell_type": "code",
   "execution_count": 60,
   "metadata": {},
   "outputs": [
    {
     "data": {
      "text/plain": [
       "{'criterion': 'entropy',\n",
       " 'max_depth': None,\n",
       " 'max_features': 8,\n",
       " 'min_samples_leaf': 3}"
      ]
     },
     "execution_count": 60,
     "metadata": {},
     "output_type": "execute_result"
    }
   ],
   "source": [
    "best_model.best_params_"
   ]
  },
  {
   "cell_type": "code",
   "execution_count": 65,
   "metadata": {},
   "outputs": [
    {
     "data": {
      "text/html": [
       "<style>#sk-container-id-7 {color: black;background-color: white;}#sk-container-id-7 pre{padding: 0;}#sk-container-id-7 div.sk-toggleable {background-color: white;}#sk-container-id-7 label.sk-toggleable__label {cursor: pointer;display: block;width: 100%;margin-bottom: 0;padding: 0.3em;box-sizing: border-box;text-align: center;}#sk-container-id-7 label.sk-toggleable__label-arrow:before {content: \"▸\";float: left;margin-right: 0.25em;color: #696969;}#sk-container-id-7 label.sk-toggleable__label-arrow:hover:before {color: black;}#sk-container-id-7 div.sk-estimator:hover label.sk-toggleable__label-arrow:before {color: black;}#sk-container-id-7 div.sk-toggleable__content {max-height: 0;max-width: 0;overflow: hidden;text-align: left;background-color: #f0f8ff;}#sk-container-id-7 div.sk-toggleable__content pre {margin: 0.2em;color: black;border-radius: 0.25em;background-color: #f0f8ff;}#sk-container-id-7 input.sk-toggleable__control:checked~div.sk-toggleable__content {max-height: 200px;max-width: 100%;overflow: auto;}#sk-container-id-7 input.sk-toggleable__control:checked~label.sk-toggleable__label-arrow:before {content: \"▾\";}#sk-container-id-7 div.sk-estimator input.sk-toggleable__control:checked~label.sk-toggleable__label {background-color: #d4ebff;}#sk-container-id-7 div.sk-label input.sk-toggleable__control:checked~label.sk-toggleable__label {background-color: #d4ebff;}#sk-container-id-7 input.sk-hidden--visually {border: 0;clip: rect(1px 1px 1px 1px);clip: rect(1px, 1px, 1px, 1px);height: 1px;margin: -1px;overflow: hidden;padding: 0;position: absolute;width: 1px;}#sk-container-id-7 div.sk-estimator {font-family: monospace;background-color: #f0f8ff;border: 1px dotted black;border-radius: 0.25em;box-sizing: border-box;margin-bottom: 0.5em;}#sk-container-id-7 div.sk-estimator:hover {background-color: #d4ebff;}#sk-container-id-7 div.sk-parallel-item::after {content: \"\";width: 100%;border-bottom: 1px solid gray;flex-grow: 1;}#sk-container-id-7 div.sk-label:hover label.sk-toggleable__label {background-color: #d4ebff;}#sk-container-id-7 div.sk-serial::before {content: \"\";position: absolute;border-left: 1px solid gray;box-sizing: border-box;top: 0;bottom: 0;left: 50%;z-index: 0;}#sk-container-id-7 div.sk-serial {display: flex;flex-direction: column;align-items: center;background-color: white;padding-right: 0.2em;padding-left: 0.2em;position: relative;}#sk-container-id-7 div.sk-item {position: relative;z-index: 1;}#sk-container-id-7 div.sk-parallel {display: flex;align-items: stretch;justify-content: center;background-color: white;position: relative;}#sk-container-id-7 div.sk-item::before, #sk-container-id-7 div.sk-parallel-item::before {content: \"\";position: absolute;border-left: 1px solid gray;box-sizing: border-box;top: 0;bottom: 0;left: 50%;z-index: -1;}#sk-container-id-7 div.sk-parallel-item {display: flex;flex-direction: column;z-index: 1;position: relative;background-color: white;}#sk-container-id-7 div.sk-parallel-item:first-child::after {align-self: flex-end;width: 50%;}#sk-container-id-7 div.sk-parallel-item:last-child::after {align-self: flex-start;width: 50%;}#sk-container-id-7 div.sk-parallel-item:only-child::after {width: 0;}#sk-container-id-7 div.sk-dashed-wrapped {border: 1px dashed gray;margin: 0 0.4em 0.5em 0.4em;box-sizing: border-box;padding-bottom: 0.4em;background-color: white;}#sk-container-id-7 div.sk-label label {font-family: monospace;font-weight: bold;display: inline-block;line-height: 1.2em;}#sk-container-id-7 div.sk-label-container {text-align: center;}#sk-container-id-7 div.sk-container {/* jupyter's `normalize.less` sets `[hidden] { display: none; }` but bootstrap.min.css set `[hidden] { display: none !important; }` so we also need the `!important` here to be able to override the default hidden behavior on the sphinx rendered scikit-learn.org. See: https://github.com/scikit-learn/scikit-learn/issues/21755 */display: inline-block !important;position: relative;}#sk-container-id-7 div.sk-text-repr-fallback {display: none;}</style><div id=\"sk-container-id-7\" class=\"sk-top-container\"><div class=\"sk-text-repr-fallback\"><pre>DecisionTreeClassifier(criterion=&#x27;entropy&#x27;, max_features=8, min_samples_leaf=3)</pre><b>In a Jupyter environment, please rerun this cell to show the HTML representation or trust the notebook. <br />On GitHub, the HTML representation is unable to render, please try loading this page with nbviewer.org.</b></div><div class=\"sk-container\" hidden><div class=\"sk-item\"><div class=\"sk-estimator sk-toggleable\"><input class=\"sk-toggleable__control sk-hidden--visually\" id=\"sk-estimator-id-7\" type=\"checkbox\" checked><label for=\"sk-estimator-id-7\" class=\"sk-toggleable__label sk-toggleable__label-arrow\">DecisionTreeClassifier</label><div class=\"sk-toggleable__content\"><pre>DecisionTreeClassifier(criterion=&#x27;entropy&#x27;, max_features=8, min_samples_leaf=3)</pre></div></div></div></div></div>"
      ],
      "text/plain": [
       "DecisionTreeClassifier(criterion='entropy', max_features=8, min_samples_leaf=3)"
      ]
     },
     "execution_count": 65,
     "metadata": {},
     "output_type": "execute_result"
    }
   ],
   "source": [
    "model = DecisionTreeClassifier(criterion= 'entropy',max_features=8,min_samples_leaf= 3)\n",
    "model.fit(train_data,y_true)"
   ]
  },
  {
   "cell_type": "code",
   "execution_count": 66,
   "metadata": {},
   "outputs": [
    {
     "data": {
      "text/plain": [
       "(96.97894415624046, 0.8567646332941953)"
      ]
     },
     "execution_count": 66,
     "metadata": {},
     "output_type": "execute_result"
    }
   ],
   "source": [
    "y_pred=model.predict(x_test)\n",
    "test_acc_dt_ohe=accuracy_score(y_test,y_pred)*100\n",
    "auc_dt_ohe= roc_auc_score(y_test,y_pred)\n",
    "test_acc_dt_ohe,auc_dt_ohe"
   ]
  },
  {
   "cell_type": "code",
   "execution_count": 68,
   "metadata": {},
   "outputs": [
    {
     "name": "stdout",
     "output_type": "stream",
     "text": [
      "+---------------+---------+----------+---------+\n",
      "|     Model     | Feature | Accuracy | ROC_AUC |\n",
      "+---------------+---------+----------+---------+\n",
      "| Decision Tree |    -    | 93.37809 | 0.61095 |\n",
      "| Decision Tree |   ohe   | 96.97894 | 0.85676 |\n",
      "+---------------+---------+----------+---------+\n"
     ]
    }
   ],
   "source": [
    "from prettytable import PrettyTable\n",
    "x = PrettyTable(['Model', 'Feature', 'Accuracy', 'ROC_AUC'])\n",
    "x.add_row(['Decision Tree', '-', round(test_acc_dt,5), round(auc_dt,5)])\n",
    "x.add_row(['Decision Tree','ohe', round(test_acc_dt_ohe,5), round(auc_dt_ohe,5)])\n",
    "print(x)"
   ]
  },
  {
   "cell_type": "markdown",
   "metadata": {},
   "source": [
    "Random Forest"
   ]
  },
  {
   "cell_type": "code",
   "execution_count": null,
   "metadata": {},
   "outputs": [],
   "source": []
  }
 ],
 "metadata": {
  "kernelspec": {
   "display_name": "Python 3 (ipykernel)",
   "language": "python",
   "name": "python3"
  },
  "language_info": {
   "codemirror_mode": {
    "name": "ipython",
    "version": 3
   },
   "file_extension": ".py",
   "mimetype": "text/x-python",
   "name": "python",
   "nbconvert_exporter": "python",
   "pygments_lexer": "ipython3",
   "version": "3.11.1"
  },
  "vscode": {
   "interpreter": {
    "hash": "b5366fdf1b75ea46866cbb0dbf20c9c00a492271cd056179d726b8c91a378c13"
   }
  }
 },
 "nbformat": 4,
 "nbformat_minor": 2
}
