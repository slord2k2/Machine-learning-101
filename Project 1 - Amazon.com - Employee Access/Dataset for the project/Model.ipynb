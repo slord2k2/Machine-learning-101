{
 "cells": [
  {
   "cell_type": "code",
   "execution_count": 1,
   "metadata": {},
   "outputs": [],
   "source": [
    "import numpy as np\n",
    "import pandas as pd\n",
    "import matplotlib.pyplot as plt\n",
    "%matplotlib inline\n",
    "import seaborn as sns\n",
    "import math\n",
    "from scipy import sparse"
   ]
  },
  {
   "cell_type": "code",
   "execution_count": 2,
   "metadata": {},
   "outputs": [],
   "source": [
    "# Common Varibles\n",
    "random_state=42\n",
    "cv=5\n",
    "scoring='roc_auc'\n",
    "verbose=2"
   ]
  },
  {
   "cell_type": "markdown",
   "metadata": {},
   "source": [
    "I'll be performing classification models on raw data and on OHE."
   ]
  },
  {
   "cell_type": "code",
   "execution_count": 3,
   "metadata": {},
   "outputs": [],
   "source": [
    "train_data=pd.read_csv('train.csv')\n",
    "test=pd.read_csv('test.csv')\n",
    "test_data=test.drop(columns=['id'],axis=1)"
   ]
  },
  {
   "cell_type": "code",
   "execution_count": 4,
   "metadata": {},
   "outputs": [
    {
     "data": {
      "text/plain": [
       "((32769, 9), (32769,))"
      ]
     },
     "execution_count": 4,
     "metadata": {},
     "output_type": "execute_result"
    }
   ],
   "source": [
    "y_true=train_data['ACTION']\n",
    "train_data=train_data.drop(['ACTION'],axis=1)\n",
    "train_data.shape,y_true.shape"
   ]
  },
  {
   "cell_type": "code",
   "execution_count": 5,
   "metadata": {},
   "outputs": [
    {
     "data": {
      "text/plain": [
       "((26215, 9), (6554, 9))"
      ]
     },
     "execution_count": 5,
     "metadata": {},
     "output_type": "execute_result"
    }
   ],
   "source": [
    "#splitting the dataset\n",
    "from sklearn.model_selection import train_test_split\n",
    "# Split dataset into training set and test set\n",
    "x_train, x_test, y_train, y_test = train_test_split(train_data,y_true, test_size=0.2,random_state=100)\n",
    "x_train.shape,x_test.shape"
   ]
  },
  {
   "cell_type": "markdown",
   "metadata": {},
   "source": [
    "KNN classifier"
   ]
  },
  {
   "cell_type": "code",
   "execution_count": 6,
   "metadata": {},
   "outputs": [],
   "source": [
    "from sklearn.neighbors import KNeighborsClassifier\n",
    "from sklearn.metrics import accuracy_score,ConfusionMatrixDisplay"
   ]
  },
  {
   "cell_type": "code",
   "execution_count": 7,
   "metadata": {},
   "outputs": [
    {
     "name": "stdout",
     "output_type": "stream",
     "text": [
      "Fitting 5 folds for each of 10 candidates, totalling 50 fits\n",
      "[CV] END ......................................n_neighbors=1; total time=   3.4s\n",
      "[CV] END ......................................n_neighbors=1; total time=   0.1s\n",
      "[CV] END ......................................n_neighbors=1; total time=   0.1s\n",
      "[CV] END ......................................n_neighbors=1; total time=   0.1s\n",
      "[CV] END ......................................n_neighbors=1; total time=   0.1s\n",
      "[CV] END .....................................n_neighbors=86; total time=   0.2s\n",
      "[CV] END .....................................n_neighbors=86; total time=   0.2s\n",
      "[CV] END .....................................n_neighbors=86; total time=   0.1s\n",
      "[CV] END .....................................n_neighbors=86; total time=   0.1s\n",
      "[CV] END .....................................n_neighbors=86; total time=   0.1s\n",
      "[CV] END .....................................n_neighbors=76; total time=   0.1s\n",
      "[CV] END .....................................n_neighbors=76; total time=   0.1s\n",
      "[CV] END .....................................n_neighbors=76; total time=   0.1s\n",
      "[CV] END .....................................n_neighbors=76; total time=   0.1s\n",
      "[CV] END .....................................n_neighbors=76; total time=   0.1s\n",
      "[CV] END ......................................n_neighbors=6; total time=   0.1s\n",
      "[CV] END ......................................n_neighbors=6; total time=   0.1s\n",
      "[CV] END ......................................n_neighbors=6; total time=   0.1s\n",
      "[CV] END ......................................n_neighbors=6; total time=   0.1s\n",
      "[CV] END ......................................n_neighbors=6; total time=   0.1s\n",
      "[CV] END .....................................n_neighbors=41; total time=   0.1s\n",
      "[CV] END .....................................n_neighbors=41; total time=   0.1s\n",
      "[CV] END .....................................n_neighbors=41; total time=   0.1s\n",
      "[CV] END .....................................n_neighbors=41; total time=   0.1s\n",
      "[CV] END .....................................n_neighbors=41; total time=   0.1s\n",
      "[CV] END .....................................n_neighbors=26; total time=   0.1s\n",
      "[CV] END .....................................n_neighbors=26; total time=   0.1s\n",
      "[CV] END .....................................n_neighbors=26; total time=   0.1s\n",
      "[CV] END .....................................n_neighbors=26; total time=   0.1s\n",
      "[CV] END .....................................n_neighbors=26; total time=   0.1s\n",
      "[CV] END .....................................n_neighbors=56; total time=   0.1s\n",
      "[CV] END .....................................n_neighbors=56; total time=   0.1s\n",
      "[CV] END .....................................n_neighbors=56; total time=   0.1s\n",
      "[CV] END .....................................n_neighbors=56; total time=   0.1s\n",
      "[CV] END .....................................n_neighbors=56; total time=   0.1s\n",
      "[CV] END .....................................n_neighbors=16; total time=   0.1s\n",
      "[CV] END .....................................n_neighbors=16; total time=   0.1s\n",
      "[CV] END .....................................n_neighbors=16; total time=   0.1s\n",
      "[CV] END .....................................n_neighbors=16; total time=   0.1s\n",
      "[CV] END .....................................n_neighbors=16; total time=   0.1s\n",
      "[CV] END .....................................n_neighbors=91; total time=   0.2s\n",
      "[CV] END .....................................n_neighbors=91; total time=   0.2s\n",
      "[CV] END .....................................n_neighbors=91; total time=   0.2s\n",
      "[CV] END .....................................n_neighbors=91; total time=   0.1s\n",
      "[CV] END .....................................n_neighbors=91; total time=   0.1s\n",
      "[CV] END .....................................n_neighbors=81; total time=   0.1s\n",
      "[CV] END .....................................n_neighbors=81; total time=   0.1s\n",
      "[CV] END .....................................n_neighbors=81; total time=   0.2s\n",
      "[CV] END .....................................n_neighbors=81; total time=   0.2s\n",
      "[CV] END .....................................n_neighbors=81; total time=   0.1s\n"
     ]
    }
   ],
   "source": [
    "knn = KNeighborsClassifier(n_jobs=-1)\n",
    "from sklearn.model_selection import RandomizedSearchCV\n",
    "k_range=np.arange(1,100,5)\n",
    "param_grid=dict(n_neighbors=k_range)\n",
    "grid=RandomizedSearchCV(knn,param_grid,cv=cv,random_state=random_state,scoring=scoring,verbose=verbose)\n",
    "grid_serch=grid.fit(x_train,y_train)"
   ]
  },
  {
   "cell_type": "code",
   "execution_count": 8,
   "metadata": {},
   "outputs": [
    {
     "data": {
      "text/plain": [
       "{'n_neighbors': 26}"
      ]
     },
     "execution_count": 8,
     "metadata": {},
     "output_type": "execute_result"
    }
   ],
   "source": [
    "grid_serch.best_params_"
   ]
  },
  {
   "cell_type": "code",
   "execution_count": 9,
   "metadata": {},
   "outputs": [
    {
     "data": {
      "text/plain": [
       "94.3240768996033"
      ]
     },
     "execution_count": 9,
     "metadata": {},
     "output_type": "execute_result"
    }
   ],
   "source": [
    "y_pred=grid.predict(x_test)\n",
    "test_acc_knn=accuracy_score(y_test,y_pred)*100\n",
    "test_acc_knn\n",
    "# knn=KNeighborsClassifier(n_neighbors=8)\n",
    "# knn.fit(x_train, y_train)\n",
    "# y_pred=knn.predict(x_test)\n",
    "# test_acc=accuracy_score(y_test,y_pred)*100\n",
    "# test_acc"
   ]
  },
  {
   "cell_type": "code",
   "execution_count": 10,
   "metadata": {},
   "outputs": [
    {
     "data": {
      "text/plain": [
       "0.5013404825737265"
      ]
     },
     "execution_count": 10,
     "metadata": {},
     "output_type": "execute_result"
    }
   ],
   "source": [
    "from sklearn.metrics import roc_auc_score\n",
    "auc_knn = roc_auc_score(y_test,y_pred)\n",
    "auc_knn"
   ]
  },
  {
   "cell_type": "code",
   "execution_count": 89,
   "metadata": {
    "scrolled": true
   },
   "outputs": [
    {
     "data": {
      "image/png": "[encoded data removed]",
      "text/plain": [
       "<Figure size 1000x300 with 1 Axes>"
      ]
     },
     "metadata": {},
     "output_type": "display_data"
    }
   ],
   "source": [
    "results=pd.DataFrame.from_dict(grid_serch.cv_results_)\n",
    "results=results.sort_values('param_n_neighbors')\n",
    "plt.figure(figsize=(10,3))\n",
    "plt.plot(results['param_n_neighbors'],results['mean_test_score']);\n",
    "plt.grid();\n",
    "plt.xlabel('Hyperparameter - No. of neighbors');\n",
    "plt.ylabel('Mean ROC_AUC');\n",
    "plt.title('Test score'); \n",
    "plt.grid();"
   ]
  },
  {
   "cell_type": "code",
   "execution_count": 12,
   "metadata": {},
   "outputs": [
    {
     "data": {
      "text/plain": [
       "26"
      ]
     },
     "execution_count": 12,
     "metadata": {},
     "output_type": "execute_result"
    }
   ],
   "source": [
    "best_c=grid_serch.best_params_['n_neighbors']\n",
    "best_c"
   ]
  },
  {
   "cell_type": "code",
   "execution_count": 13,
   "metadata": {},
   "outputs": [
    {
     "data": {
      "text/html": [
       "<style>#sk-container-id-1 {color: black;background-color: white;}#sk-container-id-1 pre{padding: 0;}#sk-container-id-1 div.sk-toggleable {background-color: white;}#sk-container-id-1 label.sk-toggleable__label {cursor: pointer;display: block;width: 100%;margin-bottom: 0;padding: 0.3em;box-sizing: border-box;text-align: center;}#sk-container-id-1 label.sk-toggleable__label-arrow:before {content: \"▸\";float: left;margin-right: 0.25em;color: #696969;}#sk-container-id-1 label.sk-toggleable__label-arrow:hover:before {color: black;}#sk-container-id-1 div.sk-estimator:hover label.sk-toggleable__label-arrow:before {color: black;}#sk-container-id-1 div.sk-toggleable__content {max-height: 0;max-width: 0;overflow: hidden;text-align: left;background-color: #f0f8ff;}#sk-container-id-1 div.sk-toggleable__content pre {margin: 0.2em;color: black;border-radius: 0.25em;background-color: #f0f8ff;}#sk-container-id-1 input.sk-toggleable__control:checked~div.sk-toggleable__content {max-height: 200px;max-width: 100%;overflow: auto;}#sk-container-id-1 input.sk-toggleable__control:checked~label.sk-toggleable__label-arrow:before {content: \"▾\";}#sk-container-id-1 div.sk-estimator input.sk-toggleable__control:checked~label.sk-toggleable__label {background-color: #d4ebff;}#sk-container-id-1 div.sk-label input.sk-toggleable__control:checked~label.sk-toggleable__label {background-color: #d4ebff;}#sk-container-id-1 input.sk-hidden--visually {border: 0;clip: rect(1px 1px 1px 1px);clip: rect(1px, 1px, 1px, 1px);height: 1px;margin: -1px;overflow: hidden;padding: 0;position: absolute;width: 1px;}#sk-container-id-1 div.sk-estimator {font-family: monospace;background-color: #f0f8ff;border: 1px dotted black;border-radius: 0.25em;box-sizing: border-box;margin-bottom: 0.5em;}#sk-container-id-1 div.sk-estimator:hover {background-color: #d4ebff;}#sk-container-id-1 div.sk-parallel-item::after {content: \"\";width: 100%;border-bottom: 1px solid gray;flex-grow: 1;}#sk-container-id-1 div.sk-label:hover label.sk-toggleable__label {background-color: #d4ebff;}#sk-container-id-1 div.sk-serial::before {content: \"\";position: absolute;border-left: 1px solid gray;box-sizing: border-box;top: 0;bottom: 0;left: 50%;z-index: 0;}#sk-container-id-1 div.sk-serial {display: flex;flex-direction: column;align-items: center;background-color: white;padding-right: 0.2em;padding-left: 0.2em;position: relative;}#sk-container-id-1 div.sk-item {position: relative;z-index: 1;}#sk-container-id-1 div.sk-parallel {display: flex;align-items: stretch;justify-content: center;background-color: white;position: relative;}#sk-container-id-1 div.sk-item::before, #sk-container-id-1 div.sk-parallel-item::before {content: \"\";position: absolute;border-left: 1px solid gray;box-sizing: border-box;top: 0;bottom: 0;left: 50%;z-index: -1;}#sk-container-id-1 div.sk-parallel-item {display: flex;flex-direction: column;z-index: 1;position: relative;background-color: white;}#sk-container-id-1 div.sk-parallel-item:first-child::after {align-self: flex-end;width: 50%;}#sk-container-id-1 div.sk-parallel-item:last-child::after {align-self: flex-start;width: 50%;}#sk-container-id-1 div.sk-parallel-item:only-child::after {width: 0;}#sk-container-id-1 div.sk-dashed-wrapped {border: 1px dashed gray;margin: 0 0.4em 0.5em 0.4em;box-sizing: border-box;padding-bottom: 0.4em;background-color: white;}#sk-container-id-1 div.sk-label label {font-family: monospace;font-weight: bold;display: inline-block;line-height: 1.2em;}#sk-container-id-1 div.sk-label-container {text-align: center;}#sk-container-id-1 div.sk-container {/* jupyter's `normalize.less` sets `[hidden] { display: none; }` but bootstrap.min.css set `[hidden] { display: none !important; }` so we also need the `!important` here to be able to override the default hidden behavior on the sphinx rendered scikit-learn.org. See: https://github.com/scikit-learn/scikit-learn/issues/21755 */display: inline-block !important;position: relative;}#sk-container-id-1 div.sk-text-repr-fallback {display: none;}</style><div id=\"sk-container-id-1\" class=\"sk-top-container\"><div class=\"sk-text-repr-fallback\"><pre>KNeighborsClassifier(n_jobs=-1, n_neighbors=26)</pre><b>In a Jupyter environment, please rerun this cell to show the HTML representation or trust the notebook. <br />On GitHub, the HTML representation is unable to render, please try loading this page with nbviewer.org.</b></div><div class=\"sk-container\" hidden><div class=\"sk-item\"><div class=\"sk-estimator sk-toggleable\"><input class=\"sk-toggleable__control sk-hidden--visually\" id=\"sk-estimator-id-1\" type=\"checkbox\" checked><label for=\"sk-estimator-id-1\" class=\"sk-toggleable__label sk-toggleable__label-arrow\">KNeighborsClassifier</label><div class=\"sk-toggleable__content\"><pre>KNeighborsClassifier(n_jobs=-1, n_neighbors=26)</pre></div></div></div></div></div>"
      ],
      "text/plain": [
       "KNeighborsClassifier(n_jobs=-1, n_neighbors=26)"
      ]
     },
     "execution_count": 13,
     "metadata": {},
     "output_type": "execute_result"
    }
   ],
   "source": [
    "model=KNeighborsClassifier(n_neighbors=best_c,n_jobs=-1)\n",
    "model.fit(train_data,y_true)"
   ]
  },
  {
   "cell_type": "code",
   "execution_count": 14,
   "metadata": {},
   "outputs": [],
   "source": [
    "prediction=model.predict_proba(test_data)[:,1]"
   ]
  },
  {
   "cell_type": "code",
   "execution_count": 15,
   "metadata": {},
   "outputs": [],
   "source": [
    "submit = pd.DataFrame()\n",
    "submit[\"Id\"] = test[\"id\"]\n",
    "submit[\"ACTION\"] = prediction\n",
    "submit.to_csv(\"knn.csv\", index = False)"
   ]
  },
  {
   "cell_type": "code",
   "execution_count": 16,
   "metadata": {},
   "outputs": [],
   "source": [
    "from sklearn.metrics import confusion_matrix\n",
    "cm=confusion_matrix(y_test,y_pred)\n",
    "disp = ConfusionMatrixDisplay(confusion_matrix=cm,display_labels=grid.classes_)\n",
    "# y_test.shape,y_pred.shape"
   ]
  },
  {
   "cell_type": "code",
   "execution_count": 17,
   "metadata": {},
   "outputs": [
    {
     "data": {
      "image/png": "[encoded data removed]",
      "text/plain": [
       "<Figure size 640x480 with 2 Axes>"
      ]
     },
     "metadata": {},
     "output_type": "display_data"
    }
   ],
   "source": [
    "disp.plot()\n",
    "plt.show()"
   ]
  },
  {
   "cell_type": "markdown",
   "metadata": {},
   "source": [
    "KNN OHE"
   ]
  },
  {
   "cell_type": "code",
   "execution_count": 18,
   "metadata": {},
   "outputs": [
    {
     "data": {
      "text/plain": [
       "((32769, 4500), (912363, 4500))"
      ]
     },
     "execution_count": 18,
     "metadata": {},
     "output_type": "execute_result"
    }
   ],
   "source": [
    "from scipy import sparse\n",
    "train_ohe=sparse.load_npz('train_ohe.npz')\n",
    "test_ohe=sparse.load_npz('test_ohe.npz')\n",
    "train_ohe.shape,test_ohe.shape"
   ]
  },
  {
   "cell_type": "code",
   "execution_count": 19,
   "metadata": {},
   "outputs": [
    {
     "name": "stdout",
     "output_type": "stream",
     "text": [
      "Fitting 5 folds for each of 10 candidates, totalling 50 fits\n"
     ]
    }
   ],
   "source": [
    "from sklearn.model_selection import GridSearchCV\n",
    "parameters={'n_neighbors':np.arange(1,100,5)}\n",
    "clf=RandomizedSearchCV(KNeighborsClassifier(),parameters,cv=cv,verbose=verbose,scoring=scoring,n_jobs=4)\n",
    "# grid=RandomizedSearchCV(knn,param_grid,cv=cv,random_state=random_state,scoring=scoring,verbose=verbose)\n",
    "best_model=clf.fit(train_ohe,y_true)"
   ]
  },
  {
   "cell_type": "code",
   "execution_count": 20,
   "metadata": {},
   "outputs": [
    {
     "data": {
      "text/html": [
       "<div>\n",
       "<style scoped>\n",
       "    .dataframe tbody tr th:only-of-type {\n",
       "        vertical-align: middle;\n",
       "    }\n",
       "\n",
       "    .dataframe tbody tr th {\n",
       "        vertical-align: top;\n",
       "    }\n",
       "\n",
       "    .dataframe thead th {\n",
       "        text-align: right;\n",
       "    }\n",
       "</style>\n",
       "<table border=\"1\" class=\"dataframe\">\n",
       "  <thead>\n",
       "    <tr style=\"text-align: right;\">\n",
       "      <th></th>\n",
       "      <th>mean_fit_time</th>\n",
       "      <th>std_fit_time</th>\n",
       "      <th>mean_score_time</th>\n",
       "      <th>std_score_time</th>\n",
       "      <th>param_n_neighbors</th>\n",
       "      <th>params</th>\n",
       "      <th>split0_test_score</th>\n",
       "      <th>split1_test_score</th>\n",
       "      <th>split2_test_score</th>\n",
       "      <th>split3_test_score</th>\n",
       "      <th>split4_test_score</th>\n",
       "      <th>mean_test_score</th>\n",
       "      <th>std_test_score</th>\n",
       "      <th>rank_test_score</th>\n",
       "    </tr>\n",
       "  </thead>\n",
       "  <tbody>\n",
       "    <tr>\n",
       "      <th>7</th>\n",
       "      <td>0.018947</td>\n",
       "      <td>0.004547</td>\n",
       "      <td>26.551646</td>\n",
       "      <td>1.675076</td>\n",
       "      <td>1</td>\n",
       "      <td>{'n_neighbors': 1}</td>\n",
       "      <td>0.622648</td>\n",
       "      <td>0.627625</td>\n",
       "      <td>0.609351</td>\n",
       "      <td>0.623683</td>\n",
       "      <td>0.638444</td>\n",
       "      <td>0.624350</td>\n",
       "      <td>0.009356</td>\n",
       "      <td>10</td>\n",
       "    </tr>\n",
       "    <tr>\n",
       "      <th>9</th>\n",
       "      <td>0.024537</td>\n",
       "      <td>0.009196</td>\n",
       "      <td>21.894138</td>\n",
       "      <td>7.820504</td>\n",
       "      <td>6</td>\n",
       "      <td>{'n_neighbors': 6}</td>\n",
       "      <td>0.760056</td>\n",
       "      <td>0.794993</td>\n",
       "      <td>0.767923</td>\n",
       "      <td>0.750457</td>\n",
       "      <td>0.784015</td>\n",
       "      <td>0.771489</td>\n",
       "      <td>0.016094</td>\n",
       "      <td>9</td>\n",
       "    </tr>\n",
       "    <tr>\n",
       "      <th>6</th>\n",
       "      <td>0.014664</td>\n",
       "      <td>0.005637</td>\n",
       "      <td>34.474168</td>\n",
       "      <td>11.132145</td>\n",
       "      <td>11</td>\n",
       "      <td>{'n_neighbors': 11}</td>\n",
       "      <td>0.790634</td>\n",
       "      <td>0.816172</td>\n",
       "      <td>0.795604</td>\n",
       "      <td>0.779872</td>\n",
       "      <td>0.808527</td>\n",
       "      <td>0.798162</td>\n",
       "      <td>0.012880</td>\n",
       "      <td>5</td>\n",
       "    </tr>\n",
       "    <tr>\n",
       "      <th>5</th>\n",
       "      <td>0.025936</td>\n",
       "      <td>0.018311</td>\n",
       "      <td>33.294116</td>\n",
       "      <td>5.440506</td>\n",
       "      <td>16</td>\n",
       "      <td>{'n_neighbors': 16}</td>\n",
       "      <td>0.801253</td>\n",
       "      <td>0.819555</td>\n",
       "      <td>0.808495</td>\n",
       "      <td>0.782627</td>\n",
       "      <td>0.820162</td>\n",
       "      <td>0.806418</td>\n",
       "      <td>0.013846</td>\n",
       "      <td>1</td>\n",
       "    </tr>\n",
       "    <tr>\n",
       "      <th>1</th>\n",
       "      <td>0.021442</td>\n",
       "      <td>0.010549</td>\n",
       "      <td>19.467857</td>\n",
       "      <td>3.051742</td>\n",
       "      <td>31</td>\n",
       "      <td>{'n_neighbors': 31}</td>\n",
       "      <td>0.807146</td>\n",
       "      <td>0.822594</td>\n",
       "      <td>0.804889</td>\n",
       "      <td>0.772999</td>\n",
       "      <td>0.816963</td>\n",
       "      <td>0.804918</td>\n",
       "      <td>0.017212</td>\n",
       "      <td>2</td>\n",
       "    </tr>\n",
       "    <tr>\n",
       "      <th>3</th>\n",
       "      <td>0.019550</td>\n",
       "      <td>0.007612</td>\n",
       "      <td>47.514027</td>\n",
       "      <td>16.151696</td>\n",
       "      <td>41</td>\n",
       "      <td>{'n_neighbors': 41}</td>\n",
       "      <td>0.808601</td>\n",
       "      <td>0.817393</td>\n",
       "      <td>0.798101</td>\n",
       "      <td>0.770242</td>\n",
       "      <td>0.813244</td>\n",
       "      <td>0.801516</td>\n",
       "      <td>0.016909</td>\n",
       "      <td>3</td>\n",
       "    </tr>\n",
       "    <tr>\n",
       "      <th>8</th>\n",
       "      <td>0.025333</td>\n",
       "      <td>0.007263</td>\n",
       "      <td>42.544766</td>\n",
       "      <td>11.778944</td>\n",
       "      <td>46</td>\n",
       "      <td>{'n_neighbors': 46}</td>\n",
       "      <td>0.804339</td>\n",
       "      <td>0.818778</td>\n",
       "      <td>0.797889</td>\n",
       "      <td>0.765292</td>\n",
       "      <td>0.807178</td>\n",
       "      <td>0.798695</td>\n",
       "      <td>0.018020</td>\n",
       "      <td>4</td>\n",
       "    </tr>\n",
       "    <tr>\n",
       "      <th>0</th>\n",
       "      <td>0.006781</td>\n",
       "      <td>0.000400</td>\n",
       "      <td>50.034443</td>\n",
       "      <td>22.797409</td>\n",
       "      <td>76</td>\n",
       "      <td>{'n_neighbors': 76}</td>\n",
       "      <td>0.796652</td>\n",
       "      <td>0.814884</td>\n",
       "      <td>0.785648</td>\n",
       "      <td>0.765380</td>\n",
       "      <td>0.799800</td>\n",
       "      <td>0.792473</td>\n",
       "      <td>0.016456</td>\n",
       "      <td>6</td>\n",
       "    </tr>\n",
       "    <tr>\n",
       "      <th>4</th>\n",
       "      <td>0.041205</td>\n",
       "      <td>0.025226</td>\n",
       "      <td>36.310186</td>\n",
       "      <td>11.390940</td>\n",
       "      <td>91</td>\n",
       "      <td>{'n_neighbors': 91}</td>\n",
       "      <td>0.790848</td>\n",
       "      <td>0.807480</td>\n",
       "      <td>0.783213</td>\n",
       "      <td>0.755993</td>\n",
       "      <td>0.801219</td>\n",
       "      <td>0.787750</td>\n",
       "      <td>0.017941</td>\n",
       "      <td>7</td>\n",
       "    </tr>\n",
       "    <tr>\n",
       "      <th>2</th>\n",
       "      <td>0.015859</td>\n",
       "      <td>0.007769</td>\n",
       "      <td>36.851383</td>\n",
       "      <td>7.097062</td>\n",
       "      <td>96</td>\n",
       "      <td>{'n_neighbors': 96}</td>\n",
       "      <td>0.789727</td>\n",
       "      <td>0.808985</td>\n",
       "      <td>0.782888</td>\n",
       "      <td>0.757207</td>\n",
       "      <td>0.798482</td>\n",
       "      <td>0.787458</td>\n",
       "      <td>0.017470</td>\n",
       "      <td>8</td>\n",
       "    </tr>\n",
       "  </tbody>\n",
       "</table>\n",
       "</div>"
      ],
      "text/plain": [
       "   mean_fit_time  std_fit_time  mean_score_time  std_score_time  \\\n",
       "7       0.018947      0.004547        26.551646        1.675076   \n",
       "9       0.024537      0.009196        21.894138        7.820504   \n",
       "6       0.014664      0.005637        34.474168       11.132145   \n",
       "5       0.025936      0.018311        33.294116        5.440506   \n",
       "1       0.021442      0.010549        19.467857        3.051742   \n",
       "3       0.019550      0.007612        47.514027       16.151696   \n",
       "8       0.025333      0.007263        42.544766       11.778944   \n",
       "0       0.006781      0.000400        50.034443       22.797409   \n",
       "4       0.041205      0.025226        36.310186       11.390940   \n",
       "2       0.015859      0.007769        36.851383        7.097062   \n",
       "\n",
       "  param_n_neighbors               params  split0_test_score  \\\n",
       "7                 1   {'n_neighbors': 1}           0.622648   \n",
       "9                 6   {'n_neighbors': 6}           0.760056   \n",
       "6                11  {'n_neighbors': 11}           0.790634   \n",
       "5                16  {'n_neighbors': 16}           0.801253   \n",
       "1                31  {'n_neighbors': 31}           0.807146   \n",
       "3                41  {'n_neighbors': 41}           0.808601   \n",
       "8                46  {'n_neighbors': 46}           0.804339   \n",
       "0                76  {'n_neighbors': 76}           0.796652   \n",
       "4                91  {'n_neighbors': 91}           0.790848   \n",
       "2                96  {'n_neighbors': 96}           0.789727   \n",
       "\n",
       "   split1_test_score  split2_test_score  split3_test_score  split4_test_score  \\\n",
       "7           0.627625           0.609351           0.623683           0.638444   \n",
       "9           0.794993           0.767923           0.750457           0.784015   \n",
       "6           0.816172           0.795604           0.779872           0.808527   \n",
       "5           0.819555           0.808495           0.782627           0.820162   \n",
       "1           0.822594           0.804889           0.772999           0.816963   \n",
       "3           0.817393           0.798101           0.770242           0.813244   \n",
       "8           0.818778           0.797889           0.765292           0.807178   \n",
       "0           0.814884           0.785648           0.765380           0.799800   \n",
       "4           0.807480           0.783213           0.755993           0.801219   \n",
       "2           0.808985           0.782888           0.757207           0.798482   \n",
       "\n",
       "   mean_test_score  std_test_score  rank_test_score  \n",
       "7         0.624350        0.009356               10  \n",
       "9         0.771489        0.016094                9  \n",
       "6         0.798162        0.012880                5  \n",
       "5         0.806418        0.013846                1  \n",
       "1         0.804918        0.017212                2  \n",
       "3         0.801516        0.016909                3  \n",
       "8         0.798695        0.018020                4  \n",
       "0         0.792473        0.016456                6  \n",
       "4         0.787750        0.017941                7  \n",
       "2         0.787458        0.017470                8  "
      ]
     },
     "execution_count": 20,
     "metadata": {},
     "output_type": "execute_result"
    }
   ],
   "source": [
    "result=pd.DataFrame.from_dict(best_model.cv_results_)\n",
    "result=result.sort_values('param_n_neighbors')\n",
    "result"
   ]
  },
  {
   "cell_type": "code",
   "execution_count": 21,
   "metadata": {},
   "outputs": [
    {
     "data": {
      "image/png": "[encoded data removed]",
      "text/plain": [
       "<Figure size 1000x300 with 1 Axes>"
      ]
     },
     "metadata": {},
     "output_type": "display_data"
    }
   ],
   "source": [
    "plt.figure(figsize=(10,3))\n",
    "plt.plot(result['param_n_neighbors'],result['mean_test_score']);\n",
    "plt.grid();\n",
    "plt.xlabel('Hyperparameter - No. of neighbors');\n",
    "plt.ylabel('Mean ROC_AUC');\n",
    "plt.title('Test score'); \n",
    "plt.grid();"
   ]
  },
  {
   "cell_type": "code",
   "execution_count": 22,
   "metadata": {},
   "outputs": [
    {
     "data": {
      "text/plain": [
       "16"
      ]
     },
     "execution_count": 22,
     "metadata": {},
     "output_type": "execute_result"
    }
   ],
   "source": [
    "best_c=best_model.best_params_['n_neighbors']\n",
    "best_c"
   ]
  },
  {
   "cell_type": "code",
   "execution_count": 23,
   "metadata": {},
   "outputs": [
    {
     "data": {
      "text/html": [
       "<style>#sk-container-id-2 {color: black;background-color: white;}#sk-container-id-2 pre{padding: 0;}#sk-container-id-2 div.sk-toggleable {background-color: white;}#sk-container-id-2 label.sk-toggleable__label {cursor: pointer;display: block;width: 100%;margin-bottom: 0;padding: 0.3em;box-sizing: border-box;text-align: center;}#sk-container-id-2 label.sk-toggleable__label-arrow:before {content: \"▸\";float: left;margin-right: 0.25em;color: #696969;}#sk-container-id-2 label.sk-toggleable__label-arrow:hover:before {color: black;}#sk-container-id-2 div.sk-estimator:hover label.sk-toggleable__label-arrow:before {color: black;}#sk-container-id-2 div.sk-toggleable__content {max-height: 0;max-width: 0;overflow: hidden;text-align: left;background-color: #f0f8ff;}#sk-container-id-2 div.sk-toggleable__content pre {margin: 0.2em;color: black;border-radius: 0.25em;background-color: #f0f8ff;}#sk-container-id-2 input.sk-toggleable__control:checked~div.sk-toggleable__content {max-height: 200px;max-width: 100%;overflow: auto;}#sk-container-id-2 input.sk-toggleable__control:checked~label.sk-toggleable__label-arrow:before {content: \"▾\";}#sk-container-id-2 div.sk-estimator input.sk-toggleable__control:checked~label.sk-toggleable__label {background-color: #d4ebff;}#sk-container-id-2 div.sk-label input.sk-toggleable__control:checked~label.sk-toggleable__label {background-color: #d4ebff;}#sk-container-id-2 input.sk-hidden--visually {border: 0;clip: rect(1px 1px 1px 1px);clip: rect(1px, 1px, 1px, 1px);height: 1px;margin: -1px;overflow: hidden;padding: 0;position: absolute;width: 1px;}#sk-container-id-2 div.sk-estimator {font-family: monospace;background-color: #f0f8ff;border: 1px dotted black;border-radius: 0.25em;box-sizing: border-box;margin-bottom: 0.5em;}#sk-container-id-2 div.sk-estimator:hover {background-color: #d4ebff;}#sk-container-id-2 div.sk-parallel-item::after {content: \"\";width: 100%;border-bottom: 1px solid gray;flex-grow: 1;}#sk-container-id-2 div.sk-label:hover label.sk-toggleable__label {background-color: #d4ebff;}#sk-container-id-2 div.sk-serial::before {content: \"\";position: absolute;border-left: 1px solid gray;box-sizing: border-box;top: 0;bottom: 0;left: 50%;z-index: 0;}#sk-container-id-2 div.sk-serial {display: flex;flex-direction: column;align-items: center;background-color: white;padding-right: 0.2em;padding-left: 0.2em;position: relative;}#sk-container-id-2 div.sk-item {position: relative;z-index: 1;}#sk-container-id-2 div.sk-parallel {display: flex;align-items: stretch;justify-content: center;background-color: white;position: relative;}#sk-container-id-2 div.sk-item::before, #sk-container-id-2 div.sk-parallel-item::before {content: \"\";position: absolute;border-left: 1px solid gray;box-sizing: border-box;top: 0;bottom: 0;left: 50%;z-index: -1;}#sk-container-id-2 div.sk-parallel-item {display: flex;flex-direction: column;z-index: 1;position: relative;background-color: white;}#sk-container-id-2 div.sk-parallel-item:first-child::after {align-self: flex-end;width: 50%;}#sk-container-id-2 div.sk-parallel-item:last-child::after {align-self: flex-start;width: 50%;}#sk-container-id-2 div.sk-parallel-item:only-child::after {width: 0;}#sk-container-id-2 div.sk-dashed-wrapped {border: 1px dashed gray;margin: 0 0.4em 0.5em 0.4em;box-sizing: border-box;padding-bottom: 0.4em;background-color: white;}#sk-container-id-2 div.sk-label label {font-family: monospace;font-weight: bold;display: inline-block;line-height: 1.2em;}#sk-container-id-2 div.sk-label-container {text-align: center;}#sk-container-id-2 div.sk-container {/* jupyter's `normalize.less` sets `[hidden] { display: none; }` but bootstrap.min.css set `[hidden] { display: none !important; }` so we also need the `!important` here to be able to override the default hidden behavior on the sphinx rendered scikit-learn.org. See: https://github.com/scikit-learn/scikit-learn/issues/21755 */display: inline-block !important;position: relative;}#sk-container-id-2 div.sk-text-repr-fallback {display: none;}</style><div id=\"sk-container-id-2\" class=\"sk-top-container\"><div class=\"sk-text-repr-fallback\"><pre>KNeighborsClassifier(n_jobs=-1, n_neighbors=16)</pre><b>In a Jupyter environment, please rerun this cell to show the HTML representation or trust the notebook. <br />On GitHub, the HTML representation is unable to render, please try loading this page with nbviewer.org.</b></div><div class=\"sk-container\" hidden><div class=\"sk-item\"><div class=\"sk-estimator sk-toggleable\"><input class=\"sk-toggleable__control sk-hidden--visually\" id=\"sk-estimator-id-2\" type=\"checkbox\" checked><label for=\"sk-estimator-id-2\" class=\"sk-toggleable__label sk-toggleable__label-arrow\">KNeighborsClassifier</label><div class=\"sk-toggleable__content\"><pre>KNeighborsClassifier(n_jobs=-1, n_neighbors=16)</pre></div></div></div></div></div>"
      ],
      "text/plain": [
       "KNeighborsClassifier(n_jobs=-1, n_neighbors=16)"
      ]
     },
     "execution_count": 23,
     "metadata": {},
     "output_type": "execute_result"
    }
   ],
   "source": [
    "model=KNeighborsClassifier(n_neighbors=best_c,n_jobs=-1)\n",
    "model.fit(train_ohe,y_true)"
   ]
  },
  {
   "cell_type": "code",
   "execution_count": 28,
   "metadata": {},
   "outputs": [],
   "source": [
    "# prediction=model.predict_proba(test_ohe)[:,1]"
   ]
  },
  {
   "cell_type": "code",
   "execution_count": 29,
   "metadata": {},
   "outputs": [
    {
     "data": {
      "text/plain": [
       "94.73587842167902"
      ]
     },
     "execution_count": 29,
     "metadata": {},
     "output_type": "execute_result"
    }
   ],
   "source": [
    "y_pred=model.predict(train_ohe)\n",
    "test_acc_knn_ohe=accuracy_score(y_true,y_pred)*100\n",
    "test_acc_knn_ohe"
   ]
  },
  {
   "cell_type": "code",
   "execution_count": 30,
   "metadata": {},
   "outputs": [],
   "source": [
    "# submit = pd.read_csv('knn.csv')\n",
    "# # submit[\"Id\"] = test[\"id\"]\n",
    "# submit[\"ACTION_KNN_OHE\"] = prediction\n",
    "# submit.to_csv(\"knn.csv\", index = False)"
   ]
  },
  {
   "cell_type": "code",
   "execution_count": 31,
   "metadata": {},
   "outputs": [
    {
     "data": {
      "text/plain": [
       "0.5643828572767273"
      ]
     },
     "execution_count": 31,
     "metadata": {},
     "output_type": "execute_result"
    }
   ],
   "source": [
    "from sklearn.metrics import roc_auc_score\n",
    "auc_knn_ohe = roc_auc_score(y_true, y_pred)\n",
    "auc_knn_ohe"
   ]
  },
  {
   "cell_type": "code",
   "execution_count": 32,
   "metadata": {},
   "outputs": [
    {
     "name": "stdout",
     "output_type": "stream",
     "text": [
      "+-------+---------+-------------------+--------------------+\n",
      "| Model | Feature |      Accuracy     |      ROC_AUC       |\n",
      "+-------+---------+-------------------+--------------------+\n",
      "|  KNN  |    -    |         94        | 0.5013404825737265 |\n",
      "|  KNN  |   ohe   | 94.73587842167902 | 0.5643828572767273 |\n",
      "+-------+---------+-------------------+--------------------+\n"
     ]
    }
   ],
   "source": [
    "from prettytable import PrettyTable\n",
    "x = PrettyTable(['Model', 'Feature', 'Accuracy', 'ROC_AUC'])\n",
    "x.add_row(['KNN', '-', math.trunc(test_acc_knn), auc_knn])\n",
    "x.add_row(['KNN','ohe', test_acc_knn_ohe, auc_knn_ohe])\n",
    "print(x)"
   ]
  },
  {
   "cell_type": "markdown",
   "metadata": {},
   "source": [
    "Logistic Regression"
   ]
  },
  {
   "cell_type": "code",
   "execution_count": 34,
   "metadata": {},
   "outputs": [],
   "source": [
    "from sklearn.linear_model import LogisticRegression\n",
    "from scipy.stats import uniform"
   ]
  },
  {
   "cell_type": "code",
   "execution_count": 37,
   "metadata": {},
   "outputs": [
    {
     "name": "stdout",
     "output_type": "stream",
     "text": [
      "Fitting 5 folds for each of 100 candidates, totalling 500 fits\n"
     ]
    },
    {
     "name": "stderr",
     "output_type": "stream",
     "text": [
      "[Parallel(n_jobs=-1)]: Using backend LokyBackend with 12 concurrent workers.\n",
      "[Parallel(n_jobs=-1)]: Done   1 out of   1 | elapsed:    0.0s finished\n"
     ]
    }
   ],
   "source": [
    "C_val = uniform(loc=0, scale=4)\n",
    "lr=LogisticRegression(verbose=verbose,random_state=random_state,class_weight='balanced',max_iter=500,n_jobs=-1)\n",
    "parameters={'C':C_val}\n",
    "clf=RandomizedSearchCV(lr,parameters,verbose=verbose,cv=cv,random_state=random_state,scoring=scoring,n_iter=100,n_jobs=-1)\n",
    "best_model=clf.fit(x_train,y_train)"
   ]
  },
  {
   "cell_type": "code",
   "execution_count": 46,
   "metadata": {},
   "outputs": [
    {
     "data": {
      "text/plain": [
       "0.08233797718320979"
      ]
     },
     "execution_count": 46,
     "metadata": {},
     "output_type": "execute_result"
    }
   ],
   "source": [
    "best_c=best_model.best_params_['C']\n",
    "best_c"
   ]
  },
  {
   "cell_type": "code",
   "execution_count": 68,
   "metadata": {},
   "outputs": [
    {
     "data": {
      "text/html": [
       "<div>\n",
       "<style scoped>\n",
       "    .dataframe tbody tr th:only-of-type {\n",
       "        vertical-align: middle;\n",
       "    }\n",
       "\n",
       "    .dataframe tbody tr th {\n",
       "        vertical-align: top;\n",
       "    }\n",
       "\n",
       "    .dataframe thead th {\n",
       "        text-align: right;\n",
       "    }\n",
       "</style>\n",
       "<table border=\"1\" class=\"dataframe\">\n",
       "  <thead>\n",
       "    <tr style=\"text-align: right;\">\n",
       "      <th></th>\n",
       "      <th>mean_fit_time</th>\n",
       "      <th>std_fit_time</th>\n",
       "      <th>mean_score_time</th>\n",
       "      <th>std_score_time</th>\n",
       "      <th>param_C</th>\n",
       "      <th>params</th>\n",
       "      <th>split0_test_score</th>\n",
       "      <th>split1_test_score</th>\n",
       "      <th>split2_test_score</th>\n",
       "      <th>split3_test_score</th>\n",
       "      <th>split4_test_score</th>\n",
       "      <th>mean_test_score</th>\n",
       "      <th>std_test_score</th>\n",
       "      <th>rank_test_score</th>\n",
       "    </tr>\n",
       "  </thead>\n",
       "  <tbody>\n",
       "    <tr>\n",
       "      <th>0</th>\n",
       "      <td>1.879858</td>\n",
       "      <td>0.067487</td>\n",
       "      <td>0.007382</td>\n",
       "      <td>0.001357</td>\n",
       "      <td>1.49816</td>\n",
       "      <td>{'C': 1.49816047538945}</td>\n",
       "      <td>0.882175</td>\n",
       "      <td>0.884794</td>\n",
       "      <td>0.867969</td>\n",
       "      <td>0.860300</td>\n",
       "      <td>0.879737</td>\n",
       "      <td>0.874995</td>\n",
       "      <td>0.009331</td>\n",
       "      <td>32</td>\n",
       "    </tr>\n",
       "    <tr>\n",
       "      <th>1</th>\n",
       "      <td>2.411559</td>\n",
       "      <td>0.121139</td>\n",
       "      <td>0.006586</td>\n",
       "      <td>0.000585</td>\n",
       "      <td>3.802857</td>\n",
       "      <td>{'C': 3.8028572256396647}</td>\n",
       "      <td>0.877215</td>\n",
       "      <td>0.881082</td>\n",
       "      <td>0.863760</td>\n",
       "      <td>0.853882</td>\n",
       "      <td>0.876353</td>\n",
       "      <td>0.870458</td>\n",
       "      <td>0.010128</td>\n",
       "      <td>90</td>\n",
       "    </tr>\n",
       "    <tr>\n",
       "      <th>2</th>\n",
       "      <td>2.263799</td>\n",
       "      <td>0.074374</td>\n",
       "      <td>0.006183</td>\n",
       "      <td>0.000977</td>\n",
       "      <td>2.927976</td>\n",
       "      <td>{'C': 2.9279757672456204}</td>\n",
       "      <td>0.878901</td>\n",
       "      <td>0.882397</td>\n",
       "      <td>0.865189</td>\n",
       "      <td>0.855891</td>\n",
       "      <td>0.877620</td>\n",
       "      <td>0.872000</td>\n",
       "      <td>0.009932</td>\n",
       "      <td>69</td>\n",
       "    </tr>\n",
       "    <tr>\n",
       "      <th>3</th>\n",
       "      <td>2.025757</td>\n",
       "      <td>0.121552</td>\n",
       "      <td>0.006981</td>\n",
       "      <td>0.000630</td>\n",
       "      <td>2.394634</td>\n",
       "      <td>{'C': 2.3946339367881464}</td>\n",
       "      <td>0.880098</td>\n",
       "      <td>0.883256</td>\n",
       "      <td>0.866305</td>\n",
       "      <td>0.857327</td>\n",
       "      <td>0.878459</td>\n",
       "      <td>0.873089</td>\n",
       "      <td>0.009755</td>\n",
       "      <td>54</td>\n",
       "    </tr>\n",
       "    <tr>\n",
       "      <th>4</th>\n",
       "      <td>1.330377</td>\n",
       "      <td>0.093749</td>\n",
       "      <td>0.006288</td>\n",
       "      <td>0.000599</td>\n",
       "      <td>0.624075</td>\n",
       "      <td>{'C': 0.6240745617697461}</td>\n",
       "      <td>0.883070</td>\n",
       "      <td>0.885069</td>\n",
       "      <td>0.868076</td>\n",
       "      <td>0.863123</td>\n",
       "      <td>0.879878</td>\n",
       "      <td>0.875843</td>\n",
       "      <td>0.008669</td>\n",
       "      <td>10</td>\n",
       "    </tr>\n",
       "    <tr>\n",
       "      <th>...</th>\n",
       "      <td>...</td>\n",
       "      <td>...</td>\n",
       "      <td>...</td>\n",
       "      <td>...</td>\n",
       "      <td>...</td>\n",
       "      <td>...</td>\n",
       "      <td>...</td>\n",
       "      <td>...</td>\n",
       "      <td>...</td>\n",
       "      <td>...</td>\n",
       "      <td>...</td>\n",
       "      <td>...</td>\n",
       "      <td>...</td>\n",
       "      <td>...</td>\n",
       "    </tr>\n",
       "    <tr>\n",
       "      <th>95</th>\n",
       "      <td>1.742405</td>\n",
       "      <td>0.103048</td>\n",
       "      <td>0.006193</td>\n",
       "      <td>0.000505</td>\n",
       "      <td>1.975182</td>\n",
       "      <td>{'C': 1.975182385457563}</td>\n",
       "      <td>0.881030</td>\n",
       "      <td>0.884030</td>\n",
       "      <td>0.867078</td>\n",
       "      <td>0.858709</td>\n",
       "      <td>0.879082</td>\n",
       "      <td>0.873986</td>\n",
       "      <td>0.009566</td>\n",
       "      <td>41</td>\n",
       "    </tr>\n",
       "    <tr>\n",
       "      <th>96</th>\n",
       "      <td>1.755491</td>\n",
       "      <td>0.078291</td>\n",
       "      <td>0.006184</td>\n",
       "      <td>0.000398</td>\n",
       "      <td>2.090931</td>\n",
       "      <td>{'C': 2.0909313175279762}</td>\n",
       "      <td>0.880764</td>\n",
       "      <td>0.883845</td>\n",
       "      <td>0.866901</td>\n",
       "      <td>0.858277</td>\n",
       "      <td>0.878889</td>\n",
       "      <td>0.873735</td>\n",
       "      <td>0.009631</td>\n",
       "      <td>45</td>\n",
       "    </tr>\n",
       "    <tr>\n",
       "      <th>97</th>\n",
       "      <td>1.631379</td>\n",
       "      <td>0.113568</td>\n",
       "      <td>0.006489</td>\n",
       "      <td>0.000899</td>\n",
       "      <td>1.710164</td>\n",
       "      <td>{'C': 1.7101640734341985}</td>\n",
       "      <td>0.881712</td>\n",
       "      <td>0.884413</td>\n",
       "      <td>0.867659</td>\n",
       "      <td>0.859601</td>\n",
       "      <td>0.879482</td>\n",
       "      <td>0.874574</td>\n",
       "      <td>0.009422</td>\n",
       "      <td>35</td>\n",
       "    </tr>\n",
       "    <tr>\n",
       "      <th>98</th>\n",
       "      <td>0.565771</td>\n",
       "      <td>0.055644</td>\n",
       "      <td>0.005289</td>\n",
       "      <td>0.001825</td>\n",
       "      <td>0.101677</td>\n",
       "      <td>{'C': 0.10167650697638075}</td>\n",
       "      <td>0.868155</td>\n",
       "      <td>0.870643</td>\n",
       "      <td>0.849562</td>\n",
       "      <td>0.850073</td>\n",
       "      <td>0.868926</td>\n",
       "      <td>0.861472</td>\n",
       "      <td>0.009551</td>\n",
       "      <td>98</td>\n",
       "    </tr>\n",
       "    <tr>\n",
       "      <th>99</th>\n",
       "      <td>0.601881</td>\n",
       "      <td>0.034449</td>\n",
       "      <td>0.003191</td>\n",
       "      <td>0.000746</td>\n",
       "      <td>0.431566</td>\n",
       "      <td>{'C': 0.4315657079732178}</td>\n",
       "      <td>0.882157</td>\n",
       "      <td>0.883954</td>\n",
       "      <td>0.866731</td>\n",
       "      <td>0.863059</td>\n",
       "      <td>0.879090</td>\n",
       "      <td>0.874998</td>\n",
       "      <td>0.008474</td>\n",
       "      <td>31</td>\n",
       "    </tr>\n",
       "  </tbody>\n",
       "</table>\n",
       "<p>100 rows × 14 columns</p>\n",
       "</div>"
      ],
      "text/plain": [
       "    mean_fit_time  std_fit_time  mean_score_time  std_score_time   param_C  \\\n",
       "0        1.879858      0.067487         0.007382        0.001357   1.49816   \n",
       "1        2.411559      0.121139         0.006586        0.000585  3.802857   \n",
       "2        2.263799      0.074374         0.006183        0.000977  2.927976   \n",
       "3        2.025757      0.121552         0.006981        0.000630  2.394634   \n",
       "4        1.330377      0.093749         0.006288        0.000599  0.624075   \n",
       "..            ...           ...              ...             ...       ...   \n",
       "95       1.742405      0.103048         0.006193        0.000505  1.975182   \n",
       "96       1.755491      0.078291         0.006184        0.000398  2.090931   \n",
       "97       1.631379      0.113568         0.006489        0.000899  1.710164   \n",
       "98       0.565771      0.055644         0.005289        0.001825  0.101677   \n",
       "99       0.601881      0.034449         0.003191        0.000746  0.431566   \n",
       "\n",
       "                        params  split0_test_score  split1_test_score  \\\n",
       "0      {'C': 1.49816047538945}           0.882175           0.884794   \n",
       "1    {'C': 3.8028572256396647}           0.877215           0.881082   \n",
       "2    {'C': 2.9279757672456204}           0.878901           0.882397   \n",
       "3    {'C': 2.3946339367881464}           0.880098           0.883256   \n",
       "4    {'C': 0.6240745617697461}           0.883070           0.885069   \n",
       "..                         ...                ...                ...   \n",
       "95    {'C': 1.975182385457563}           0.881030           0.884030   \n",
       "96   {'C': 2.0909313175279762}           0.880764           0.883845   \n",
       "97   {'C': 1.7101640734341985}           0.881712           0.884413   \n",
       "98  {'C': 0.10167650697638075}           0.868155           0.870643   \n",
       "99   {'C': 0.4315657079732178}           0.882157           0.883954   \n",
       "\n",
       "    split2_test_score  split3_test_score  split4_test_score  mean_test_score  \\\n",
       "0            0.867969           0.860300           0.879737         0.874995   \n",
       "1            0.863760           0.853882           0.876353         0.870458   \n",
       "2            0.865189           0.855891           0.877620         0.872000   \n",
       "3            0.866305           0.857327           0.878459         0.873089   \n",
       "4            0.868076           0.863123           0.879878         0.875843   \n",
       "..                ...                ...                ...              ...   \n",
       "95           0.867078           0.858709           0.879082         0.873986   \n",
       "96           0.866901           0.858277           0.878889         0.873735   \n",
       "97           0.867659           0.859601           0.879482         0.874574   \n",
       "98           0.849562           0.850073           0.868926         0.861472   \n",
       "99           0.866731           0.863059           0.879090         0.874998   \n",
       "\n",
       "    std_test_score  rank_test_score  \n",
       "0         0.009331               32  \n",
       "1         0.010128               90  \n",
       "2         0.009932               69  \n",
       "3         0.009755               54  \n",
       "4         0.008669               10  \n",
       "..             ...              ...  \n",
       "95        0.009566               41  \n",
       "96        0.009631               45  \n",
       "97        0.009422               35  \n",
       "98        0.009551               98  \n",
       "99        0.008474               31  \n",
       "\n",
       "[100 rows x 14 columns]"
      ]
     },
     "execution_count": 68,
     "metadata": {},
     "output_type": "execute_result"
    }
   ],
   "source": [
    "result=pd.DataFrame.from_dict(best_model.cv_results_)\n",
    "result.sort_values('param_C')\n",
    "result"
   ]
  },
  {
   "cell_type": "code",
   "execution_count": 51,
   "metadata": {},
   "outputs": [
    {
     "name": "stderr",
     "output_type": "stream",
     "text": [
      "[Parallel(n_jobs=-1)]: Using backend LokyBackend with 12 concurrent workers.\n",
      "[Parallel(n_jobs=-1)]: Done   1 out of   1 | elapsed:    1.9s finished\n"
     ]
    },
    {
     "data": {
      "text/html": [
       "<style>#sk-container-id-3 {color: black;background-color: white;}#sk-container-id-3 pre{padding: 0;}#sk-container-id-3 div.sk-toggleable {background-color: white;}#sk-container-id-3 label.sk-toggleable__label {cursor: pointer;display: block;width: 100%;margin-bottom: 0;padding: 0.3em;box-sizing: border-box;text-align: center;}#sk-container-id-3 label.sk-toggleable__label-arrow:before {content: \"▸\";float: left;margin-right: 0.25em;color: #696969;}#sk-container-id-3 label.sk-toggleable__label-arrow:hover:before {color: black;}#sk-container-id-3 div.sk-estimator:hover label.sk-toggleable__label-arrow:before {color: black;}#sk-container-id-3 div.sk-toggleable__content {max-height: 0;max-width: 0;overflow: hidden;text-align: left;background-color: #f0f8ff;}#sk-container-id-3 div.sk-toggleable__content pre {margin: 0.2em;color: black;border-radius: 0.25em;background-color: #f0f8ff;}#sk-container-id-3 input.sk-toggleable__control:checked~div.sk-toggleable__content {max-height: 200px;max-width: 100%;overflow: auto;}#sk-container-id-3 input.sk-toggleable__control:checked~label.sk-toggleable__label-arrow:before {content: \"▾\";}#sk-container-id-3 div.sk-estimator input.sk-toggleable__control:checked~label.sk-toggleable__label {background-color: #d4ebff;}#sk-container-id-3 div.sk-label input.sk-toggleable__control:checked~label.sk-toggleable__label {background-color: #d4ebff;}#sk-container-id-3 input.sk-hidden--visually {border: 0;clip: rect(1px 1px 1px 1px);clip: rect(1px, 1px, 1px, 1px);height: 1px;margin: -1px;overflow: hidden;padding: 0;position: absolute;width: 1px;}#sk-container-id-3 div.sk-estimator {font-family: monospace;background-color: #f0f8ff;border: 1px dotted black;border-radius: 0.25em;box-sizing: border-box;margin-bottom: 0.5em;}#sk-container-id-3 div.sk-estimator:hover {background-color: #d4ebff;}#sk-container-id-3 div.sk-parallel-item::after {content: \"\";width: 100%;border-bottom: 1px solid gray;flex-grow: 1;}#sk-container-id-3 div.sk-label:hover label.sk-toggleable__label {background-color: #d4ebff;}#sk-container-id-3 div.sk-serial::before {content: \"\";position: absolute;border-left: 1px solid gray;box-sizing: border-box;top: 0;bottom: 0;left: 50%;z-index: 0;}#sk-container-id-3 div.sk-serial {display: flex;flex-direction: column;align-items: center;background-color: white;padding-right: 0.2em;padding-left: 0.2em;position: relative;}#sk-container-id-3 div.sk-item {position: relative;z-index: 1;}#sk-container-id-3 div.sk-parallel {display: flex;align-items: stretch;justify-content: center;background-color: white;position: relative;}#sk-container-id-3 div.sk-item::before, #sk-container-id-3 div.sk-parallel-item::before {content: \"\";position: absolute;border-left: 1px solid gray;box-sizing: border-box;top: 0;bottom: 0;left: 50%;z-index: -1;}#sk-container-id-3 div.sk-parallel-item {display: flex;flex-direction: column;z-index: 1;position: relative;background-color: white;}#sk-container-id-3 div.sk-parallel-item:first-child::after {align-self: flex-end;width: 50%;}#sk-container-id-3 div.sk-parallel-item:last-child::after {align-self: flex-start;width: 50%;}#sk-container-id-3 div.sk-parallel-item:only-child::after {width: 0;}#sk-container-id-3 div.sk-dashed-wrapped {border: 1px dashed gray;margin: 0 0.4em 0.5em 0.4em;box-sizing: border-box;padding-bottom: 0.4em;background-color: white;}#sk-container-id-3 div.sk-label label {font-family: monospace;font-weight: bold;display: inline-block;line-height: 1.2em;}#sk-container-id-3 div.sk-label-container {text-align: center;}#sk-container-id-3 div.sk-container {/* jupyter's `normalize.less` sets `[hidden] { display: none; }` but bootstrap.min.css set `[hidden] { display: none !important; }` so we also need the `!important` here to be able to override the default hidden behavior on the sphinx rendered scikit-learn.org. See: https://github.com/scikit-learn/scikit-learn/issues/21755 */display: inline-block !important;position: relative;}#sk-container-id-3 div.sk-text-repr-fallback {display: none;}</style><div id=\"sk-container-id-3\" class=\"sk-top-container\"><div class=\"sk-text-repr-fallback\"><pre>LogisticRegression(C=0.08233797718320979, class_weight=&#x27;balanced&#x27;, n_jobs=-1,\n",
       "                   random_state=42, verbose=2)</pre><b>In a Jupyter environment, please rerun this cell to show the HTML representation or trust the notebook. <br />On GitHub, the HTML representation is unable to render, please try loading this page with nbviewer.org.</b></div><div class=\"sk-container\" hidden><div class=\"sk-item\"><div class=\"sk-estimator sk-toggleable\"><input class=\"sk-toggleable__control sk-hidden--visually\" id=\"sk-estimator-id-3\" type=\"checkbox\" checked><label for=\"sk-estimator-id-3\" class=\"sk-toggleable__label sk-toggleable__label-arrow\">LogisticRegression</label><div class=\"sk-toggleable__content\"><pre>LogisticRegression(C=0.08233797718320979, class_weight=&#x27;balanced&#x27;, n_jobs=-1,\n",
       "                   random_state=42, verbose=2)</pre></div></div></div></div></div>"
      ],
      "text/plain": [
       "LogisticRegression(C=0.08233797718320979, class_weight='balanced', n_jobs=-1,\n",
       "                   random_state=42, verbose=2)"
      ]
     },
     "execution_count": 51,
     "metadata": {},
     "output_type": "execute_result"
    }
   ],
   "source": [
    "model=LogisticRegression(C=best_c,verbose=verbose,random_state=random_state,class_weight='balanced',n_jobs=-1)\n",
    "model.fit(train_data,y_true)"
   ]
  },
  {
   "cell_type": "code",
   "execution_count": 55,
   "metadata": {},
   "outputs": [
    {
     "data": {
      "text/plain": [
       "(50.15257857796765, 0.5304092841810044)"
      ]
     },
     "execution_count": 55,
     "metadata": {},
     "output_type": "execute_result"
    }
   ],
   "source": [
    "y_pred=model.predict(x_test)\n",
    "test_acc_lr=accuracy_score(y_test,y_pred)*100\n",
    "auc_lr = roc_auc_score(y_test,y_pred)\n",
    "test_acc_lr,auc_lr"
   ]
  },
  {
   "cell_type": "code",
   "execution_count": 57,
   "metadata": {},
   "outputs": [
    {
     "data": {
      "image/png": "[encoded data removed]",
      "text/plain": [
       "<Figure size 1000x300 with 1 Axes>"
      ]
     },
     "metadata": {},
     "output_type": "display_data"
    }
   ],
   "source": [
    "results=pd.DataFrame.from_dict(best_model.cv_results_)\n",
    "results=results.sort_values('param_C')\n",
    "plt.figure(figsize=(10,3))\n",
    "plt.plot(results['param_C'],results['mean_test_score']);\n",
    "plt.grid();\n",
    "plt.xlabel('Hyperparameter - C');\n",
    "plt.ylabel('Mean ROC_AUC');\n",
    "plt.title('Test score'); \n",
    "plt.grid();"
   ]
  },
  {
   "cell_type": "code",
   "execution_count": 59,
   "metadata": {},
   "outputs": [
    {
     "data": {
      "image/png": "[encoded data removed]",
      "text/plain": [
       "<Figure size 640x480 with 2 Axes>"
      ]
     },
     "metadata": {},
     "output_type": "display_data"
    }
   ],
   "source": [
    "from sklearn.metrics import confusion_matrix\n",
    "cm=confusion_matrix(y_test,y_pred)\n",
    "disp = ConfusionMatrixDisplay(confusion_matrix=cm,display_labels=best_model.classes_)\n",
    "disp.plot()\n",
    "plt.show()"
   ]
  },
  {
   "cell_type": "markdown",
   "metadata": {},
   "source": [
    "Logistic Regression OHE"
   ]
  },
  {
   "cell_type": "code",
   "execution_count": 64,
   "metadata": {},
   "outputs": [
    {
     "data": {
      "text/plain": [
       "((32769, 4500), (912363, 4500), (32769,))"
      ]
     },
     "execution_count": 64,
     "metadata": {},
     "output_type": "execute_result"
    }
   ],
   "source": [
    "train_ohe.shape,test_ohe.shape,y_true.shape"
   ]
  },
  {
   "cell_type": "code",
   "execution_count": 65,
   "metadata": {
    "scrolled": true
   },
   "outputs": [
    {
     "name": "stdout",
     "output_type": "stream",
     "text": [
      "Fitting 5 folds for each of 100 candidates, totalling 500 fits\n"
     ]
    },
    {
     "name": "stderr",
     "output_type": "stream",
     "text": [
      "[Parallel(n_jobs=-1)]: Using backend LokyBackend with 12 concurrent workers.\n",
      "[Parallel(n_jobs=-1)]: Done   1 out of   1 | elapsed:    0.3s finished\n"
     ]
    }
   ],
   "source": [
    "C_val = uniform(loc=0, scale=4)\n",
    "lr=LogisticRegression(verbose=verbose,random_state=random_state,class_weight='balanced',max_iter=500,n_jobs=-1)\n",
    "parameters={'C':C_val}\n",
    "clf=RandomizedSearchCV(lr,parameters,verbose=verbose,cv=cv,random_state=random_state,scoring=scoring,n_iter=100,n_jobs=-1)\n",
    "best_model=clf.fit(train_ohe,y_true)"
   ]
  },
  {
   "cell_type": "code",
   "execution_count": 67,
   "metadata": {},
   "outputs": [
    {
     "data": {
      "text/plain": [
       "0.7948627261366896"
      ]
     },
     "execution_count": 67,
     "metadata": {},
     "output_type": "execute_result"
    }
   ],
   "source": [
    "best_c=best_model.best_params_['C']\n",
    "best_c"
   ]
  },
  {
   "cell_type": "code",
   "execution_count": 71,
   "metadata": {},
   "outputs": [
    {
     "data": {
      "text/html": [
       "<div>\n",
       "<style scoped>\n",
       "    .dataframe tbody tr th:only-of-type {\n",
       "        vertical-align: middle;\n",
       "    }\n",
       "\n",
       "    .dataframe tbody tr th {\n",
       "        vertical-align: top;\n",
       "    }\n",
       "\n",
       "    .dataframe thead th {\n",
       "        text-align: right;\n",
       "    }\n",
       "</style>\n",
       "<table border=\"1\" class=\"dataframe\">\n",
       "  <thead>\n",
       "    <tr style=\"text-align: right;\">\n",
       "      <th></th>\n",
       "      <th>mean_fit_time</th>\n",
       "      <th>std_fit_time</th>\n",
       "      <th>mean_score_time</th>\n",
       "      <th>std_score_time</th>\n",
       "      <th>param_C</th>\n",
       "      <th>params</th>\n",
       "      <th>split0_test_score</th>\n",
       "      <th>split1_test_score</th>\n",
       "      <th>split2_test_score</th>\n",
       "      <th>split3_test_score</th>\n",
       "      <th>split4_test_score</th>\n",
       "      <th>mean_test_score</th>\n",
       "      <th>std_test_score</th>\n",
       "      <th>rank_test_score</th>\n",
       "    </tr>\n",
       "  </thead>\n",
       "  <tbody>\n",
       "    <tr>\n",
       "      <th>72</th>\n",
       "      <td>0.385792</td>\n",
       "      <td>0.016339</td>\n",
       "      <td>0.006089</td>\n",
       "      <td>0.000484</td>\n",
       "      <td>0.022088</td>\n",
       "      <td>{'C': 0.022088468494409597}</td>\n",
       "      <td>0.827415</td>\n",
       "      <td>0.833777</td>\n",
       "      <td>0.808035</td>\n",
       "      <td>0.814502</td>\n",
       "      <td>0.841708</td>\n",
       "      <td>0.825087</td>\n",
       "      <td>0.012329</td>\n",
       "      <td>100</td>\n",
       "    </tr>\n",
       "    <tr>\n",
       "      <th>10</th>\n",
       "      <td>0.571923</td>\n",
       "      <td>0.037734</td>\n",
       "      <td>0.007182</td>\n",
       "      <td>0.000398</td>\n",
       "      <td>0.082338</td>\n",
       "      <td>{'C': 0.08233797718320979}</td>\n",
       "      <td>0.864374</td>\n",
       "      <td>0.867161</td>\n",
       "      <td>0.845380</td>\n",
       "      <td>0.846580</td>\n",
       "      <td>0.866256</td>\n",
       "      <td>0.857950</td>\n",
       "      <td>0.009822</td>\n",
       "      <td>99</td>\n",
       "    </tr>\n",
       "    <tr>\n",
       "      <th>98</th>\n",
       "      <td>0.565771</td>\n",
       "      <td>0.055644</td>\n",
       "      <td>0.005289</td>\n",
       "      <td>0.001825</td>\n",
       "      <td>0.101677</td>\n",
       "      <td>{'C': 0.10167650697638075}</td>\n",
       "      <td>0.868155</td>\n",
       "      <td>0.870643</td>\n",
       "      <td>0.849562</td>\n",
       "      <td>0.850073</td>\n",
       "      <td>0.868926</td>\n",
       "      <td>0.861472</td>\n",
       "      <td>0.009551</td>\n",
       "      <td>98</td>\n",
       "    </tr>\n",
       "    <tr>\n",
       "      <th>42</th>\n",
       "      <td>0.834569</td>\n",
       "      <td>0.083604</td>\n",
       "      <td>0.006782</td>\n",
       "      <td>0.000746</td>\n",
       "      <td>0.137554</td>\n",
       "      <td>{'C': 0.13755408446087358}</td>\n",
       "      <td>0.872632</td>\n",
       "      <td>0.874930</td>\n",
       "      <td>0.855066</td>\n",
       "      <td>0.854638</td>\n",
       "      <td>0.872126</td>\n",
       "      <td>0.865878</td>\n",
       "      <td>0.009053</td>\n",
       "      <td>97</td>\n",
       "    </tr>\n",
       "    <tr>\n",
       "      <th>58</th>\n",
       "      <td>0.975827</td>\n",
       "      <td>0.143524</td>\n",
       "      <td>0.008087</td>\n",
       "      <td>0.003729</td>\n",
       "      <td>0.180909</td>\n",
       "      <td>{'C': 0.18090915564215226}</td>\n",
       "      <td>0.875813</td>\n",
       "      <td>0.877965</td>\n",
       "      <td>0.859005</td>\n",
       "      <td>0.857691</td>\n",
       "      <td>0.874480</td>\n",
       "      <td>0.868991</td>\n",
       "      <td>0.008771</td>\n",
       "      <td>96</td>\n",
       "    </tr>\n",
       "    <tr>\n",
       "      <th>...</th>\n",
       "      <td>...</td>\n",
       "      <td>...</td>\n",
       "      <td>...</td>\n",
       "      <td>...</td>\n",
       "      <td>...</td>\n",
       "      <td>...</td>\n",
       "      <td>...</td>\n",
       "      <td>...</td>\n",
       "      <td>...</td>\n",
       "      <td>...</td>\n",
       "      <td>...</td>\n",
       "      <td>...</td>\n",
       "      <td>...</td>\n",
       "      <td>...</td>\n",
       "    </tr>\n",
       "    <tr>\n",
       "      <th>1</th>\n",
       "      <td>2.411559</td>\n",
       "      <td>0.121139</td>\n",
       "      <td>0.006586</td>\n",
       "      <td>0.000585</td>\n",
       "      <td>3.802857</td>\n",
       "      <td>{'C': 3.8028572256396647}</td>\n",
       "      <td>0.877215</td>\n",
       "      <td>0.881082</td>\n",
       "      <td>0.863760</td>\n",
       "      <td>0.853882</td>\n",
       "      <td>0.876353</td>\n",
       "      <td>0.870458</td>\n",
       "      <td>0.010128</td>\n",
       "      <td>90</td>\n",
       "    </tr>\n",
       "    <tr>\n",
       "      <th>34</th>\n",
       "      <td>2.302796</td>\n",
       "      <td>0.062598</td>\n",
       "      <td>0.006183</td>\n",
       "      <td>0.000399</td>\n",
       "      <td>3.862528</td>\n",
       "      <td>{'C': 3.8625281322982374}</td>\n",
       "      <td>0.877135</td>\n",
       "      <td>0.880991</td>\n",
       "      <td>0.863656</td>\n",
       "      <td>0.853775</td>\n",
       "      <td>0.876278</td>\n",
       "      <td>0.870367</td>\n",
       "      <td>0.010138</td>\n",
       "      <td>91</td>\n",
       "    </tr>\n",
       "    <tr>\n",
       "      <th>50</th>\n",
       "      <td>2.259850</td>\n",
       "      <td>0.152672</td>\n",
       "      <td>0.007181</td>\n",
       "      <td>0.000748</td>\n",
       "      <td>3.878339</td>\n",
       "      <td>{'C': 3.8783385110582342}</td>\n",
       "      <td>0.877105</td>\n",
       "      <td>0.880956</td>\n",
       "      <td>0.863630</td>\n",
       "      <td>0.853730</td>\n",
       "      <td>0.876245</td>\n",
       "      <td>0.870333</td>\n",
       "      <td>0.010142</td>\n",
       "      <td>92</td>\n",
       "    </tr>\n",
       "    <tr>\n",
       "      <th>11</th>\n",
       "      <td>2.132061</td>\n",
       "      <td>0.059868</td>\n",
       "      <td>0.006784</td>\n",
       "      <td>0.000399</td>\n",
       "      <td>3.879639</td>\n",
       "      <td>{'C': 3.8796394086479773}</td>\n",
       "      <td>0.877091</td>\n",
       "      <td>0.880962</td>\n",
       "      <td>0.863608</td>\n",
       "      <td>0.853724</td>\n",
       "      <td>0.876251</td>\n",
       "      <td>0.870327</td>\n",
       "      <td>0.010146</td>\n",
       "      <td>93</td>\n",
       "    </tr>\n",
       "    <tr>\n",
       "      <th>69</th>\n",
       "      <td>2.473248</td>\n",
       "      <td>0.135024</td>\n",
       "      <td>0.006982</td>\n",
       "      <td>0.000629</td>\n",
       "      <td>3.947548</td>\n",
       "      <td>{'C': 3.947547746402069}</td>\n",
       "      <td>0.877010</td>\n",
       "      <td>0.880829</td>\n",
       "      <td>0.863509</td>\n",
       "      <td>0.853591</td>\n",
       "      <td>0.876152</td>\n",
       "      <td>0.870218</td>\n",
       "      <td>0.010153</td>\n",
       "      <td>94</td>\n",
       "    </tr>\n",
       "  </tbody>\n",
       "</table>\n",
       "<p>100 rows × 14 columns</p>\n",
       "</div>"
      ],
      "text/plain": [
       "    mean_fit_time  std_fit_time  mean_score_time  std_score_time   param_C  \\\n",
       "72       0.385792      0.016339         0.006089        0.000484  0.022088   \n",
       "10       0.571923      0.037734         0.007182        0.000398  0.082338   \n",
       "98       0.565771      0.055644         0.005289        0.001825  0.101677   \n",
       "42       0.834569      0.083604         0.006782        0.000746  0.137554   \n",
       "58       0.975827      0.143524         0.008087        0.003729  0.180909   \n",
       "..            ...           ...              ...             ...       ...   \n",
       "1        2.411559      0.121139         0.006586        0.000585  3.802857   \n",
       "34       2.302796      0.062598         0.006183        0.000399  3.862528   \n",
       "50       2.259850      0.152672         0.007181        0.000748  3.878339   \n",
       "11       2.132061      0.059868         0.006784        0.000399  3.879639   \n",
       "69       2.473248      0.135024         0.006982        0.000629  3.947548   \n",
       "\n",
       "                         params  split0_test_score  split1_test_score  \\\n",
       "72  {'C': 0.022088468494409597}           0.827415           0.833777   \n",
       "10   {'C': 0.08233797718320979}           0.864374           0.867161   \n",
       "98   {'C': 0.10167650697638075}           0.868155           0.870643   \n",
       "42   {'C': 0.13755408446087358}           0.872632           0.874930   \n",
       "58   {'C': 0.18090915564215226}           0.875813           0.877965   \n",
       "..                          ...                ...                ...   \n",
       "1     {'C': 3.8028572256396647}           0.877215           0.881082   \n",
       "34    {'C': 3.8625281322982374}           0.877135           0.880991   \n",
       "50    {'C': 3.8783385110582342}           0.877105           0.880956   \n",
       "11    {'C': 3.8796394086479773}           0.877091           0.880962   \n",
       "69     {'C': 3.947547746402069}           0.877010           0.880829   \n",
       "\n",
       "    split2_test_score  split3_test_score  split4_test_score  mean_test_score  \\\n",
       "72           0.808035           0.814502           0.841708         0.825087   \n",
       "10           0.845380           0.846580           0.866256         0.857950   \n",
       "98           0.849562           0.850073           0.868926         0.861472   \n",
       "42           0.855066           0.854638           0.872126         0.865878   \n",
       "58           0.859005           0.857691           0.874480         0.868991   \n",
       "..                ...                ...                ...              ...   \n",
       "1            0.863760           0.853882           0.876353         0.870458   \n",
       "34           0.863656           0.853775           0.876278         0.870367   \n",
       "50           0.863630           0.853730           0.876245         0.870333   \n",
       "11           0.863608           0.853724           0.876251         0.870327   \n",
       "69           0.863509           0.853591           0.876152         0.870218   \n",
       "\n",
       "    std_test_score  rank_test_score  \n",
       "72        0.012329              100  \n",
       "10        0.009822               99  \n",
       "98        0.009551               98  \n",
       "42        0.009053               97  \n",
       "58        0.008771               96  \n",
       "..             ...              ...  \n",
       "1         0.010128               90  \n",
       "34        0.010138               91  \n",
       "50        0.010142               92  \n",
       "11        0.010146               93  \n",
       "69        0.010153               94  \n",
       "\n",
       "[100 rows x 14 columns]"
      ]
     },
     "execution_count": 71,
     "metadata": {},
     "output_type": "execute_result"
    }
   ],
   "source": [
    "result=pd.DataFrame.from_dict(best_model.cv_results_)\n",
    "result=result.sort_values('param_C')\n",
    "result"
   ]
  },
  {
   "cell_type": "code",
   "execution_count": 72,
   "metadata": {},
   "outputs": [
    {
     "data": {
      "image/png": "[encoded data removed]",
      "text/plain": [
       "<Figure size 1000x300 with 1 Axes>"
      ]
     },
     "metadata": {},
     "output_type": "display_data"
    }
   ],
   "source": [
    "plt.figure(figsize=(10,3))\n",
    "plt.plot(result['param_C'],result['mean_test_score']);\n",
    "plt.grid();\n",
    "plt.xlabel('Hyperparameter - C');\n",
    "plt.ylabel('Mean ROC_AUC');\n",
    "plt.title('Test score'); \n",
    "plt.grid();"
   ]
  },
  {
   "cell_type": "code",
   "execution_count": 73,
   "metadata": {},
   "outputs": [
    {
     "name": "stderr",
     "output_type": "stream",
     "text": [
      "[Parallel(n_jobs=-1)]: Using backend LokyBackend with 12 concurrent workers.\n",
      "[Parallel(n_jobs=-1)]: Done   1 out of   1 | elapsed:    2.2s finished\n"
     ]
    },
    {
     "data": {
      "text/html": [
       "<style>#sk-container-id-4 {color: black;background-color: white;}#sk-container-id-4 pre{padding: 0;}#sk-container-id-4 div.sk-toggleable {background-color: white;}#sk-container-id-4 label.sk-toggleable__label {cursor: pointer;display: block;width: 100%;margin-bottom: 0;padding: 0.3em;box-sizing: border-box;text-align: center;}#sk-container-id-4 label.sk-toggleable__label-arrow:before {content: \"▸\";float: left;margin-right: 0.25em;color: #696969;}#sk-container-id-4 label.sk-toggleable__label-arrow:hover:before {color: black;}#sk-container-id-4 div.sk-estimator:hover label.sk-toggleable__label-arrow:before {color: black;}#sk-container-id-4 div.sk-toggleable__content {max-height: 0;max-width: 0;overflow: hidden;text-align: left;background-color: #f0f8ff;}#sk-container-id-4 div.sk-toggleable__content pre {margin: 0.2em;color: black;border-radius: 0.25em;background-color: #f0f8ff;}#sk-container-id-4 input.sk-toggleable__control:checked~div.sk-toggleable__content {max-height: 200px;max-width: 100%;overflow: auto;}#sk-container-id-4 input.sk-toggleable__control:checked~label.sk-toggleable__label-arrow:before {content: \"▾\";}#sk-container-id-4 div.sk-estimator input.sk-toggleable__control:checked~label.sk-toggleable__label {background-color: #d4ebff;}#sk-container-id-4 div.sk-label input.sk-toggleable__control:checked~label.sk-toggleable__label {background-color: #d4ebff;}#sk-container-id-4 input.sk-hidden--visually {border: 0;clip: rect(1px 1px 1px 1px);clip: rect(1px, 1px, 1px, 1px);height: 1px;margin: -1px;overflow: hidden;padding: 0;position: absolute;width: 1px;}#sk-container-id-4 div.sk-estimator {font-family: monospace;background-color: #f0f8ff;border: 1px dotted black;border-radius: 0.25em;box-sizing: border-box;margin-bottom: 0.5em;}#sk-container-id-4 div.sk-estimator:hover {background-color: #d4ebff;}#sk-container-id-4 div.sk-parallel-item::after {content: \"\";width: 100%;border-bottom: 1px solid gray;flex-grow: 1;}#sk-container-id-4 div.sk-label:hover label.sk-toggleable__label {background-color: #d4ebff;}#sk-container-id-4 div.sk-serial::before {content: \"\";position: absolute;border-left: 1px solid gray;box-sizing: border-box;top: 0;bottom: 0;left: 50%;z-index: 0;}#sk-container-id-4 div.sk-serial {display: flex;flex-direction: column;align-items: center;background-color: white;padding-right: 0.2em;padding-left: 0.2em;position: relative;}#sk-container-id-4 div.sk-item {position: relative;z-index: 1;}#sk-container-id-4 div.sk-parallel {display: flex;align-items: stretch;justify-content: center;background-color: white;position: relative;}#sk-container-id-4 div.sk-item::before, #sk-container-id-4 div.sk-parallel-item::before {content: \"\";position: absolute;border-left: 1px solid gray;box-sizing: border-box;top: 0;bottom: 0;left: 50%;z-index: -1;}#sk-container-id-4 div.sk-parallel-item {display: flex;flex-direction: column;z-index: 1;position: relative;background-color: white;}#sk-container-id-4 div.sk-parallel-item:first-child::after {align-self: flex-end;width: 50%;}#sk-container-id-4 div.sk-parallel-item:last-child::after {align-self: flex-start;width: 50%;}#sk-container-id-4 div.sk-parallel-item:only-child::after {width: 0;}#sk-container-id-4 div.sk-dashed-wrapped {border: 1px dashed gray;margin: 0 0.4em 0.5em 0.4em;box-sizing: border-box;padding-bottom: 0.4em;background-color: white;}#sk-container-id-4 div.sk-label label {font-family: monospace;font-weight: bold;display: inline-block;line-height: 1.2em;}#sk-container-id-4 div.sk-label-container {text-align: center;}#sk-container-id-4 div.sk-container {/* jupyter's `normalize.less` sets `[hidden] { display: none; }` but bootstrap.min.css set `[hidden] { display: none !important; }` so we also need the `!important` here to be able to override the default hidden behavior on the sphinx rendered scikit-learn.org. See: https://github.com/scikit-learn/scikit-learn/issues/21755 */display: inline-block !important;position: relative;}#sk-container-id-4 div.sk-text-repr-fallback {display: none;}</style><div id=\"sk-container-id-4\" class=\"sk-top-container\"><div class=\"sk-text-repr-fallback\"><pre>LogisticRegression(C=0.7948627261366896, class_weight=&#x27;balanced&#x27;, n_jobs=-1,\n",
       "                   random_state=42, verbose=2)</pre><b>In a Jupyter environment, please rerun this cell to show the HTML representation or trust the notebook. <br />On GitHub, the HTML representation is unable to render, please try loading this page with nbviewer.org.</b></div><div class=\"sk-container\" hidden><div class=\"sk-item\"><div class=\"sk-estimator sk-toggleable\"><input class=\"sk-toggleable__control sk-hidden--visually\" id=\"sk-estimator-id-4\" type=\"checkbox\" checked><label for=\"sk-estimator-id-4\" class=\"sk-toggleable__label sk-toggleable__label-arrow\">LogisticRegression</label><div class=\"sk-toggleable__content\"><pre>LogisticRegression(C=0.7948627261366896, class_weight=&#x27;balanced&#x27;, n_jobs=-1,\n",
       "                   random_state=42, verbose=2)</pre></div></div></div></div></div>"
      ],
      "text/plain": [
       "LogisticRegression(C=0.7948627261366896, class_weight='balanced', n_jobs=-1,\n",
       "                   random_state=42, verbose=2)"
      ]
     },
     "execution_count": 73,
     "metadata": {},
     "output_type": "execute_result"
    }
   ],
   "source": [
    "model=LogisticRegression(C=best_c,verbose=verbose,random_state=random_state,class_weight='balanced',n_jobs=-1)\n",
    "model.fit(train_ohe,y_true)"
   ]
  },
  {
   "cell_type": "code",
   "execution_count": 77,
   "metadata": {},
   "outputs": [
    {
     "data": {
      "text/plain": [
       "(91.88562360767799, 0.9413502628159217)"
      ]
     },
     "execution_count": 77,
     "metadata": {},
     "output_type": "execute_result"
    }
   ],
   "source": [
    "y_pred=model.predict(train_ohe)\n",
    "test_acc_lr_ohe=accuracy_score(y_true,y_pred)*100\n",
    "auc_lr_ohe = roc_auc_score(y_true, y_pred)\n",
    "test_acc_lr_ohe,auc_lr_ohe"
   ]
  },
  {
   "cell_type": "code",
   "execution_count": 79,
   "metadata": {},
   "outputs": [
    {
     "name": "stdout",
     "output_type": "stream",
     "text": [
      "+---------------------+---------+-------------------+--------------------+\n",
      "|        Model        | Feature |      Accuracy     |      ROC_AUC       |\n",
      "+---------------------+---------+-------------------+--------------------+\n",
      "| Logistic Regression |    -    |  94.3240768996033 | 0.5304092841810044 |\n",
      "| Logistic Regression |   ohe   | 91.88562360767799 | 0.9413502628159217 |\n",
      "+---------------------+---------+-------------------+--------------------+\n"
     ]
    }
   ],
   "source": [
    "from prettytable import PrettyTable\n",
    "x = PrettyTable(['Model', 'Feature', 'Accuracy', 'ROC_AUC'])\n",
    "x.add_row(['Logistic Regression', '-', (test_acc_knn), auc_lr])\n",
    "x.add_row(['Logistic Regression','ohe', test_acc_lr_ohe, auc_lr_ohe])\n",
    "print(x)"
   ]
  },
  {
   "cell_type": "code",
   "execution_count": null,
   "metadata": {},
   "outputs": [],
   "source": []
  }
 ],
 "metadata": {
  "kernelspec": {
   "display_name": "Python 3 (ipykernel)",
   "language": "python",
   "name": "python3"
  },
  "language_info": {
   "codemirror_mode": {
    "name": "ipython",
    "version": 3
   },
   "file_extension": ".py",
   "mimetype": "text/x-python",
   "name": "python",
   "nbconvert_exporter": "python",
   "pygments_lexer": "ipython3",
   "version": "3.11.1"
  },
  "vscode": {
   "interpreter": {
    "hash": "b5366fdf1b75ea46866cbb0dbf20c9c00a492271cd056179d726b8c91a378c13"
   }
  }
 },
 "nbformat": 4,
 "nbformat_minor": 2
}
