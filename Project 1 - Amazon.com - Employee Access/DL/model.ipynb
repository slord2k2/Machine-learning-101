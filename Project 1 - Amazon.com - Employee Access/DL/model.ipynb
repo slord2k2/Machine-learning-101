{
 "cells": [
  {
   "cell_type": "code",
   "execution_count": 1,
   "metadata": {},
   "outputs": [
    {
     "name": "stdout",
     "output_type": "stream",
     "text": [
      "2.12.0-rc1\n"
     ]
    }
   ],
   "source": [
    "import tensorflow as tf\n",
    "print(tf.__version__)"
   ]
  },
  {
   "cell_type": "code",
   "execution_count": 2,
   "metadata": {},
   "outputs": [],
   "source": [
    "import numpy as np\n",
    "import matplotlib.pyplot as plt\n",
    "import pandas as pd"
   ]
  },
  {
   "cell_type": "code",
   "execution_count": 3,
   "metadata": {},
   "outputs": [
    {
     "data": {
      "text/html": [
       "<div>\n",
       "<style scoped>\n",
       "    .dataframe tbody tr th:only-of-type {\n",
       "        vertical-align: middle;\n",
       "    }\n",
       "\n",
       "    .dataframe tbody tr th {\n",
       "        vertical-align: top;\n",
       "    }\n",
       "\n",
       "    .dataframe thead th {\n",
       "        text-align: right;\n",
       "    }\n",
       "</style>\n",
       "<table border=\"1\" class=\"dataframe\">\n",
       "  <thead>\n",
       "    <tr style=\"text-align: right;\">\n",
       "      <th></th>\n",
       "      <th>ACTION</th>\n",
       "      <th>RESOURCE</th>\n",
       "      <th>MGR_ID</th>\n",
       "      <th>ROLE_ROLLUP_1</th>\n",
       "      <th>ROLE_ROLLUP_2</th>\n",
       "      <th>ROLE_DEPTNAME</th>\n",
       "      <th>ROLE_TITLE</th>\n",
       "      <th>ROLE_FAMILY_DESC</th>\n",
       "      <th>ROLE_FAMILY</th>\n",
       "      <th>ROLE_CODE</th>\n",
       "    </tr>\n",
       "  </thead>\n",
       "  <tbody>\n",
       "    <tr>\n",
       "      <th>0</th>\n",
       "      <td>1</td>\n",
       "      <td>39353</td>\n",
       "      <td>85475</td>\n",
       "      <td>117961</td>\n",
       "      <td>118300</td>\n",
       "      <td>123472</td>\n",
       "      <td>117905</td>\n",
       "      <td>117906</td>\n",
       "      <td>290919</td>\n",
       "      <td>117908</td>\n",
       "    </tr>\n",
       "    <tr>\n",
       "      <th>1</th>\n",
       "      <td>1</td>\n",
       "      <td>17183</td>\n",
       "      <td>1540</td>\n",
       "      <td>117961</td>\n",
       "      <td>118343</td>\n",
       "      <td>123125</td>\n",
       "      <td>118536</td>\n",
       "      <td>118536</td>\n",
       "      <td>308574</td>\n",
       "      <td>118539</td>\n",
       "    </tr>\n",
       "    <tr>\n",
       "      <th>2</th>\n",
       "      <td>1</td>\n",
       "      <td>36724</td>\n",
       "      <td>14457</td>\n",
       "      <td>118219</td>\n",
       "      <td>118220</td>\n",
       "      <td>117884</td>\n",
       "      <td>117879</td>\n",
       "      <td>267952</td>\n",
       "      <td>19721</td>\n",
       "      <td>117880</td>\n",
       "    </tr>\n",
       "    <tr>\n",
       "      <th>3</th>\n",
       "      <td>1</td>\n",
       "      <td>36135</td>\n",
       "      <td>5396</td>\n",
       "      <td>117961</td>\n",
       "      <td>118343</td>\n",
       "      <td>119993</td>\n",
       "      <td>118321</td>\n",
       "      <td>240983</td>\n",
       "      <td>290919</td>\n",
       "      <td>118322</td>\n",
       "    </tr>\n",
       "    <tr>\n",
       "      <th>4</th>\n",
       "      <td>1</td>\n",
       "      <td>42680</td>\n",
       "      <td>5905</td>\n",
       "      <td>117929</td>\n",
       "      <td>117930</td>\n",
       "      <td>119569</td>\n",
       "      <td>119323</td>\n",
       "      <td>123932</td>\n",
       "      <td>19793</td>\n",
       "      <td>119325</td>\n",
       "    </tr>\n",
       "  </tbody>\n",
       "</table>\n",
       "</div>"
      ],
      "text/plain": [
       "   ACTION  RESOURCE  MGR_ID  ROLE_ROLLUP_1  ROLE_ROLLUP_2  ROLE_DEPTNAME  \\\n",
       "0       1     39353   85475         117961         118300         123472   \n",
       "1       1     17183    1540         117961         118343         123125   \n",
       "2       1     36724   14457         118219         118220         117884   \n",
       "3       1     36135    5396         117961         118343         119993   \n",
       "4       1     42680    5905         117929         117930         119569   \n",
       "\n",
       "   ROLE_TITLE  ROLE_FAMILY_DESC  ROLE_FAMILY  ROLE_CODE  \n",
       "0      117905            117906       290919     117908  \n",
       "1      118536            118536       308574     118539  \n",
       "2      117879            267952        19721     117880  \n",
       "3      118321            240983       290919     118322  \n",
       "4      119323            123932        19793     119325  "
      ]
     },
     "execution_count": 3,
     "metadata": {},
     "output_type": "execute_result"
    }
   ],
   "source": [
    "dataset=pd.read_csv('train.csv')\n",
    "dataset.head()"
   ]
  },
  {
   "cell_type": "code",
   "execution_count": 4,
   "metadata": {},
   "outputs": [
    {
     "data": {
      "text/plain": [
       "((32769, 9), (32769,))"
      ]
     },
     "execution_count": 4,
     "metadata": {},
     "output_type": "execute_result"
    }
   ],
   "source": [
    "X=dataset.iloc[:,1:10]\n",
    "y=dataset.iloc[:,0]\n",
    "X.shape,y.shape"
   ]
  },
  {
   "cell_type": "code",
   "execution_count": 5,
   "metadata": {},
   "outputs": [],
   "source": [
    "from sklearn.model_selection import train_test_split\n",
    "\n",
    "X_train, X_test, y_train, y_test = train_test_split(X, y, test_size=0.2,random_state=0)"
   ]
  },
  {
   "cell_type": "code",
   "execution_count": 6,
   "metadata": {},
   "outputs": [],
   "source": [
    "from sklearn.preprocessing import StandardScaler\n",
    "\n",
    "sc=StandardScaler()\n",
    "X_train=sc.fit_transform(X_train)\n",
    "X_test=sc.transform(X_test)"
   ]
  },
  {
   "cell_type": "code",
   "execution_count": 7,
   "metadata": {},
   "outputs": [
    {
     "data": {
      "text/plain": [
       "(26215, 9)"
      ]
     },
     "execution_count": 7,
     "metadata": {},
     "output_type": "execute_result"
    }
   ],
   "source": [
    "X_train.shape"
   ]
  },
  {
   "cell_type": "code",
   "execution_count": 8,
   "metadata": {},
   "outputs": [],
   "source": [
    "from tensorflow.keras.models import Sequential\n",
    "from tensorflow.keras.layers import Dense\n",
    "from tensorflow.keras.layers import LeakyReLU,PReLU,ELU,ReLU\n",
    "from tensorflow.keras.layers import Dropout\n"
   ]
  },
  {
   "cell_type": "code",
   "execution_count": 9,
   "metadata": {},
   "outputs": [],
   "source": [
    "classifier=Sequential()\n",
    "\n",
    "classifier.add(Dense(units=9,activation='relu'))\n",
    "\n",
    "classifier.add(Dense(units=7,activation='relu'))\n",
    "\n",
    "classifier.add(Dense(units=6,activation='relu'))\n",
    "\n",
    "classifier.add(Dense(units=1,activation='sigmoid'))"
   ]
  },
  {
   "cell_type": "code",
   "execution_count": 10,
   "metadata": {},
   "outputs": [],
   "source": [
    "classifier.compile(optimizer='adam',loss='binary_crossentropy',metrics=['accuracy'])"
   ]
  },
  {
   "cell_type": "code",
   "execution_count": 12,
   "metadata": {},
   "outputs": [],
   "source": [
    "import tensorflow as tf\n",
    "early_stopping=tf.keras.callbacks.EarlyStopping(\n",
    "    monitor=\"val_loss\",\n",
    "    min_delta=0.0001,\n",
    "    patience=20,\n",
    "    verbose=1,\n",
    "    mode=\"auto\",\n",
    "    baseline=None,\n",
    "    restore_best_weights=False,\n",
    "    start_from_epoch=0,\n",
    ")\n"
   ]
  },
  {
   "cell_type": "code",
   "execution_count": 13,
   "metadata": {
    "scrolled": false
   },
   "outputs": [
    {
     "name": "stdout",
     "output_type": "stream",
     "text": [
      "Epoch 1/100\n"
     ]
    },
    {
     "name": "stderr",
     "output_type": "stream",
     "text": [
      "C:\\Users\\harsh\\AppData\\Local\\Programs\\Python\\Python311\\Lib\\site-packages\\keras\\engine\\data_adapter.py:1700: FutureWarning: The behavior of `series[i:j]` with an integer-dtype index is deprecated. In a future version, this will be treated as *label-based* indexing, consistent with e.g. `series[i]` lookups. To retain the old behavior, use `series.iloc[i:j]`. To get the future behavior, use `series.loc[i:j]`.\n",
      "  return t[start:end]\n"
     ]
    },
    {
     "name": "stdout",
     "output_type": "stream",
     "text": [
      "1757/1757 [==============================] - 3s 2ms/step - loss: 0.2446 - accuracy: 0.9415 - val_loss: 0.2264 - val_accuracy: 0.9424\n",
      "Epoch 2/100\n",
      "1757/1757 [==============================] - 3s 2ms/step - loss: 0.2230 - accuracy: 0.9415 - val_loss: 0.2220 - val_accuracy: 0.9424\n",
      "Epoch 3/100\n",
      "1757/1757 [==============================] - 4s 2ms/step - loss: 0.2199 - accuracy: 0.9415 - val_loss: 0.2203 - val_accuracy: 0.9424\n",
      "Epoch 4/100\n",
      "1757/1757 [==============================] - 6s 3ms/step - loss: 0.2189 - accuracy: 0.9415 - val_loss: 0.2198 - val_accuracy: 0.9424\n",
      "Epoch 5/100\n",
      "1757/1757 [==============================] - 4s 2ms/step - loss: 0.2179 - accuracy: 0.9415 - val_loss: 0.2193 - val_accuracy: 0.9424\n",
      "Epoch 6/100\n",
      "1757/1757 [==============================] - 3s 2ms/step - loss: 0.2173 - accuracy: 0.9415 - val_loss: 0.2200 - val_accuracy: 0.9424\n",
      "Epoch 7/100\n",
      "1757/1757 [==============================] - 5s 3ms/step - loss: 0.2168 - accuracy: 0.9415 - val_loss: 0.2188 - val_accuracy: 0.9424\n",
      "Epoch 8/100\n",
      "1757/1757 [==============================] - 3s 2ms/step - loss: 0.2164 - accuracy: 0.9415 - val_loss: 0.2195 - val_accuracy: 0.9424\n",
      "Epoch 9/100\n",
      "1757/1757 [==============================] - 3s 2ms/step - loss: 0.2163 - accuracy: 0.9415 - val_loss: 0.2191 - val_accuracy: 0.9424\n",
      "Epoch 10/100\n",
      "1757/1757 [==============================] - 4s 2ms/step - loss: 0.2158 - accuracy: 0.9415 - val_loss: 0.2186 - val_accuracy: 0.9424\n",
      "Epoch 11/100\n",
      "1757/1757 [==============================] - 4s 2ms/step - loss: 0.2154 - accuracy: 0.9415 - val_loss: 0.2184 - val_accuracy: 0.9424\n",
      "Epoch 12/100\n",
      "1757/1757 [==============================] - 4s 2ms/step - loss: 0.2158 - accuracy: 0.9415 - val_loss: 0.2186 - val_accuracy: 0.9424\n",
      "Epoch 13/100\n",
      "1757/1757 [==============================] - 4s 2ms/step - loss: 0.2152 - accuracy: 0.9415 - val_loss: 0.2188 - val_accuracy: 0.9424\n",
      "Epoch 14/100\n",
      "1757/1757 [==============================] - 4s 2ms/step - loss: 0.2151 - accuracy: 0.9415 - val_loss: 0.2180 - val_accuracy: 0.9424\n",
      "Epoch 15/100\n",
      "1757/1757 [==============================] - 4s 2ms/step - loss: 0.2146 - accuracy: 0.9415 - val_loss: 0.2205 - val_accuracy: 0.9424\n",
      "Epoch 16/100\n",
      "1757/1757 [==============================] - 4s 2ms/step - loss: 0.2147 - accuracy: 0.9415 - val_loss: 0.2187 - val_accuracy: 0.9424\n",
      "Epoch 17/100\n",
      "1757/1757 [==============================] - 4s 2ms/step - loss: 0.2145 - accuracy: 0.9415 - val_loss: 0.2172 - val_accuracy: 0.9424\n",
      "Epoch 18/100\n",
      "1757/1757 [==============================] - 4s 2ms/step - loss: 0.2142 - accuracy: 0.9415 - val_loss: 0.2170 - val_accuracy: 0.9424\n",
      "Epoch 19/100\n",
      "1757/1757 [==============================] - 4s 2ms/step - loss: 0.2143 - accuracy: 0.9415 - val_loss: 0.2176 - val_accuracy: 0.9424\n",
      "Epoch 20/100\n",
      "1757/1757 [==============================] - 4s 2ms/step - loss: 0.2144 - accuracy: 0.9415 - val_loss: 0.2167 - val_accuracy: 0.9424\n",
      "Epoch 21/100\n",
      "1757/1757 [==============================] - 4s 2ms/step - loss: 0.2141 - accuracy: 0.9415 - val_loss: 0.2188 - val_accuracy: 0.9424\n",
      "Epoch 22/100\n",
      "1757/1757 [==============================] - 4s 2ms/step - loss: 0.2139 - accuracy: 0.9415 - val_loss: 0.2204 - val_accuracy: 0.9424\n",
      "Epoch 23/100\n",
      "1757/1757 [==============================] - 4s 2ms/step - loss: 0.2136 - accuracy: 0.9415 - val_loss: 0.2178 - val_accuracy: 0.9424\n",
      "Epoch 24/100\n",
      "1757/1757 [==============================] - 4s 2ms/step - loss: 0.2141 - accuracy: 0.9415 - val_loss: 0.2167 - val_accuracy: 0.9424\n",
      "Epoch 25/100\n",
      "1757/1757 [==============================] - 4s 2ms/step - loss: 0.2138 - accuracy: 0.9415 - val_loss: 0.2177 - val_accuracy: 0.9424\n",
      "Epoch 26/100\n",
      "1757/1757 [==============================] - 3s 2ms/step - loss: 0.2137 - accuracy: 0.9415 - val_loss: 0.2166 - val_accuracy: 0.9424\n",
      "Epoch 27/100\n",
      "1757/1757 [==============================] - 3s 2ms/step - loss: 0.2132 - accuracy: 0.9415 - val_loss: 0.2176 - val_accuracy: 0.9424\n",
      "Epoch 28/100\n",
      "1757/1757 [==============================] - 3s 2ms/step - loss: 0.2136 - accuracy: 0.9415 - val_loss: 0.2172 - val_accuracy: 0.9424\n",
      "Epoch 29/100\n",
      "1757/1757 [==============================] - 3s 2ms/step - loss: 0.2135 - accuracy: 0.9415 - val_loss: 0.2171 - val_accuracy: 0.9424\n",
      "Epoch 30/100\n",
      "1757/1757 [==============================] - 3s 2ms/step - loss: 0.2128 - accuracy: 0.9415 - val_loss: 0.2162 - val_accuracy: 0.9424\n",
      "Epoch 31/100\n",
      "1757/1757 [==============================] - 3s 2ms/step - loss: 0.2132 - accuracy: 0.9415 - val_loss: 0.2160 - val_accuracy: 0.9424\n",
      "Epoch 32/100\n",
      "1757/1757 [==============================] - 3s 2ms/step - loss: 0.2133 - accuracy: 0.9415 - val_loss: 0.2159 - val_accuracy: 0.9424\n",
      "Epoch 33/100\n",
      "1757/1757 [==============================] - 3s 2ms/step - loss: 0.2128 - accuracy: 0.9415 - val_loss: 0.2175 - val_accuracy: 0.9424\n",
      "Epoch 34/100\n",
      "1757/1757 [==============================] - 4s 2ms/step - loss: 0.2131 - accuracy: 0.9415 - val_loss: 0.2172 - val_accuracy: 0.9424\n",
      "Epoch 35/100\n",
      "1757/1757 [==============================] - 3s 2ms/step - loss: 0.2129 - accuracy: 0.9415 - val_loss: 0.2188 - val_accuracy: 0.9424\n",
      "Epoch 36/100\n",
      "1757/1757 [==============================] - 3s 2ms/step - loss: 0.2128 - accuracy: 0.9415 - val_loss: 0.2175 - val_accuracy: 0.9424\n",
      "Epoch 37/100\n",
      "1757/1757 [==============================] - 4s 2ms/step - loss: 0.2129 - accuracy: 0.9415 - val_loss: 0.2172 - val_accuracy: 0.9424\n",
      "Epoch 38/100\n",
      "1757/1757 [==============================] - 4s 2ms/step - loss: 0.2128 - accuracy: 0.9415 - val_loss: 0.2162 - val_accuracy: 0.9424\n",
      "Epoch 39/100\n",
      "1757/1757 [==============================] - 3s 2ms/step - loss: 0.2129 - accuracy: 0.9415 - val_loss: 0.2169 - val_accuracy: 0.9424\n",
      "Epoch 40/100\n",
      "1757/1757 [==============================] - 3s 1ms/step - loss: 0.2129 - accuracy: 0.9415 - val_loss: 0.2168 - val_accuracy: 0.9424\n",
      "Epoch 41/100\n",
      "1757/1757 [==============================] - 3s 1ms/step - loss: 0.2126 - accuracy: 0.9415 - val_loss: 0.2165 - val_accuracy: 0.9424\n",
      "Epoch 42/100\n",
      "1757/1757 [==============================] - 2s 1ms/step - loss: 0.2127 - accuracy: 0.9415 - val_loss: 0.2162 - val_accuracy: 0.9424\n",
      "Epoch 43/100\n",
      "1757/1757 [==============================] - 3s 1ms/step - loss: 0.2124 - accuracy: 0.9415 - val_loss: 0.2169 - val_accuracy: 0.9424\n",
      "Epoch 44/100\n",
      "1757/1757 [==============================] - 3s 1ms/step - loss: 0.2126 - accuracy: 0.9415 - val_loss: 0.2168 - val_accuracy: 0.9424\n",
      "Epoch 45/100\n",
      "1757/1757 [==============================] - 3s 2ms/step - loss: 0.2124 - accuracy: 0.9415 - val_loss: 0.2159 - val_accuracy: 0.9424\n",
      "Epoch 46/100\n",
      "1757/1757 [==============================] - 3s 2ms/step - loss: 0.2122 - accuracy: 0.9415 - val_loss: 0.2198 - val_accuracy: 0.9424\n",
      "Epoch 47/100\n",
      "1757/1757 [==============================] - 3s 2ms/step - loss: 0.2122 - accuracy: 0.9415 - val_loss: 0.2158 - val_accuracy: 0.9424\n",
      "Epoch 48/100\n",
      "1757/1757 [==============================] - 3s 2ms/step - loss: 0.2124 - accuracy: 0.9415 - val_loss: 0.2173 - val_accuracy: 0.9424\n",
      "Epoch 49/100\n",
      "1757/1757 [==============================] - 3s 2ms/step - loss: 0.2120 - accuracy: 0.9415 - val_loss: 0.2185 - val_accuracy: 0.9424\n",
      "Epoch 50/100\n",
      "1757/1757 [==============================] - 3s 2ms/step - loss: 0.2125 - accuracy: 0.9415 - val_loss: 0.2158 - val_accuracy: 0.9424\n",
      "Epoch 51/100\n",
      "1757/1757 [==============================] - 3s 2ms/step - loss: 0.2122 - accuracy: 0.9415 - val_loss: 0.2162 - val_accuracy: 0.9424\n",
      "Epoch 52/100\n",
      "1757/1757 [==============================] - 3s 2ms/step - loss: 0.2120 - accuracy: 0.9415 - val_loss: 0.2155 - val_accuracy: 0.9424\n",
      "Epoch 53/100\n",
      "1757/1757 [==============================] - 3s 2ms/step - loss: 0.2116 - accuracy: 0.9415 - val_loss: 0.2163 - val_accuracy: 0.9424\n",
      "Epoch 54/100\n",
      "1757/1757 [==============================] - 3s 2ms/step - loss: 0.2122 - accuracy: 0.9415 - val_loss: 0.2156 - val_accuracy: 0.9424\n",
      "Epoch 55/100\n",
      "1757/1757 [==============================] - 3s 2ms/step - loss: 0.2117 - accuracy: 0.9415 - val_loss: 0.2174 - val_accuracy: 0.9424\n",
      "Epoch 56/100\n",
      "1757/1757 [==============================] - 3s 2ms/step - loss: 0.2119 - accuracy: 0.9415 - val_loss: 0.2153 - val_accuracy: 0.9424\n",
      "Epoch 57/100\n",
      "1757/1757 [==============================] - 3s 2ms/step - loss: 0.2115 - accuracy: 0.9416 - val_loss: 0.2154 - val_accuracy: 0.9424\n",
      "Epoch 58/100\n",
      "1757/1757 [==============================] - 3s 2ms/step - loss: 0.2121 - accuracy: 0.9417 - val_loss: 0.2157 - val_accuracy: 0.9423\n",
      "Epoch 59/100\n",
      "1757/1757 [==============================] - 3s 2ms/step - loss: 0.2116 - accuracy: 0.9419 - val_loss: 0.2161 - val_accuracy: 0.9423\n",
      "Epoch 60/100\n",
      "1757/1757 [==============================] - 3s 2ms/step - loss: 0.2115 - accuracy: 0.9419 - val_loss: 0.2162 - val_accuracy: 0.9423\n",
      "Epoch 61/100\n",
      "1757/1757 [==============================] - 3s 2ms/step - loss: 0.2115 - accuracy: 0.9419 - val_loss: 0.2159 - val_accuracy: 0.9423\n",
      "Epoch 62/100\n",
      "1757/1757 [==============================] - 3s 2ms/step - loss: 0.2117 - accuracy: 0.9419 - val_loss: 0.2161 - val_accuracy: 0.9423\n",
      "Epoch 63/100\n",
      "1757/1757 [==============================] - 3s 2ms/step - loss: 0.2112 - accuracy: 0.9419 - val_loss: 0.2158 - val_accuracy: 0.9423\n",
      "Epoch 64/100\n",
      "1757/1757 [==============================] - 3s 2ms/step - loss: 0.2110 - accuracy: 0.9419 - val_loss: 0.2158 - val_accuracy: 0.9423\n",
      "Epoch 65/100\n",
      "1757/1757 [==============================] - 3s 2ms/step - loss: 0.2107 - accuracy: 0.9419 - val_loss: 0.2159 - val_accuracy: 0.9423\n",
      "Epoch 66/100\n",
      "1757/1757 [==============================] - 3s 2ms/step - loss: 0.2112 - accuracy: 0.9419 - val_loss: 0.2149 - val_accuracy: 0.9423\n",
      "Epoch 67/100\n",
      "1757/1757 [==============================] - 3s 2ms/step - loss: 0.2111 - accuracy: 0.9419 - val_loss: 0.2169 - val_accuracy: 0.9423\n",
      "Epoch 68/100\n",
      "1757/1757 [==============================] - 3s 2ms/step - loss: 0.2110 - accuracy: 0.9419 - val_loss: 0.2162 - val_accuracy: 0.9423\n",
      "Epoch 69/100\n",
      "1757/1757 [==============================] - 3s 2ms/step - loss: 0.2108 - accuracy: 0.9419 - val_loss: 0.2167 - val_accuracy: 0.9423\n",
      "Epoch 70/100\n",
      "1757/1757 [==============================] - 3s 2ms/step - loss: 0.2106 - accuracy: 0.9419 - val_loss: 0.2154 - val_accuracy: 0.9423\n",
      "Epoch 71/100\n",
      "1757/1757 [==============================] - 3s 2ms/step - loss: 0.2104 - accuracy: 0.9419 - val_loss: 0.2154 - val_accuracy: 0.9423\n",
      "Epoch 72/100\n",
      "1757/1757 [==============================] - 3s 2ms/step - loss: 0.2109 - accuracy: 0.9419 - val_loss: 0.2153 - val_accuracy: 0.9423\n",
      "Epoch 73/100\n",
      "1757/1757 [==============================] - 3s 2ms/step - loss: 0.2106 - accuracy: 0.9419 - val_loss: 0.2152 - val_accuracy: 0.9422\n",
      "Epoch 74/100\n",
      "1757/1757 [==============================] - 3s 2ms/step - loss: 0.2104 - accuracy: 0.9419 - val_loss: 0.2170 - val_accuracy: 0.9422\n",
      "Epoch 75/100\n",
      "1757/1757 [==============================] - 3s 2ms/step - loss: 0.2109 - accuracy: 0.9419 - val_loss: 0.2165 - val_accuracy: 0.9423\n",
      "Epoch 76/100\n",
      "1757/1757 [==============================] - 3s 2ms/step - loss: 0.2103 - accuracy: 0.9419 - val_loss: 0.2163 - val_accuracy: 0.9422\n",
      "Epoch 77/100\n",
      "1757/1757 [==============================] - 3s 2ms/step - loss: 0.2104 - accuracy: 0.9419 - val_loss: 0.2177 - val_accuracy: 0.9422\n",
      "Epoch 78/100\n",
      "1757/1757 [==============================] - 3s 2ms/step - loss: 0.2101 - accuracy: 0.9419 - val_loss: 0.2153 - val_accuracy: 0.9423\n",
      "Epoch 79/100\n",
      "1757/1757 [==============================] - 3s 2ms/step - loss: 0.2102 - accuracy: 0.9419 - val_loss: 0.2159 - val_accuracy: 0.9422\n",
      "Epoch 80/100\n",
      "1757/1757 [==============================] - 3s 2ms/step - loss: 0.2104 - accuracy: 0.9419 - val_loss: 0.2153 - val_accuracy: 0.9422\n",
      "Epoch 81/100\n",
      "1757/1757 [==============================] - 3s 1ms/step - loss: 0.2103 - accuracy: 0.9419 - val_loss: 0.2159 - val_accuracy: 0.9423\n",
      "Epoch 82/100\n",
      "1757/1757 [==============================] - 2s 1ms/step - loss: 0.2102 - accuracy: 0.9419 - val_loss: 0.2156 - val_accuracy: 0.9423\n",
      "Epoch 83/100\n",
      "1757/1757 [==============================] - 2s 1ms/step - loss: 0.2105 - accuracy: 0.9419 - val_loss: 0.2159 - val_accuracy: 0.9422\n",
      "Epoch 84/100\n",
      "1757/1757 [==============================] - 2s 1ms/step - loss: 0.2102 - accuracy: 0.9419 - val_loss: 0.2151 - val_accuracy: 0.9422\n",
      "Epoch 85/100\n",
      "1757/1757 [==============================] - 3s 1ms/step - loss: 0.2101 - accuracy: 0.9419 - val_loss: 0.2151 - val_accuracy: 0.9422\n",
      "Epoch 86/100\n",
      "1757/1757 [==============================] - 2s 1ms/step - loss: 0.2101 - accuracy: 0.9419 - val_loss: 0.2151 - val_accuracy: 0.9423\n",
      "Epoch 86: early stopping\n"
     ]
    }
   ],
   "source": [
    "model_history=classifier.fit(X_train,y_train,validation_split=0.33,batch_size=10,epochs=100,callbacks=early_stopping)"
   ]
  },
  {
   "cell_type": "code",
   "execution_count": 14,
   "metadata": {},
   "outputs": [
    {
     "data": {
      "text/plain": [
       "dict_keys(['loss', 'accuracy', 'val_loss', 'val_accuracy'])"
      ]
     },
     "execution_count": 14,
     "metadata": {},
     "output_type": "execute_result"
    }
   ],
   "source": [
    "model_history.history.keys()"
   ]
  },
  {
   "cell_type": "code",
   "execution_count": 15,
   "metadata": {},
   "outputs": [
    {
     "data": {
      "image/png": "[encoded data removed]",
      "text/plain": [
       "<Figure size 640x480 with 1 Axes>"
      ]
     },
     "metadata": {},
     "output_type": "display_data"
    }
   ],
   "source": [
    "plt.plot(model_history.history['accuracy'])\n",
    "plt.plot(model_history.history['val_accuracy'])\n",
    "plt.title('model accuracy')\n",
    "plt.ylabel('accuracy')\n",
    "plt.xlabel('epoch')\n",
    "plt.legend(['train','test'],loc='upper left')\n",
    "plt.show()"
   ]
  },
  {
   "cell_type": "code",
   "execution_count": 16,
   "metadata": {},
   "outputs": [
    {
     "data": {
      "image/png": "[encoded data removed]",
      "text/plain": [
       "<Figure size 640x480 with 1 Axes>"
      ]
     },
     "metadata": {},
     "output_type": "display_data"
    }
   ],
   "source": [
    "plt.plot(model_history.history['loss'])\n",
    "plt.plot(model_history.history['val_loss'])\n",
    "plt.title('model Loss')\n",
    "plt.ylabel('Loss')\n",
    "plt.xlabel('epoch')\n",
    "plt.legend(['train','test'],loc='upper left')\n",
    "plt.show()"
   ]
  },
  {
   "cell_type": "code",
   "execution_count": 17,
   "metadata": {},
   "outputs": [
    {
     "name": "stdout",
     "output_type": "stream",
     "text": [
      "205/205 [==============================] - 0s 794us/step\n"
     ]
    }
   ],
   "source": [
    "y_pred=classifier.predict(X_test)\n",
    "y_pred=(y_pred>=0.5)"
   ]
  },
  {
   "cell_type": "code",
   "execution_count": 21,
   "metadata": {},
   "outputs": [
    {
     "data": {
      "image/png": "[encoded data removed]",
      "text/plain": [
       "<Figure size 640x480 with 2 Axes>"
      ]
     },
     "metadata": {},
     "output_type": "display_data"
    }
   ],
   "source": [
    "from sklearn.metrics import confusion_matrix,ConfusionMatrixDisplay,accuracy_score\n",
    "cm=confusion_matrix(y_test,y_pred)\n",
    "disp = ConfusionMatrixDisplay(confusion_matrix=cm)\n",
    "disp.plot()\n",
    "plt.show()"
   ]
  },
  {
   "cell_type": "code",
   "execution_count": 22,
   "metadata": {},
   "outputs": [
    {
     "data": {
      "text/plain": [
       "94.3240768996033"
      ]
     },
     "execution_count": 22,
     "metadata": {},
     "output_type": "execute_result"
    }
   ],
   "source": [
    " "
   ]
  },
  {
   "cell_type": "code",
   "execution_count": 32,
   "metadata": {},
   "outputs": [],
   "source": [
    "from scipy import sparse\n",
    "\n",
    "train_ohe = sparse.load_npz('train_ohe.npz')\n",
    "train_ohe_array = train_ohe.toarray()\n",
    "train_ohe = pd.DataFrame(train_ohe_array)"
   ]
  },
  {
   "cell_type": "code",
   "execution_count": 36,
   "metadata": {},
   "outputs": [
    {
     "data": {
      "text/html": [
       "<div>\n",
       "<style scoped>\n",
       "    .dataframe tbody tr th:only-of-type {\n",
       "        vertical-align: middle;\n",
       "    }\n",
       "\n",
       "    .dataframe tbody tr th {\n",
       "        vertical-align: top;\n",
       "    }\n",
       "\n",
       "    .dataframe thead th {\n",
       "        text-align: right;\n",
       "    }\n",
       "</style>\n",
       "<table border=\"1\" class=\"dataframe\">\n",
       "  <thead>\n",
       "    <tr style=\"text-align: right;\">\n",
       "      <th></th>\n",
       "      <th>0</th>\n",
       "      <th>1</th>\n",
       "      <th>2</th>\n",
       "      <th>3</th>\n",
       "      <th>4</th>\n",
       "      <th>5</th>\n",
       "      <th>6</th>\n",
       "      <th>7</th>\n",
       "      <th>8</th>\n",
       "      <th>9</th>\n",
       "      <th>...</th>\n",
       "      <th>4490</th>\n",
       "      <th>4491</th>\n",
       "      <th>4492</th>\n",
       "      <th>4493</th>\n",
       "      <th>4494</th>\n",
       "      <th>4495</th>\n",
       "      <th>4496</th>\n",
       "      <th>4497</th>\n",
       "      <th>4498</th>\n",
       "      <th>4499</th>\n",
       "    </tr>\n",
       "  </thead>\n",
       "  <tbody>\n",
       "    <tr>\n",
       "      <th>0</th>\n",
       "      <td>0</td>\n",
       "      <td>0</td>\n",
       "      <td>0</td>\n",
       "      <td>0</td>\n",
       "      <td>0</td>\n",
       "      <td>0</td>\n",
       "      <td>0</td>\n",
       "      <td>0</td>\n",
       "      <td>0</td>\n",
       "      <td>0</td>\n",
       "      <td>...</td>\n",
       "      <td>0</td>\n",
       "      <td>0</td>\n",
       "      <td>0</td>\n",
       "      <td>0</td>\n",
       "      <td>0</td>\n",
       "      <td>0</td>\n",
       "      <td>0</td>\n",
       "      <td>0</td>\n",
       "      <td>0</td>\n",
       "      <td>0</td>\n",
       "    </tr>\n",
       "    <tr>\n",
       "      <th>1</th>\n",
       "      <td>0</td>\n",
       "      <td>0</td>\n",
       "      <td>0</td>\n",
       "      <td>0</td>\n",
       "      <td>0</td>\n",
       "      <td>0</td>\n",
       "      <td>0</td>\n",
       "      <td>0</td>\n",
       "      <td>0</td>\n",
       "      <td>0</td>\n",
       "      <td>...</td>\n",
       "      <td>0</td>\n",
       "      <td>0</td>\n",
       "      <td>0</td>\n",
       "      <td>0</td>\n",
       "      <td>0</td>\n",
       "      <td>0</td>\n",
       "      <td>0</td>\n",
       "      <td>0</td>\n",
       "      <td>0</td>\n",
       "      <td>1</td>\n",
       "    </tr>\n",
       "    <tr>\n",
       "      <th>2</th>\n",
       "      <td>0</td>\n",
       "      <td>0</td>\n",
       "      <td>0</td>\n",
       "      <td>0</td>\n",
       "      <td>0</td>\n",
       "      <td>0</td>\n",
       "      <td>0</td>\n",
       "      <td>0</td>\n",
       "      <td>0</td>\n",
       "      <td>0</td>\n",
       "      <td>...</td>\n",
       "      <td>0</td>\n",
       "      <td>0</td>\n",
       "      <td>0</td>\n",
       "      <td>0</td>\n",
       "      <td>0</td>\n",
       "      <td>0</td>\n",
       "      <td>0</td>\n",
       "      <td>0</td>\n",
       "      <td>0</td>\n",
       "      <td>0</td>\n",
       "    </tr>\n",
       "    <tr>\n",
       "      <th>3</th>\n",
       "      <td>0</td>\n",
       "      <td>0</td>\n",
       "      <td>0</td>\n",
       "      <td>0</td>\n",
       "      <td>0</td>\n",
       "      <td>0</td>\n",
       "      <td>0</td>\n",
       "      <td>0</td>\n",
       "      <td>0</td>\n",
       "      <td>0</td>\n",
       "      <td>...</td>\n",
       "      <td>0</td>\n",
       "      <td>0</td>\n",
       "      <td>0</td>\n",
       "      <td>0</td>\n",
       "      <td>0</td>\n",
       "      <td>0</td>\n",
       "      <td>0</td>\n",
       "      <td>0</td>\n",
       "      <td>0</td>\n",
       "      <td>0</td>\n",
       "    </tr>\n",
       "    <tr>\n",
       "      <th>4</th>\n",
       "      <td>0</td>\n",
       "      <td>0</td>\n",
       "      <td>0</td>\n",
       "      <td>0</td>\n",
       "      <td>0</td>\n",
       "      <td>0</td>\n",
       "      <td>0</td>\n",
       "      <td>0</td>\n",
       "      <td>0</td>\n",
       "      <td>0</td>\n",
       "      <td>...</td>\n",
       "      <td>0</td>\n",
       "      <td>0</td>\n",
       "      <td>0</td>\n",
       "      <td>0</td>\n",
       "      <td>0</td>\n",
       "      <td>0</td>\n",
       "      <td>0</td>\n",
       "      <td>0</td>\n",
       "      <td>0</td>\n",
       "      <td>0</td>\n",
       "    </tr>\n",
       "  </tbody>\n",
       "</table>\n",
       "<p>5 rows × 4500 columns</p>\n",
       "</div>"
      ],
      "text/plain": [
       "   0     1     2     3     4     5     6     7     8     9     ...  4490  \\\n",
       "0     0     0     0     0     0     0     0     0     0     0  ...     0   \n",
       "1     0     0     0     0     0     0     0     0     0     0  ...     0   \n",
       "2     0     0     0     0     0     0     0     0     0     0  ...     0   \n",
       "3     0     0     0     0     0     0     0     0     0     0  ...     0   \n",
       "4     0     0     0     0     0     0     0     0     0     0  ...     0   \n",
       "\n",
       "   4491  4492  4493  4494  4495  4496  4497  4498  4499  \n",
       "0     0     0     0     0     0     0     0     0     0  \n",
       "1     0     0     0     0     0     0     0     0     1  \n",
       "2     0     0     0     0     0     0     0     0     0  \n",
       "3     0     0     0     0     0     0     0     0     0  \n",
       "4     0     0     0     0     0     0     0     0     0  \n",
       "\n",
       "[5 rows x 4500 columns]"
      ]
     },
     "execution_count": 36,
     "metadata": {},
     "output_type": "execute_result"
    }
   ],
   "source": [
    "train_ohe.head()"
   ]
  },
  {
   "cell_type": "code",
   "execution_count": 37,
   "metadata": {},
   "outputs": [
    {
     "data": {
      "text/plain": [
       "((32769, 4500), (32769,))"
      ]
     },
     "execution_count": 37,
     "metadata": {},
     "output_type": "execute_result"
    }
   ],
   "source": [
    "X=train_ohe\n",
    "y=dataset.iloc[:,0]\n",
    "X.shape,y.shape"
   ]
  },
  {
   "cell_type": "code",
   "execution_count": 38,
   "metadata": {},
   "outputs": [],
   "source": [
    "from sklearn.model_selection import train_test_split\n",
    "\n",
    "X_train, X_test, y_train, y_test = train_test_split(X, y, test_size=0.2,random_state=0)"
   ]
  },
  {
   "cell_type": "code",
   "execution_count": 45,
   "metadata": {},
   "outputs": [],
   "source": [
    "classifier=Sequential()\n",
    "\n",
    "classifier.add(Dense(units=4500,activation='relu'))\n",
    "\n",
    "classifier.add(Dense(units=7,activation='relu'))\n",
    "\n",
    "classifier.add(Dense(units=6,activation='relu'))\n",
    "\n",
    "classifier.add(Dense(units=1,activation='sigmoid'))"
   ]
  },
  {
   "cell_type": "code",
   "execution_count": 46,
   "metadata": {},
   "outputs": [],
   "source": [
    "classifier.compile(optimizer='adam',loss='binary_crossentropy',metrics=['accuracy'])"
   ]
  },
  {
   "cell_type": "code",
   "execution_count": 47,
   "metadata": {},
   "outputs": [],
   "source": [
    "import tensorflow as tf\n",
    "early_stopping=tf.keras.callbacks.EarlyStopping(\n",
    "    monitor=\"val_loss\",\n",
    "    min_delta=0.0001,\n",
    "    patience=20,\n",
    "    verbose=1,\n",
    "    mode=\"auto\",\n",
    "    baseline=None,\n",
    "    restore_best_weights=False,\n",
    "    start_from_epoch=0,\n",
    ")"
   ]
  },
  {
   "cell_type": "code",
   "execution_count": 48,
   "metadata": {},
   "outputs": [
    {
     "name": "stdout",
     "output_type": "stream",
     "text": [
      "Epoch 1/100\n"
     ]
    },
    {
     "name": "stderr",
     "output_type": "stream",
     "text": [
      "C:\\Users\\harsh\\AppData\\Local\\Programs\\Python\\Python311\\Lib\\site-packages\\keras\\engine\\data_adapter.py:1700: FutureWarning: The behavior of `series[i:j]` with an integer-dtype index is deprecated. In a future version, this will be treated as *label-based* indexing, consistent with e.g. `series[i]` lookups. To retain the old behavior, use `series.iloc[i:j]`. To get the future behavior, use `series.loc[i:j]`.\n",
      "  return t[start:end]\n"
     ]
    },
    {
     "name": "stdout",
     "output_type": "stream",
     "text": [
      " 831/1757 [=============>................] - ETA: 4:22 - loss: 0.2166 - accuracy: 0.9396"
     ]
    },
    {
     "ename": "KeyboardInterrupt",
     "evalue": "",
     "output_type": "error",
     "traceback": [
      "\u001b[1;31m---------------------------------------------------------------------------\u001b[0m",
      "\u001b[1;31mKeyboardInterrupt\u001b[0m                         Traceback (most recent call last)",
      "Cell \u001b[1;32mIn[48], line 1\u001b[0m\n\u001b[1;32m----> 1\u001b[0m model_history\u001b[38;5;241m=\u001b[39m\u001b[43mclassifier\u001b[49m\u001b[38;5;241;43m.\u001b[39;49m\u001b[43mfit\u001b[49m\u001b[43m(\u001b[49m\u001b[43mX_train\u001b[49m\u001b[43m,\u001b[49m\u001b[43my_train\u001b[49m\u001b[43m,\u001b[49m\u001b[43mvalidation_split\u001b[49m\u001b[38;5;241;43m=\u001b[39;49m\u001b[38;5;241;43m0.33\u001b[39;49m\u001b[43m,\u001b[49m\u001b[43mbatch_size\u001b[49m\u001b[38;5;241;43m=\u001b[39;49m\u001b[38;5;241;43m10\u001b[39;49m\u001b[43m,\u001b[49m\u001b[43mepochs\u001b[49m\u001b[38;5;241;43m=\u001b[39;49m\u001b[38;5;241;43m100\u001b[39;49m\u001b[43m,\u001b[49m\u001b[43mcallbacks\u001b[49m\u001b[38;5;241;43m=\u001b[39;49m\u001b[43mearly_stopping\u001b[49m\u001b[43m)\u001b[49m\n",
      "File \u001b[1;32m~\\AppData\\Local\\Programs\\Python\\Python311\\Lib\\site-packages\\keras\\utils\\traceback_utils.py:65\u001b[0m, in \u001b[0;36mfilter_traceback.<locals>.error_handler\u001b[1;34m(*args, **kwargs)\u001b[0m\n\u001b[0;32m     63\u001b[0m filtered_tb \u001b[38;5;241m=\u001b[39m \u001b[38;5;28;01mNone\u001b[39;00m\n\u001b[0;32m     64\u001b[0m \u001b[38;5;28;01mtry\u001b[39;00m:\n\u001b[1;32m---> 65\u001b[0m     \u001b[38;5;28;01mreturn\u001b[39;00m \u001b[43mfn\u001b[49m\u001b[43m(\u001b[49m\u001b[38;5;241;43m*\u001b[39;49m\u001b[43margs\u001b[49m\u001b[43m,\u001b[49m\u001b[43m \u001b[49m\u001b[38;5;241;43m*\u001b[39;49m\u001b[38;5;241;43m*\u001b[39;49m\u001b[43mkwargs\u001b[49m\u001b[43m)\u001b[49m\n\u001b[0;32m     66\u001b[0m \u001b[38;5;28;01mexcept\u001b[39;00m \u001b[38;5;167;01mException\u001b[39;00m \u001b[38;5;28;01mas\u001b[39;00m e:\n\u001b[0;32m     67\u001b[0m     filtered_tb \u001b[38;5;241m=\u001b[39m _process_traceback_frames(e\u001b[38;5;241m.\u001b[39m__traceback__)\n",
      "File \u001b[1;32m~\\AppData\\Local\\Programs\\Python\\Python311\\Lib\\site-packages\\keras\\engine\\training.py:1685\u001b[0m, in \u001b[0;36mModel.fit\u001b[1;34m(self, x, y, batch_size, epochs, verbose, callbacks, validation_split, validation_data, shuffle, class_weight, sample_weight, initial_epoch, steps_per_epoch, validation_steps, validation_batch_size, validation_freq, max_queue_size, workers, use_multiprocessing)\u001b[0m\n\u001b[0;32m   1677\u001b[0m \u001b[38;5;28;01mwith\u001b[39;00m tf\u001b[38;5;241m.\u001b[39mprofiler\u001b[38;5;241m.\u001b[39mexperimental\u001b[38;5;241m.\u001b[39mTrace(\n\u001b[0;32m   1678\u001b[0m     \u001b[38;5;124m\"\u001b[39m\u001b[38;5;124mtrain\u001b[39m\u001b[38;5;124m\"\u001b[39m,\n\u001b[0;32m   1679\u001b[0m     epoch_num\u001b[38;5;241m=\u001b[39mepoch,\n\u001b[1;32m   (...)\u001b[0m\n\u001b[0;32m   1682\u001b[0m     _r\u001b[38;5;241m=\u001b[39m\u001b[38;5;241m1\u001b[39m,\n\u001b[0;32m   1683\u001b[0m ):\n\u001b[0;32m   1684\u001b[0m     callbacks\u001b[38;5;241m.\u001b[39mon_train_batch_begin(step)\n\u001b[1;32m-> 1685\u001b[0m     tmp_logs \u001b[38;5;241m=\u001b[39m \u001b[38;5;28;43mself\u001b[39;49m\u001b[38;5;241;43m.\u001b[39;49m\u001b[43mtrain_function\u001b[49m\u001b[43m(\u001b[49m\u001b[43miterator\u001b[49m\u001b[43m)\u001b[49m\n\u001b[0;32m   1686\u001b[0m     \u001b[38;5;28;01mif\u001b[39;00m data_handler\u001b[38;5;241m.\u001b[39mshould_sync:\n\u001b[0;32m   1687\u001b[0m         context\u001b[38;5;241m.\u001b[39masync_wait()\n",
      "File \u001b[1;32m~\\AppData\\Local\\Programs\\Python\\Python311\\Lib\\site-packages\\tensorflow\\python\\util\\traceback_utils.py:150\u001b[0m, in \u001b[0;36mfilter_traceback.<locals>.error_handler\u001b[1;34m(*args, **kwargs)\u001b[0m\n\u001b[0;32m    148\u001b[0m filtered_tb \u001b[38;5;241m=\u001b[39m \u001b[38;5;28;01mNone\u001b[39;00m\n\u001b[0;32m    149\u001b[0m \u001b[38;5;28;01mtry\u001b[39;00m:\n\u001b[1;32m--> 150\u001b[0m   \u001b[38;5;28;01mreturn\u001b[39;00m \u001b[43mfn\u001b[49m\u001b[43m(\u001b[49m\u001b[38;5;241;43m*\u001b[39;49m\u001b[43margs\u001b[49m\u001b[43m,\u001b[49m\u001b[43m \u001b[49m\u001b[38;5;241;43m*\u001b[39;49m\u001b[38;5;241;43m*\u001b[39;49m\u001b[43mkwargs\u001b[49m\u001b[43m)\u001b[49m\n\u001b[0;32m    151\u001b[0m \u001b[38;5;28;01mexcept\u001b[39;00m \u001b[38;5;167;01mException\u001b[39;00m \u001b[38;5;28;01mas\u001b[39;00m e:\n\u001b[0;32m    152\u001b[0m   filtered_tb \u001b[38;5;241m=\u001b[39m _process_traceback_frames(e\u001b[38;5;241m.\u001b[39m__traceback__)\n",
      "File \u001b[1;32m~\\AppData\\Local\\Programs\\Python\\Python311\\Lib\\site-packages\\tensorflow\\python\\eager\\polymorphic_function\\polymorphic_function.py:894\u001b[0m, in \u001b[0;36mFunction.__call__\u001b[1;34m(self, *args, **kwds)\u001b[0m\n\u001b[0;32m    891\u001b[0m compiler \u001b[38;5;241m=\u001b[39m \u001b[38;5;124m\"\u001b[39m\u001b[38;5;124mxla\u001b[39m\u001b[38;5;124m\"\u001b[39m \u001b[38;5;28;01mif\u001b[39;00m \u001b[38;5;28mself\u001b[39m\u001b[38;5;241m.\u001b[39m_jit_compile \u001b[38;5;28;01melse\u001b[39;00m \u001b[38;5;124m\"\u001b[39m\u001b[38;5;124mnonXla\u001b[39m\u001b[38;5;124m\"\u001b[39m\n\u001b[0;32m    893\u001b[0m \u001b[38;5;28;01mwith\u001b[39;00m OptionalXlaContext(\u001b[38;5;28mself\u001b[39m\u001b[38;5;241m.\u001b[39m_jit_compile):\n\u001b[1;32m--> 894\u001b[0m   result \u001b[38;5;241m=\u001b[39m \u001b[38;5;28;43mself\u001b[39;49m\u001b[38;5;241;43m.\u001b[39;49m\u001b[43m_call\u001b[49m\u001b[43m(\u001b[49m\u001b[38;5;241;43m*\u001b[39;49m\u001b[43margs\u001b[49m\u001b[43m,\u001b[49m\u001b[43m \u001b[49m\u001b[38;5;241;43m*\u001b[39;49m\u001b[38;5;241;43m*\u001b[39;49m\u001b[43mkwds\u001b[49m\u001b[43m)\u001b[49m\n\u001b[0;32m    896\u001b[0m new_tracing_count \u001b[38;5;241m=\u001b[39m \u001b[38;5;28mself\u001b[39m\u001b[38;5;241m.\u001b[39mexperimental_get_tracing_count()\n\u001b[0;32m    897\u001b[0m without_tracing \u001b[38;5;241m=\u001b[39m (tracing_count \u001b[38;5;241m==\u001b[39m new_tracing_count)\n",
      "File \u001b[1;32m~\\AppData\\Local\\Programs\\Python\\Python311\\Lib\\site-packages\\tensorflow\\python\\eager\\polymorphic_function\\polymorphic_function.py:926\u001b[0m, in \u001b[0;36mFunction._call\u001b[1;34m(self, *args, **kwds)\u001b[0m\n\u001b[0;32m    923\u001b[0m   \u001b[38;5;28mself\u001b[39m\u001b[38;5;241m.\u001b[39m_lock\u001b[38;5;241m.\u001b[39mrelease()\n\u001b[0;32m    924\u001b[0m   \u001b[38;5;66;03m# In this case we have created variables on the first call, so we run the\u001b[39;00m\n\u001b[0;32m    925\u001b[0m   \u001b[38;5;66;03m# defunned version which is guaranteed to never create variables.\u001b[39;00m\n\u001b[1;32m--> 926\u001b[0m   \u001b[38;5;28;01mreturn\u001b[39;00m \u001b[38;5;28;43mself\u001b[39;49m\u001b[38;5;241;43m.\u001b[39;49m\u001b[43m_no_variable_creation_fn\u001b[49m\u001b[43m(\u001b[49m\u001b[38;5;241;43m*\u001b[39;49m\u001b[43margs\u001b[49m\u001b[43m,\u001b[49m\u001b[43m \u001b[49m\u001b[38;5;241;43m*\u001b[39;49m\u001b[38;5;241;43m*\u001b[39;49m\u001b[43mkwds\u001b[49m\u001b[43m)\u001b[49m  \u001b[38;5;66;03m# pylint: disable=not-callable\u001b[39;00m\n\u001b[0;32m    927\u001b[0m \u001b[38;5;28;01melif\u001b[39;00m \u001b[38;5;28mself\u001b[39m\u001b[38;5;241m.\u001b[39m_variable_creation_fn \u001b[38;5;129;01mis\u001b[39;00m \u001b[38;5;129;01mnot\u001b[39;00m \u001b[38;5;28;01mNone\u001b[39;00m:\n\u001b[0;32m    928\u001b[0m   \u001b[38;5;66;03m# Release the lock early so that multiple threads can perform the call\u001b[39;00m\n\u001b[0;32m    929\u001b[0m   \u001b[38;5;66;03m# in parallel.\u001b[39;00m\n\u001b[0;32m    930\u001b[0m   \u001b[38;5;28mself\u001b[39m\u001b[38;5;241m.\u001b[39m_lock\u001b[38;5;241m.\u001b[39mrelease()\n",
      "File \u001b[1;32m~\\AppData\\Local\\Programs\\Python\\Python311\\Lib\\site-packages\\tensorflow\\python\\eager\\polymorphic_function\\tracing_compiler.py:143\u001b[0m, in \u001b[0;36mTracingCompiler.__call__\u001b[1;34m(self, *args, **kwargs)\u001b[0m\n\u001b[0;32m    140\u001b[0m \u001b[38;5;28;01mwith\u001b[39;00m \u001b[38;5;28mself\u001b[39m\u001b[38;5;241m.\u001b[39m_lock:\n\u001b[0;32m    141\u001b[0m   (concrete_function,\n\u001b[0;32m    142\u001b[0m    filtered_flat_args) \u001b[38;5;241m=\u001b[39m \u001b[38;5;28mself\u001b[39m\u001b[38;5;241m.\u001b[39m_maybe_define_function(args, kwargs)\n\u001b[1;32m--> 143\u001b[0m \u001b[38;5;28;01mreturn\u001b[39;00m \u001b[43mconcrete_function\u001b[49m\u001b[38;5;241;43m.\u001b[39;49m\u001b[43m_call_flat\u001b[49m\u001b[43m(\u001b[49m\n\u001b[0;32m    144\u001b[0m \u001b[43m    \u001b[49m\u001b[43mfiltered_flat_args\u001b[49m\u001b[43m,\u001b[49m\u001b[43m \u001b[49m\u001b[43mcaptured_inputs\u001b[49m\u001b[38;5;241;43m=\u001b[39;49m\u001b[43mconcrete_function\u001b[49m\u001b[38;5;241;43m.\u001b[39;49m\u001b[43mcaptured_inputs\u001b[49m\u001b[43m)\u001b[49m\n",
      "File \u001b[1;32m~\\AppData\\Local\\Programs\\Python\\Python311\\Lib\\site-packages\\tensorflow\\python\\eager\\polymorphic_function\\monomorphic_function.py:1757\u001b[0m, in \u001b[0;36mConcreteFunction._call_flat\u001b[1;34m(self, args, captured_inputs, cancellation_manager)\u001b[0m\n\u001b[0;32m   1753\u001b[0m possible_gradient_type \u001b[38;5;241m=\u001b[39m gradients_util\u001b[38;5;241m.\u001b[39mPossibleTapeGradientTypes(args)\n\u001b[0;32m   1754\u001b[0m \u001b[38;5;28;01mif\u001b[39;00m (possible_gradient_type \u001b[38;5;241m==\u001b[39m gradients_util\u001b[38;5;241m.\u001b[39mPOSSIBLE_GRADIENT_TYPES_NONE\n\u001b[0;32m   1755\u001b[0m     \u001b[38;5;129;01mand\u001b[39;00m executing_eagerly):\n\u001b[0;32m   1756\u001b[0m   \u001b[38;5;66;03m# No tape is watching; skip to running the function.\u001b[39;00m\n\u001b[1;32m-> 1757\u001b[0m   \u001b[38;5;28;01mreturn\u001b[39;00m \u001b[38;5;28mself\u001b[39m\u001b[38;5;241m.\u001b[39m_build_call_outputs(\u001b[38;5;28;43mself\u001b[39;49m\u001b[38;5;241;43m.\u001b[39;49m\u001b[43m_inference_function\u001b[49m\u001b[38;5;241;43m.\u001b[39;49m\u001b[43mcall\u001b[49m\u001b[43m(\u001b[49m\n\u001b[0;32m   1758\u001b[0m \u001b[43m      \u001b[49m\u001b[43mctx\u001b[49m\u001b[43m,\u001b[49m\u001b[43m \u001b[49m\u001b[43margs\u001b[49m\u001b[43m,\u001b[49m\u001b[43m \u001b[49m\u001b[43mcancellation_manager\u001b[49m\u001b[38;5;241;43m=\u001b[39;49m\u001b[43mcancellation_manager\u001b[49m\u001b[43m)\u001b[49m)\n\u001b[0;32m   1759\u001b[0m forward_backward \u001b[38;5;241m=\u001b[39m \u001b[38;5;28mself\u001b[39m\u001b[38;5;241m.\u001b[39m_select_forward_and_backward_functions(\n\u001b[0;32m   1760\u001b[0m     args,\n\u001b[0;32m   1761\u001b[0m     possible_gradient_type,\n\u001b[0;32m   1762\u001b[0m     executing_eagerly)\n\u001b[0;32m   1763\u001b[0m forward_function, args_with_tangents \u001b[38;5;241m=\u001b[39m forward_backward\u001b[38;5;241m.\u001b[39mforward()\n",
      "File \u001b[1;32m~\\AppData\\Local\\Programs\\Python\\Python311\\Lib\\site-packages\\tensorflow\\python\\eager\\polymorphic_function\\monomorphic_function.py:381\u001b[0m, in \u001b[0;36m_EagerDefinedFunction.call\u001b[1;34m(self, ctx, args, cancellation_manager)\u001b[0m\n\u001b[0;32m    379\u001b[0m \u001b[38;5;28;01mwith\u001b[39;00m _InterpolateFunctionError(\u001b[38;5;28mself\u001b[39m):\n\u001b[0;32m    380\u001b[0m   \u001b[38;5;28;01mif\u001b[39;00m cancellation_manager \u001b[38;5;129;01mis\u001b[39;00m \u001b[38;5;28;01mNone\u001b[39;00m:\n\u001b[1;32m--> 381\u001b[0m     outputs \u001b[38;5;241m=\u001b[39m \u001b[43mexecute\u001b[49m\u001b[38;5;241;43m.\u001b[39;49m\u001b[43mexecute\u001b[49m\u001b[43m(\u001b[49m\n\u001b[0;32m    382\u001b[0m \u001b[43m        \u001b[49m\u001b[38;5;28;43mstr\u001b[39;49m\u001b[43m(\u001b[49m\u001b[38;5;28;43mself\u001b[39;49m\u001b[38;5;241;43m.\u001b[39;49m\u001b[43msignature\u001b[49m\u001b[38;5;241;43m.\u001b[39;49m\u001b[43mname\u001b[49m\u001b[43m)\u001b[49m\u001b[43m,\u001b[49m\n\u001b[0;32m    383\u001b[0m \u001b[43m        \u001b[49m\u001b[43mnum_outputs\u001b[49m\u001b[38;5;241;43m=\u001b[39;49m\u001b[38;5;28;43mself\u001b[39;49m\u001b[38;5;241;43m.\u001b[39;49m\u001b[43m_num_outputs\u001b[49m\u001b[43m,\u001b[49m\n\u001b[0;32m    384\u001b[0m \u001b[43m        \u001b[49m\u001b[43minputs\u001b[49m\u001b[38;5;241;43m=\u001b[39;49m\u001b[43margs\u001b[49m\u001b[43m,\u001b[49m\n\u001b[0;32m    385\u001b[0m \u001b[43m        \u001b[49m\u001b[43mattrs\u001b[49m\u001b[38;5;241;43m=\u001b[39;49m\u001b[43mattrs\u001b[49m\u001b[43m,\u001b[49m\n\u001b[0;32m    386\u001b[0m \u001b[43m        \u001b[49m\u001b[43mctx\u001b[49m\u001b[38;5;241;43m=\u001b[39;49m\u001b[43mctx\u001b[49m\u001b[43m)\u001b[49m\n\u001b[0;32m    387\u001b[0m   \u001b[38;5;28;01melse\u001b[39;00m:\n\u001b[0;32m    388\u001b[0m     outputs \u001b[38;5;241m=\u001b[39m execute\u001b[38;5;241m.\u001b[39mexecute_with_cancellation(\n\u001b[0;32m    389\u001b[0m         \u001b[38;5;28mstr\u001b[39m(\u001b[38;5;28mself\u001b[39m\u001b[38;5;241m.\u001b[39msignature\u001b[38;5;241m.\u001b[39mname),\n\u001b[0;32m    390\u001b[0m         num_outputs\u001b[38;5;241m=\u001b[39m\u001b[38;5;28mself\u001b[39m\u001b[38;5;241m.\u001b[39m_num_outputs,\n\u001b[1;32m   (...)\u001b[0m\n\u001b[0;32m    393\u001b[0m         ctx\u001b[38;5;241m=\u001b[39mctx,\n\u001b[0;32m    394\u001b[0m         cancellation_manager\u001b[38;5;241m=\u001b[39mcancellation_manager)\n",
      "File \u001b[1;32m~\\AppData\\Local\\Programs\\Python\\Python311\\Lib\\site-packages\\tensorflow\\python\\eager\\execute.py:52\u001b[0m, in \u001b[0;36mquick_execute\u001b[1;34m(op_name, num_outputs, inputs, attrs, ctx, name)\u001b[0m\n\u001b[0;32m     50\u001b[0m \u001b[38;5;28;01mtry\u001b[39;00m:\n\u001b[0;32m     51\u001b[0m   ctx\u001b[38;5;241m.\u001b[39mensure_initialized()\n\u001b[1;32m---> 52\u001b[0m   tensors \u001b[38;5;241m=\u001b[39m \u001b[43mpywrap_tfe\u001b[49m\u001b[38;5;241;43m.\u001b[39;49m\u001b[43mTFE_Py_Execute\u001b[49m\u001b[43m(\u001b[49m\u001b[43mctx\u001b[49m\u001b[38;5;241;43m.\u001b[39;49m\u001b[43m_handle\u001b[49m\u001b[43m,\u001b[49m\u001b[43m \u001b[49m\u001b[43mdevice_name\u001b[49m\u001b[43m,\u001b[49m\u001b[43m \u001b[49m\u001b[43mop_name\u001b[49m\u001b[43m,\u001b[49m\n\u001b[0;32m     53\u001b[0m \u001b[43m                                      \u001b[49m\u001b[43minputs\u001b[49m\u001b[43m,\u001b[49m\u001b[43m \u001b[49m\u001b[43mattrs\u001b[49m\u001b[43m,\u001b[49m\u001b[43m \u001b[49m\u001b[43mnum_outputs\u001b[49m\u001b[43m)\u001b[49m\n\u001b[0;32m     54\u001b[0m \u001b[38;5;28;01mexcept\u001b[39;00m core\u001b[38;5;241m.\u001b[39m_NotOkStatusException \u001b[38;5;28;01mas\u001b[39;00m e:\n\u001b[0;32m     55\u001b[0m   \u001b[38;5;28;01mif\u001b[39;00m name \u001b[38;5;129;01mis\u001b[39;00m \u001b[38;5;129;01mnot\u001b[39;00m \u001b[38;5;28;01mNone\u001b[39;00m:\n",
      "\u001b[1;31mKeyboardInterrupt\u001b[0m: "
     ]
    }
   ],
   "source": [
    "model_history=classifier.fit(X_train,y_train,validation_split=0.33,batch_size=10,epochs=100,callbacks=early_stopping)"
   ]
  },
  {
   "cell_type": "code",
   "execution_count": null,
   "metadata": {},
   "outputs": [],
   "source": []
  }
 ],
 "metadata": {
  "kernelspec": {
   "display_name": "Python 3 (ipykernel)",
   "language": "python",
   "name": "python3"
  },
  "language_info": {
   "codemirror_mode": {
    "name": "ipython",
    "version": 3
   },
   "file_extension": ".py",
   "mimetype": "text/x-python",
   "name": "python",
   "nbconvert_exporter": "python",
   "pygments_lexer": "ipython3",
   "version": "3.11.1"
  },
  "vscode": {
   "interpreter": {
    "hash": "b5366fdf1b75ea46866cbb0dbf20c9c00a492271cd056179d726b8c91a378c13"
   }
  }
 },
 "nbformat": 4,
 "nbformat_minor": 2
}
